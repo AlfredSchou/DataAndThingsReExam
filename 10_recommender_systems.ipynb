{
 "cells": [
  {
   "cell_type": "markdown",
   "metadata": {
    "id": "1iBO91WLek8F"
   },
   "source": [
    "# 10: Recommender Systems\n",
    "\n",
    "The hand-in exercise for this topic is Exercise 1 from the notebook “Exercises in Recommender systems.ipynb\""
   ]
  },
  {
   "cell_type": "markdown",
   "metadata": {
    "id": "e6R-Bs42etLN"
   },
   "source": [
    "---"
   ]
  },
  {
   "cell_type": "markdown",
   "metadata": {
    "id": "t_h7P_tTet09"
   },
   "source": [
    "## Exercise 1\n",
    "\n",
    "Using the \"Coursera Courses Dataset 2021\" available at kaggle ([https://www.kaggle.com/datasets/khusheekapoor/coursera-courses-dataset-2021](https://www.kaggle.com/datasets/khusheekapoor/coursera-courses-dataset-2021)) or on moodle, to do the following:\n",
    "\n",
    "1. Create a Content-based filtering recommender system based on the Course Descriptions.\n",
    "2. Create a Content-based filtering recommender system based on the Skills.\n",
    "\n",
    "Using the \"Book Recommendation Dataset\" available at kaggle ([https://www.kaggle.com/datasets/arashnic/book-recommendation-dataset](https://www.kaggle.com/datasets/arashnic/book-recommendation-dataset)) or on moodle, to do the following:\n",
    "\n",
    "3. Load in the `Ratings.csv` file (on moodle, it is called `Books_Ratings.csv`). Group by `User-ID` and sort by `Book-Rating` in descending order to get the users who rated most books. Filter the rating data to only contain the 200 users that rated most books.\n",
    "4. Create a Collaborative filtering recommender system based on the user ratings from 3 together with the `Books.csv` dataset."
   ]
  },
  {
   "cell_type": "markdown",
   "metadata": {
    "id": "8YxeWYEgfC6P"
   },
   "source": [
    "---"
   ]
  },
  {
   "cell_type": "code",
   "execution_count": 34,
   "metadata": {
    "executionInfo": {
     "elapsed": 1,
     "status": "ok",
     "timestamp": 1742069658715,
     "user": {
      "displayName": "Daniel Iversen",
      "userId": "04843677771367093898"
     },
     "user_tz": -60
    },
    "id": "7PbIJHw4fEfD"
   },
   "outputs": [],
   "source": [
    "# Lib imports for the notebook\n",
    "import pandas as pd\n",
    "from sklearn.feature_extraction.text import TfidfVectorizer\n",
    "from sklearn.metrics.pairwise import cosine_similarity"
   ]
  },
  {
   "cell_type": "markdown",
   "metadata": {
    "id": "64kHIEQhf9bH"
   },
   "source": [
    "---"
   ]
  },
  {
   "cell_type": "markdown",
   "metadata": {
    "id": "00tY5NVQf-Fm"
   },
   "source": [
    "### Coursera Courses Dataset 2021\n",
    "1. Create a Content-based filtering recommender system based on the Course Descriptions.\n",
    "2. Create a Content-based filtering recommender system based on the Skills."
   ]
  },
  {
   "cell_type": "markdown",
   "metadata": {
    "id": "wG4GLfpQhAMF"
   },
   "source": [
    "Some EDA to prepare and look at the structure of the data"
   ]
  },
  {
   "cell_type": "code",
   "execution_count": 35,
   "metadata": {
    "executionInfo": {
     "elapsed": 61,
     "status": "ok",
     "timestamp": 1742069658776,
     "user": {
      "displayName": "Daniel Iversen",
      "userId": "04843677771367093898"
     },
     "user_tz": -60
    },
    "id": "53iHEDtFfKvR"
   },
   "outputs": [],
   "source": [
    "coursera_data = pd.read_csv('Coursera.csv')"
   ]
  },
  {
   "cell_type": "code",
   "execution_count": 36,
   "metadata": {
    "colab": {
     "base_uri": "https://localhost:8080/",
     "height": 728
    },
    "executionInfo": {
     "elapsed": 160,
     "status": "ok",
     "timestamp": 1742069658950,
     "user": {
      "displayName": "Daniel Iversen",
      "userId": "04843677771367093898"
     },
     "user_tz": -60
    },
    "id": "ucsnvizJgTAB",
    "outputId": "fe838f87-eb1d-4a98-d551-393938aad641"
   },
   "outputs": [
    {
     "data": {
      "text/html": [
       "<div>\n",
       "<style scoped>\n",
       "    .dataframe tbody tr th:only-of-type {\n",
       "        vertical-align: middle;\n",
       "    }\n",
       "\n",
       "    .dataframe tbody tr th {\n",
       "        vertical-align: top;\n",
       "    }\n",
       "\n",
       "    .dataframe thead th {\n",
       "        text-align: right;\n",
       "    }\n",
       "</style>\n",
       "<table border=\"1\" class=\"dataframe\">\n",
       "  <thead>\n",
       "    <tr style=\"text-align: right;\">\n",
       "      <th></th>\n",
       "      <th>Course Name</th>\n",
       "      <th>University</th>\n",
       "      <th>Difficulty Level</th>\n",
       "      <th>Course Rating</th>\n",
       "      <th>Course URL</th>\n",
       "      <th>Course Description</th>\n",
       "      <th>Skills</th>\n",
       "    </tr>\n",
       "  </thead>\n",
       "  <tbody>\n",
       "    <tr>\n",
       "      <th>0</th>\n",
       "      <td>Write A Feature Length Screenplay For Film Or ...</td>\n",
       "      <td>Michigan State University</td>\n",
       "      <td>Beginner</td>\n",
       "      <td>4.8</td>\n",
       "      <td>https://www.coursera.org/learn/write-a-feature...</td>\n",
       "      <td>Write a Full Length Feature Film Script  In th...</td>\n",
       "      <td>Drama  Comedy  peering  screenwriting  film  D...</td>\n",
       "    </tr>\n",
       "    <tr>\n",
       "      <th>1</th>\n",
       "      <td>Business Strategy: Business Model Canvas Analy...</td>\n",
       "      <td>Coursera Project Network</td>\n",
       "      <td>Beginner</td>\n",
       "      <td>4.8</td>\n",
       "      <td>https://www.coursera.org/learn/canvas-analysis...</td>\n",
       "      <td>By the end of this guided project, you will be...</td>\n",
       "      <td>Finance  business plan  persona (user experien...</td>\n",
       "    </tr>\n",
       "    <tr>\n",
       "      <th>2</th>\n",
       "      <td>Silicon Thin Film Solar Cells</td>\n",
       "      <td>�cole Polytechnique</td>\n",
       "      <td>Advanced</td>\n",
       "      <td>4.1</td>\n",
       "      <td>https://www.coursera.org/learn/silicon-thin-fi...</td>\n",
       "      <td>This course consists of a general presentation...</td>\n",
       "      <td>chemistry  physics  Solar Energy  film  lambda...</td>\n",
       "    </tr>\n",
       "    <tr>\n",
       "      <th>3</th>\n",
       "      <td>Finance for Managers</td>\n",
       "      <td>IESE Business School</td>\n",
       "      <td>Intermediate</td>\n",
       "      <td>4.8</td>\n",
       "      <td>https://www.coursera.org/learn/operational-fin...</td>\n",
       "      <td>When it comes to numbers, there is always more...</td>\n",
       "      <td>accounts receivable  dupont analysis  analysis...</td>\n",
       "    </tr>\n",
       "    <tr>\n",
       "      <th>4</th>\n",
       "      <td>Retrieve Data using Single-Table SQL Queries</td>\n",
       "      <td>Coursera Project Network</td>\n",
       "      <td>Beginner</td>\n",
       "      <td>4.6</td>\n",
       "      <td>https://www.coursera.org/learn/single-table-sq...</td>\n",
       "      <td>In this course you�ll learn how to effectively...</td>\n",
       "      <td>Data Analysis  select (sql)  database manageme...</td>\n",
       "    </tr>\n",
       "    <tr>\n",
       "      <th>5</th>\n",
       "      <td>Building Test Automation Framework using Selen...</td>\n",
       "      <td>Coursera Project Network</td>\n",
       "      <td>Beginner</td>\n",
       "      <td>4.7</td>\n",
       "      <td>https://www.coursera.org/learn/building-test-a...</td>\n",
       "      <td>Selenium is one of the most widely used functi...</td>\n",
       "      <td>maintenance  test case  test automation  scree...</td>\n",
       "    </tr>\n",
       "    <tr>\n",
       "      <th>6</th>\n",
       "      <td>Doing Business in China Capstone</td>\n",
       "      <td>The Chinese University of Hong Kong</td>\n",
       "      <td>Advanced</td>\n",
       "      <td>3.3</td>\n",
       "      <td>https://www.coursera.org/learn/doing-business-...</td>\n",
       "      <td>Doing Business in China Capstone enables you t...</td>\n",
       "      <td>marketing plan  Planning  Marketing  consumpti...</td>\n",
       "    </tr>\n",
       "    <tr>\n",
       "      <th>7</th>\n",
       "      <td>Programming Languages, Part A</td>\n",
       "      <td>University of Washington</td>\n",
       "      <td>Intermediate</td>\n",
       "      <td>4.9</td>\n",
       "      <td>https://www.coursera.org/learn/programming-lan...</td>\n",
       "      <td>This course is an introduction to the basic co...</td>\n",
       "      <td>inference  ml (programming language)  higher-o...</td>\n",
       "    </tr>\n",
       "    <tr>\n",
       "      <th>8</th>\n",
       "      <td>The Roles and Responsibilities of Nonprofit Bo...</td>\n",
       "      <td>The State University of New York</td>\n",
       "      <td>Intermediate</td>\n",
       "      <td>4.3</td>\n",
       "      <td>https://www.coursera.org/learn/nonprofit-gov-2</td>\n",
       "      <td>This course provides a more in-depth look at t...</td>\n",
       "      <td>Planning  Peer Review  fundraising  strategic ...</td>\n",
       "    </tr>\n",
       "    <tr>\n",
       "      <th>9</th>\n",
       "      <td>Business Russian Communication. Part 3</td>\n",
       "      <td>Saint Petersburg State University</td>\n",
       "      <td>Intermediate</td>\n",
       "      <td>Not Calibrated</td>\n",
       "      <td>https://www.coursera.org/learn/business-russia...</td>\n",
       "      <td>Russian is considered to be one of the most di...</td>\n",
       "      <td>Russian  market (economics)  tax exemption  co...</td>\n",
       "    </tr>\n",
       "  </tbody>\n",
       "</table>\n",
       "</div>"
      ],
      "text/plain": [
       "                                         Course Name  \\\n",
       "0  Write A Feature Length Screenplay For Film Or ...   \n",
       "1  Business Strategy: Business Model Canvas Analy...   \n",
       "2                      Silicon Thin Film Solar Cells   \n",
       "3                               Finance for Managers   \n",
       "4       Retrieve Data using Single-Table SQL Queries   \n",
       "5  Building Test Automation Framework using Selen...   \n",
       "6                   Doing Business in China Capstone   \n",
       "7                      Programming Languages, Part A   \n",
       "8  The Roles and Responsibilities of Nonprofit Bo...   \n",
       "9             Business Russian Communication. Part 3   \n",
       "\n",
       "                            University Difficulty Level   Course Rating  \\\n",
       "0            Michigan State University         Beginner             4.8   \n",
       "1             Coursera Project Network         Beginner             4.8   \n",
       "2                  �cole Polytechnique         Advanced             4.1   \n",
       "3                 IESE Business School     Intermediate             4.8   \n",
       "4             Coursera Project Network         Beginner             4.6   \n",
       "5             Coursera Project Network         Beginner             4.7   \n",
       "6  The Chinese University of Hong Kong         Advanced             3.3   \n",
       "7             University of Washington     Intermediate             4.9   \n",
       "8     The State University of New York     Intermediate             4.3   \n",
       "9    Saint Petersburg State University     Intermediate  Not Calibrated   \n",
       "\n",
       "                                          Course URL  \\\n",
       "0  https://www.coursera.org/learn/write-a-feature...   \n",
       "1  https://www.coursera.org/learn/canvas-analysis...   \n",
       "2  https://www.coursera.org/learn/silicon-thin-fi...   \n",
       "3  https://www.coursera.org/learn/operational-fin...   \n",
       "4  https://www.coursera.org/learn/single-table-sq...   \n",
       "5  https://www.coursera.org/learn/building-test-a...   \n",
       "6  https://www.coursera.org/learn/doing-business-...   \n",
       "7  https://www.coursera.org/learn/programming-lan...   \n",
       "8     https://www.coursera.org/learn/nonprofit-gov-2   \n",
       "9  https://www.coursera.org/learn/business-russia...   \n",
       "\n",
       "                                  Course Description  \\\n",
       "0  Write a Full Length Feature Film Script  In th...   \n",
       "1  By the end of this guided project, you will be...   \n",
       "2  This course consists of a general presentation...   \n",
       "3  When it comes to numbers, there is always more...   \n",
       "4  In this course you�ll learn how to effectively...   \n",
       "5  Selenium is one of the most widely used functi...   \n",
       "6  Doing Business in China Capstone enables you t...   \n",
       "7  This course is an introduction to the basic co...   \n",
       "8  This course provides a more in-depth look at t...   \n",
       "9  Russian is considered to be one of the most di...   \n",
       "\n",
       "                                              Skills  \n",
       "0  Drama  Comedy  peering  screenwriting  film  D...  \n",
       "1  Finance  business plan  persona (user experien...  \n",
       "2  chemistry  physics  Solar Energy  film  lambda...  \n",
       "3  accounts receivable  dupont analysis  analysis...  \n",
       "4  Data Analysis  select (sql)  database manageme...  \n",
       "5  maintenance  test case  test automation  scree...  \n",
       "6  marketing plan  Planning  Marketing  consumpti...  \n",
       "7  inference  ml (programming language)  higher-o...  \n",
       "8  Planning  Peer Review  fundraising  strategic ...  \n",
       "9  Russian  market (economics)  tax exemption  co...  "
      ]
     },
     "execution_count": 36,
     "metadata": {},
     "output_type": "execute_result"
    }
   ],
   "source": [
    "coursera_data.head(10)"
   ]
  },
  {
   "cell_type": "code",
   "execution_count": 37,
   "metadata": {
    "colab": {
     "base_uri": "https://localhost:8080/"
    },
    "executionInfo": {
     "elapsed": 76,
     "status": "ok",
     "timestamp": 1742069659027,
     "user": {
      "displayName": "Daniel Iversen",
      "userId": "04843677771367093898"
     },
     "user_tz": -60
    },
    "id": "rD0GNQgcgZjo",
    "outputId": "0734abe5-b8eb-4cc0-bea9-a1b708da12a1"
   },
   "outputs": [
    {
     "name": "stdout",
     "output_type": "stream",
     "text": [
      "<class 'pandas.core.frame.DataFrame'>\n",
      "RangeIndex: 3522 entries, 0 to 3521\n",
      "Data columns (total 7 columns):\n",
      " #   Column              Non-Null Count  Dtype \n",
      "---  ------              --------------  ----- \n",
      " 0   Course Name         3522 non-null   object\n",
      " 1   University          3522 non-null   object\n",
      " 2   Difficulty Level    3522 non-null   object\n",
      " 3   Course Rating       3522 non-null   object\n",
      " 4   Course URL          3522 non-null   object\n",
      " 5   Course Description  3522 non-null   object\n",
      " 6   Skills              3522 non-null   object\n",
      "dtypes: object(7)\n",
      "memory usage: 192.7+ KB\n"
     ]
    }
   ],
   "source": [
    "coursera_data.info()"
   ]
  },
  {
   "cell_type": "markdown",
   "metadata": {
    "id": "EW0uUQqcn-8y"
   },
   "source": [
    "---"
   ]
  },
  {
   "cell_type": "markdown",
   "metadata": {
    "id": "B-9B487xnauA"
   },
   "source": [
    "### 1. Create a Content-based filtering recommender system based on the Course Descriptions."
   ]
  },
  {
   "cell_type": "markdown",
   "metadata": {
    "id": "9pOXwRn9hFWi"
   },
   "source": [
    "### Recommendation based on similariry in 'Description' feature\n",
    "\n",
    "* Write the name of a course from the data you like and the function will recommend courses with similar term frequency\n",
    "\n",
    "* I like the course \"Retrieve Data using Single-Table SQL Queries\" so im going to look for 5 similar ones"
   ]
  },
  {
   "cell_type": "code",
   "execution_count": 38,
   "metadata": {
    "colab": {
     "base_uri": "https://localhost:8080/"
    },
    "executionInfo": {
     "elapsed": 1717,
     "status": "ok",
     "timestamp": 1742069660670,
     "user": {
      "displayName": "Daniel Iversen",
      "userId": "04843677771367093898"
     },
     "user_tz": -60
    },
    "id": "LXJ5h8qshRWz",
    "outputId": "0f74ffc8-bf4a-48f4-9b70-6669c144ca60"
   },
   "outputs": [
    {
     "data": {
      "text/plain": [
       "['Creating Database Tables with SQL',\n",
       " 'Querying Databases Using SQL SELECT statement',\n",
       " 'Advanced Relational Database and SQL',\n",
       " 'Create Relational Database Tables Using SQLiteStudio',\n",
       " 'Intermediate Relational Database and SQL']"
      ]
     },
     "execution_count": 38,
     "metadata": {},
     "output_type": "execute_result"
    }
   ],
   "source": [
    "# Use TFIDF vectorization to calc term frequency and match documents with similar vectors\n",
    "tfidf_vectorizer = TfidfVectorizer(stop_words='english') # skip common english words so they dont affect the search\n",
    "# Fit and transform the Course Descriptions\n",
    "tfidf_matrix = tfidf_vectorizer.fit_transform(coursera_data['Course Description'])\n",
    "# we need the cosine similarity matrix, to find similarities between input description vs lookup\n",
    "cosine_similar_descriptions = cosine_similarity(tfidf_matrix, tfidf_matrix)\n",
    "\n",
    "# Func for recommending similar courses to the search, based on simiar term frequency\n",
    "def recommend_courses_based_on_desc(course_title, num_recommendations):\n",
    "    if course_title not in coursera_data['Course Name'].values:\n",
    "        return \"Course not found.\" # if the course dont exist in the data\n",
    "\n",
    "    idx = coursera_data[coursera_data['Course Name'] == course_title].index[0]\n",
    "    similarity_scores = list(enumerate(cosine_similar_descriptions[idx]))\n",
    "    similarity_scores = sorted(similarity_scores, key=lambda x: x[1], reverse=True)\n",
    "    similarity_scores = similarity_scores[1:num_recommendations+1]\n",
    "    recommended_courses = [coursera_data.iloc[i[0]]['Course Name'] for i in similarity_scores]\n",
    "    return recommended_courses\n",
    "\n",
    "# Make a search and get a recommendation on the course i like\n",
    "recommend_courses_based_on_desc(\"Retrieve Data using Single-Table SQL Queries\", 5) # I want 5 recommendationss"
   ]
  },
  {
   "cell_type": "markdown",
   "metadata": {
    "id": "TRWu3pkTn_31"
   },
   "source": [
    "---"
   ]
  },
  {
   "cell_type": "markdown",
   "metadata": {
    "id": "iVazGGwun0oV"
   },
   "source": [
    "### 2. Create a Content-based filtering recommender system based on the Skills\n",
    "\n",
    "* We can use the same syntax as before, but instead targeting the 'Skills' feature\n",
    "\n",
    "* Write the name of a course from the data you like and the function will recommend courses with similar term frequency\n",
    "\n",
    "* I like the course \"Retrieve Data using Single-Table SQL Queries\" so im going to look for 5 similar ones"
   ]
  },
  {
   "cell_type": "code",
   "execution_count": 39,
   "metadata": {
    "colab": {
     "base_uri": "https://localhost:8080/"
    },
    "executionInfo": {
     "elapsed": 481,
     "status": "ok",
     "timestamp": 1742069661150,
     "user": {
      "displayName": "Daniel Iversen",
      "userId": "04843677771367093898"
     },
     "user_tz": -60
    },
    "id": "jmPf2pCbn82W",
    "outputId": "507de958-88f5-4d16-ff6c-07067e3dc241"
   },
   "outputs": [
    {
     "data": {
      "text/plain": [
       "['Manipulating Data with SQL',\n",
       " 'Creating Database Tables with SQL',\n",
       " 'Managing Big Data with MySQL',\n",
       " 'Create Relational Database Tables Using SQLiteStudio',\n",
       " 'Retrieve Data with Multiple-Table SQL Queries']"
      ]
     },
     "execution_count": 39,
     "metadata": {},
     "output_type": "execute_result"
    }
   ],
   "source": [
    "# Use TFIDF vectorization to calc term frequency and match documents with similar vectors\n",
    "tfidf_vectorizer = TfidfVectorizer(stop_words='english') # skip common english words so they dont affect the search\n",
    "# Fit and transform the Course Descriptions\n",
    "tfidf_matrix = tfidf_vectorizer.fit_transform(coursera_data['Skills'])\n",
    "# we need the cosine similarity matrix, to find similarities between input description vs lookup\n",
    "cosine_similar_descriptions = cosine_similarity(tfidf_matrix, tfidf_matrix)\n",
    "\n",
    "# Func for recommending similar courses to the search, based on simiar term frequency\n",
    "def recommend_courses_based_on_desc(course_title, num_recommendations):\n",
    "    if course_title not in coursera_data['Course Name'].values:\n",
    "        return \"Course not found.\" # if the course dont exist in the data\n",
    "\n",
    "    idx = coursera_data[coursera_data['Course Name'] == course_title].index[0]\n",
    "    similarity_scores = list(enumerate(cosine_similar_descriptions[idx]))\n",
    "    similarity_scores = sorted(similarity_scores, key=lambda x: x[1], reverse=True)\n",
    "    similarity_scores = similarity_scores[1:num_recommendations+1]\n",
    "    recommended_courses = [coursera_data.iloc[i[0]]['Course Name'] for i in similarity_scores]\n",
    "    return recommended_courses\n",
    "\n",
    "# Make a search and get a recommendation on the course i like\n",
    "recommend_courses_based_on_desc(\"Retrieve Data using Single-Table SQL Queries\", 5) # I want 5 recommendationss as defined as parameter for the func"
   ]
  },
  {
   "cell_type": "markdown",
   "metadata": {
    "id": "qDWSdQQegF-S"
   },
   "source": [
    "---"
   ]
  },
  {
   "cell_type": "markdown",
   "metadata": {
    "id": "qlJwGp3AgHNO"
   },
   "source": [
    "### Book Recommendation Dataset\n",
    "3. Load in the Ratings.csv file (on moodle, it is called Books_Ratings.csv). Group by User-ID and sort by Book-Rating in descending order to get the users who rated most books. Filter the rating data to only contain the 200 users that rated most books.\n",
    "4. Create a Collaborative filtering recommender system based on the user ratings from 3 together with the Books.csv dataset."
   ]
  },
  {
   "cell_type": "markdown",
   "metadata": {
    "id": "mq8fjnlhoYWZ"
   },
   "source": [
    "### First steps EDA"
   ]
  },
  {
   "cell_type": "code",
   "execution_count": 40,
   "metadata": {
    "executionInfo": {
     "elapsed": 929,
     "status": "ok",
     "timestamp": 1742069662080,
     "user": {
      "displayName": "Daniel Iversen",
      "userId": "04843677771367093898"
     },
     "user_tz": -60
    },
    "id": "KoAdjvZPfOBM"
   },
   "outputs": [],
   "source": [
    "books_ratings_data = pd.read_csv('Books_Ratings.csv')"
   ]
  },
  {
   "cell_type": "code",
   "execution_count": 41,
   "metadata": {
    "colab": {
     "base_uri": "https://localhost:8080/",
     "height": 363
    },
    "executionInfo": {
     "elapsed": 19,
     "status": "ok",
     "timestamp": 1742069662100,
     "user": {
      "displayName": "Daniel Iversen",
      "userId": "04843677771367093898"
     },
     "user_tz": -60
    },
    "id": "y_caYjmKocLW",
    "outputId": "a64b2c9a-c764-4777-da2b-8a2cca12b392"
   },
   "outputs": [
    {
     "data": {
      "text/html": [
       "<div>\n",
       "<style scoped>\n",
       "    .dataframe tbody tr th:only-of-type {\n",
       "        vertical-align: middle;\n",
       "    }\n",
       "\n",
       "    .dataframe tbody tr th {\n",
       "        vertical-align: top;\n",
       "    }\n",
       "\n",
       "    .dataframe thead th {\n",
       "        text-align: right;\n",
       "    }\n",
       "</style>\n",
       "<table border=\"1\" class=\"dataframe\">\n",
       "  <thead>\n",
       "    <tr style=\"text-align: right;\">\n",
       "      <th></th>\n",
       "      <th>User-ID</th>\n",
       "      <th>ISBN</th>\n",
       "      <th>Book-Rating</th>\n",
       "    </tr>\n",
       "  </thead>\n",
       "  <tbody>\n",
       "    <tr>\n",
       "      <th>0</th>\n",
       "      <td>276725</td>\n",
       "      <td>034545104X</td>\n",
       "      <td>0</td>\n",
       "    </tr>\n",
       "    <tr>\n",
       "      <th>1</th>\n",
       "      <td>276726</td>\n",
       "      <td>0155061224</td>\n",
       "      <td>5</td>\n",
       "    </tr>\n",
       "    <tr>\n",
       "      <th>2</th>\n",
       "      <td>276727</td>\n",
       "      <td>0446520802</td>\n",
       "      <td>0</td>\n",
       "    </tr>\n",
       "    <tr>\n",
       "      <th>3</th>\n",
       "      <td>276729</td>\n",
       "      <td>052165615X</td>\n",
       "      <td>3</td>\n",
       "    </tr>\n",
       "    <tr>\n",
       "      <th>4</th>\n",
       "      <td>276729</td>\n",
       "      <td>0521795028</td>\n",
       "      <td>6</td>\n",
       "    </tr>\n",
       "    <tr>\n",
       "      <th>5</th>\n",
       "      <td>276733</td>\n",
       "      <td>2080674722</td>\n",
       "      <td>0</td>\n",
       "    </tr>\n",
       "    <tr>\n",
       "      <th>6</th>\n",
       "      <td>276736</td>\n",
       "      <td>3257224281</td>\n",
       "      <td>8</td>\n",
       "    </tr>\n",
       "    <tr>\n",
       "      <th>7</th>\n",
       "      <td>276737</td>\n",
       "      <td>0600570967</td>\n",
       "      <td>6</td>\n",
       "    </tr>\n",
       "    <tr>\n",
       "      <th>8</th>\n",
       "      <td>276744</td>\n",
       "      <td>038550120X</td>\n",
       "      <td>7</td>\n",
       "    </tr>\n",
       "    <tr>\n",
       "      <th>9</th>\n",
       "      <td>276745</td>\n",
       "      <td>342310538</td>\n",
       "      <td>10</td>\n",
       "    </tr>\n",
       "  </tbody>\n",
       "</table>\n",
       "</div>"
      ],
      "text/plain": [
       "   User-ID        ISBN  Book-Rating\n",
       "0   276725  034545104X            0\n",
       "1   276726  0155061224            5\n",
       "2   276727  0446520802            0\n",
       "3   276729  052165615X            3\n",
       "4   276729  0521795028            6\n",
       "5   276733  2080674722            0\n",
       "6   276736  3257224281            8\n",
       "7   276737  0600570967            6\n",
       "8   276744  038550120X            7\n",
       "9   276745   342310538           10"
      ]
     },
     "execution_count": 41,
     "metadata": {},
     "output_type": "execute_result"
    }
   ],
   "source": [
    "books_ratings_data.head(10)"
   ]
  },
  {
   "cell_type": "code",
   "execution_count": 42,
   "metadata": {
    "colab": {
     "base_uri": "https://localhost:8080/"
    },
    "executionInfo": {
     "elapsed": 18,
     "status": "ok",
     "timestamp": 1742069662186,
     "user": {
      "displayName": "Daniel Iversen",
      "userId": "04843677771367093898"
     },
     "user_tz": -60
    },
    "id": "mOuBiNrwofJ0",
    "outputId": "03e56d86-868c-425b-bd00-22e443c57530"
   },
   "outputs": [
    {
     "name": "stdout",
     "output_type": "stream",
     "text": [
      "<class 'pandas.core.frame.DataFrame'>\n",
      "RangeIndex: 1149780 entries, 0 to 1149779\n",
      "Data columns (total 3 columns):\n",
      " #   Column       Non-Null Count    Dtype \n",
      "---  ------       --------------    ----- \n",
      " 0   User-ID      1149780 non-null  int64 \n",
      " 1   ISBN         1149780 non-null  object\n",
      " 2   Book-Rating  1149780 non-null  int64 \n",
      "dtypes: int64(2), object(1)\n",
      "memory usage: 26.3+ MB\n"
     ]
    }
   ],
   "source": [
    "books_ratings_data.info()"
   ]
  },
  {
   "cell_type": "markdown",
   "metadata": {
    "id": "Slitxj7eo6C3"
   },
   "source": [
    "---"
   ]
  },
  {
   "cell_type": "markdown",
   "metadata": {
    "id": "HobT_FWCo6wN"
   },
   "source": [
    "### 3. Load in the Books_Ratings.csv file. Group by User-ID and sort by Book-Rating in descending order to get the users who rated most books. Filter the rating data to only contain the 200 users that rated most books."
   ]
  },
  {
   "cell_type": "code",
   "execution_count": 47,
   "metadata": {
    "colab": {
     "base_uri": "https://localhost:8080/",
     "height": 424
    },
    "executionInfo": {
     "elapsed": 62,
     "status": "ok",
     "timestamp": 1742069662249,
     "user": {
      "displayName": "Daniel Iversen",
      "userId": "04843677771367093898"
     },
     "user_tz": -60
    },
    "id": "io6MMGSYqj4s",
    "outputId": "a7347cb5-695d-4184-931d-c8ca6ac8d5de"
   },
   "outputs": [
    {
     "name": "stderr",
     "output_type": "stream",
     "text": [
      "C:\\Users\\abjar\\AppData\\Local\\Temp\\ipykernel_29172\\931618713.py:11: DtypeWarning: Columns (3) have mixed types. Specify dtype option on import or set low_memory=False.\n",
      "  df_books = pd.read_csv(\"Books.csv\")\n"
     ]
    },
    {
     "name": "stdout",
     "output_type": "stream",
     "text": [
      "   User-ID        ISBN                                         Book-Title  \\\n",
      "0   278418  0006128831                                                NaN   \n",
      "1   278418  0006542808                              Silence of the Sirens   \n",
      "2   278418  0020209606                                NEVER ALONE REISSUE   \n",
      "3   278418  0020418809                                    CADDIE WOODLAWN   \n",
      "4   278418  0020420900  Paul Revere : Boston Patriot (Childhood Of Fam...   \n",
      "\n",
      "   Book-Rating  \n",
      "0            0  \n",
      "1            5  \n",
      "2            0  \n",
      "3            0  \n",
      "4            0  \n"
     ]
    }
   ],
   "source": [
    "# Load the book ratings dataset\n",
    "df_ratings = pd.read_csv(\"Books_Ratings.csv\")\n",
    "# Count how many books each user has rated\n",
    "user_counts = df_ratings.groupby(\"User-ID\")[\"Book-Rating\"].count().reset_index()\n",
    "# Get the top 200 users with the most ratings\n",
    "top_200_users = user_counts.sort_values(by=\"Book-Rating\", ascending=False).head(200)[\"User-ID\"]\n",
    "# Filter ratings dataset to only include the top 200 users\n",
    "filtered_ratings = df_ratings[df_ratings[\"User-ID\"].isin(top_200_users)]\n",
    "\n",
    "# Load the books dataset\n",
    "df_books = pd.read_csv(\"Books.csv\")\n",
    "# Merge ratings with book details using ISBN\n",
    "df_merged = filtered_ratings.merge(df_books, on=\"ISBN\", how=\"left\")\n",
    "# Keep only relevant columns \n",
    "df_merged = df_merged[[\"User-ID\", \"ISBN\", \"Book-Title\", \"Book-Rating\"]]\n",
    "# Display dataset\n",
    "print(df_merged.head())"
   ]
  },
  {
   "cell_type": "markdown",
   "metadata": {
    "id": "kM1qJFs1o8am"
   },
   "source": [
    "---"
   ]
  },
  {
   "cell_type": "markdown",
   "metadata": {
    "id": "82tek9oZo8qG"
   },
   "source": [
    "### 4. Create a Collaborative filtering recommender system based on the user ratings from 3 together with the Books_Ratings.csv dataset."
   ]
  },
  {
   "cell_type": "code",
   "execution_count": null,
   "metadata": {
    "colab": {
     "base_uri": "https://localhost:8080/",
     "height": 886
    },
    "executionInfo": {
     "elapsed": 39,
     "status": "ok",
     "timestamp": 1742069664433,
     "user": {
      "displayName": "Daniel Iversen",
      "userId": "04843677771367093898"
     },
     "user_tz": -60
    },
    "id": "Y_Uu-xKGbol0",
    "outputId": "6f515c3c-3084-45d6-9dc2-b4a665a4656f"
   },
   "outputs": [
    {
     "name": "stdout",
     "output_type": "stream",
     "text": [
      "User-ID    3363      6251      6575      7346      11601     11676     12538   \\\n",
      "User-ID                                                                         \n",
      "3363     1.000000  0.000000  0.026805  0.013205  0.000000  0.022112  0.009240   \n",
      "6251     0.000000  1.000000  0.048537  0.014077  0.019330  0.037508  0.000000   \n",
      "6575     0.026805  0.048537  1.000000  0.055537  0.012073  0.063106  0.020387   \n",
      "7346     0.013205  0.014077  0.055537  1.000000  0.007492  0.051761  0.034727   \n",
      "11601    0.000000  0.019330  0.012073  0.007492  1.000000  0.020077  0.019004   \n",
      "\n",
      "User-ID    13552     15408     16634   ...    264321    265115    265313  \\\n",
      "User-ID                                ...                                 \n",
      "3363     0.007907  0.012508  0.000000  ...  0.005234  0.005454  0.000000   \n",
      "6251     0.010237  0.006046  0.020697  ...  0.013283  0.007398  0.024124   \n",
      "6575     0.021962  0.018973  0.010158  ...  0.019694  0.032359  0.012910   \n",
      "7346     0.025568  0.015265  0.009065  ...  0.015554  0.047109  0.000000   \n",
      "11601    0.000000  0.003974  0.000000  ...  0.009799  0.000000  0.010755   \n",
      "\n",
      "User-ID    266226    269566  271284    274061    274308    275970    278418  \n",
      "User-ID                                                                      \n",
      "3363     0.000000  0.000000     0.0  0.000000  0.000000  0.000000  0.000000  \n",
      "6251     0.012239  0.019953     0.0  0.000000  0.013350  0.017665  0.020751  \n",
      "6575     0.015400  0.014582     0.0  0.000000  0.025897  0.039122  0.000000  \n",
      "7346     0.017361  0.024681     0.0  0.020498  0.007373  0.021003  0.000000  \n",
      "11601    0.000000  0.000000     0.0  0.000000  0.000000  0.021897  0.020057  \n",
      "\n",
      "[5 rows x 200 columns]\n"
     ]
    }
   ],
   "source": [
    "# Create a User-Item rating matrix (Users as rows, Books as columns)\n",
    "user_item_matrix = df_merged.pivot_table(index=\"User-ID\", columns=\"Book-Title\", values=\"Book-Rating\", fill_value=0)\n",
    "# Compute cosine similarity between users\n",
    "user_similarity = cosine_similarity(user_item_matrix)\n",
    "# Convert similarity matrix into a DataFrame\n",
    "user_similarity_df = pd.DataFrame(user_similarity, index=user_item_matrix.index, columns=user_item_matrix.index)\n",
    "# Display similarity matrix\n",
    "print(user_similarity_df.head())\n"
   ]
  },
  {
   "cell_type": "code",
   "execution_count": null,
   "metadata": {},
   "outputs": [],
   "source": [
    "def recommend_books(user_id, rating_matrix, user_similarity_df, df_books, top_n=5):\n",
    "\n",
    "    if user_id not in user_similarity_df.index:\n",
    "        return \"User not found in top 200!\"\n",
    "    # Get similarity scores for the user, excluding themselves\n",
    "    sim_scores = user_similarity_df.loc[user_id].drop(user_id)\n",
    "    # Select top 5 most similar users\n",
    "    similar_users = sim_scores.sort_values(ascending=False).head(5).index\n",
    "    # Aggregate ratings from similar users\n",
    "    similar_ratings = rating_matrix.loc[similar_users]\n",
    "    # Compute the average rating for each book among these similar users\n",
    "    avg_ratings = similar_ratings.mean(axis=0)\n",
    "    # Find books the target user has not rated\n",
    "    target_user_ratings = rating_matrix.loc[user_id]\n",
    "    unrated_books = target_user_ratings[target_user_ratings == 0].index\n",
    "    # Filter ratings to only include unrated books\n",
    "    recommendations = avg_ratings.loc[unrated_books].sort_values(ascending=False).head(top_n)\n",
    "    # Convert index (Book-Title) to a list for merging with book details\n",
    "    recommended_books = df_books[df_books['Book-Title'].isin(recommendations.index)][['ISBN', 'Book-Title', 'Book-Author']]\n",
    "    \n",
    "    return recommended_books"
   ]
  },
  {
   "cell_type": "code",
   "execution_count": 46,
   "metadata": {},
   "outputs": [
    {
     "name": "stdout",
     "output_type": "stream",
     "text": [
      "Top 10 recommended books for User 11676:\n",
      "              ISBN                                    Book-Title  \\\n",
      "1360    0671759361                    Pearl in the Mist (Landry)   \n",
      "4269    0316284955  White Oleander : A Novel (Oprah's Book Club)   \n",
      "15611   0064400026                   Little House on the Prairie   \n",
      "24362   0064400069                The Long Winter (Little House)   \n",
      "26127   0440167531                                      Palomino   \n",
      "43124   0060581859                The Long Winter (Little House)   \n",
      "108090  0060522410                The Long Winter (Little House)   \n",
      "188054  0702219487                                      Palomino   \n",
      "202942  0061070068                   Little House on the Prairie   \n",
      "219583  044056753X                                      Palomino   \n",
      "\n",
      "                 Book-Author  \n",
      "1360            V.C. Andrews  \n",
      "4269             Janet Fitch  \n",
      "15611   Laura Ingalls Wilder  \n",
      "24362   Laura Ingalls Wilder  \n",
      "26127         DANIELLE STEEL  \n",
      "43124   Laura Ingalls Wilder  \n",
      "108090  Laura Ingalls Wilder  \n",
      "188054      Elizabeth Jolley  \n",
      "202942  Laura Ingalls Wilder  \n",
      "219583        Danielle Steel  \n"
     ]
    }
   ],
   "source": [
    "example_user = top_200_users.iloc[0]  # Select the first user in the top 200\n",
    "\n",
    "top_books = recommend_books(example_user, user_item_matrix, user_similarity_df, df_books, top_n=5)\n",
    "\n",
    "print(f\"Top {len(top_books)} recommended books for User {example_user}:\")\n",
    "print(top_books)"
   ]
  },
  {
   "cell_type": "markdown",
   "metadata": {
    "id": "BzsSZaY6o-6W"
   },
   "source": [
    "---"
   ]
  }
 ],
 "metadata": {
  "colab": {
   "authorship_tag": "ABX9TyPjdNavJTeashYoR6HgxZfj",
   "provenance": []
  },
  "kernelspec": {
   "display_name": "Python 3",
   "name": "python3"
  },
  "language_info": {
   "codemirror_mode": {
    "name": "ipython",
    "version": 3
   },
   "file_extension": ".py",
   "mimetype": "text/x-python",
   "name": "python",
   "nbconvert_exporter": "python",
   "pygments_lexer": "ipython3",
   "version": "3.10.11"
  }
 },
 "nbformat": 4,
 "nbformat_minor": 0
}
