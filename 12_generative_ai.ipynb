{
 "cells": [
  {
   "cell_type": "markdown",
   "metadata": {},
   "source": [
    "# 12: Generative AI\n",
    "\n",
    "The hand-in exercise for this topic is in the notebook named ‘rag_task.ipynb’. Do all 4\n",
    "tasks within this notebook. For task 2, you should try at least 3 types of chunking such as\n",
    "chunk in paragraphs, sentences or even by punctuation marks – you are welcome to\n",
    "choose your own chunking strategy. For task 4 you should try at least one other type of\n",
    "similarity or distance function to calculate the similarity."
   ]
  },
  {
   "cell_type": "markdown",
   "metadata": {},
   "source": [
    "### Task\n",
    "1. Creat a RAG pipeline that can take following text and answer following questions\n",
    "2. Try different types of chunking to get better answers?\n",
    "3. Does asking questions differently give better answers? Why?\n",
    "4. Try a different similarity search instead of cosine similarity - do the answers improve?"
   ]
  },
  {
   "cell_type": "code",
   "execution_count": 1,
   "metadata": {},
   "outputs": [],
   "source": [
    "\n",
    "sample_text = \"\"\"\n",
    "The Amazon rainforest is the largest tropical rainforest in the world, covering approximately 5.5 million square kilometers. It spans across nine countries, including Brazil, Peru, and Colombia. The rainforest is home to around 10% of the known species on Earth, including jaguars, sloths, and thousands of species of insects and birds.\n",
    "\n",
    "Deforestation is a significant threat to the Amazon, with thousands of square kilometers lost each year due to agriculture, logging, and urbanization. This deforestation contributes to climate change, as the rainforest acts as a major carbon sink, absorbing millions of tons of carbon dioxide annually.\n",
    "\n",
    "Indigenous tribes have lived in the Amazon for thousands of years, relying on its rich biodiversity for food, medicine, and shelter. These tribes have unique languages, traditions, and knowledge of the ecosystem. However, many face threats from illegal land encroachment and industrial activities.\n",
    "\n",
    "Scientists believe that the Amazon plays a crucial role in global weather patterns by releasing water vapor into the atmosphere, which influences rainfall across South America and even other continents. The Amazon River, which flows through the rainforest, is the second longest river in the world and carries more water than any other river.\n",
    "\n",
    "Efforts to protect the Amazon include international agreements, conservation programs, and sustainable development projects that aim to balance economic growth with environmental protection. Many organizations and governments are working to reduce illegal logging and promote reforestation initiatives.\n",
    "\"\"\""
   ]
  },
  {
   "cell_type": "code",
   "execution_count": 2,
   "metadata": {},
   "outputs": [],
   "source": [
    "# Properly formulated questions for the sample text\n",
    "questions = [\n",
    "    \"What is the Amazon rainforest?\",\n",
    "    \"Which countries does the Amazon span across?\",\n",
    "    \"Why is deforestation a problem in the Amazon?\",\n",
    "    \"How does the Amazon rainforest affect global weather patterns?\",\n",
    "    \"What role do indigenous tribes play in the Amazon?\",\n",
    "    \"What is the importance of the Amazon River?\",\n",
    "    \"What types of wildlife can be found in the Amazon?\",\n",
    "    \"How does deforestation contribute to climate change?\",\n",
    "    \"What efforts are being made to protect the Amazon?\",\n",
    "    \"Why is the Amazon considered a major carbon sink?\"\n",
    "]"
   ]
  },
  {
   "cell_type": "markdown",
   "metadata": {},
   "source": [
    "### Imports"
   ]
  },
  {
   "cell_type": "code",
   "execution_count": 3,
   "metadata": {},
   "outputs": [],
   "source": [
    "import numpy as np\n",
    "from sentence_transformers import SentenceTransformer\n",
    "from sklearn.metrics.pairwise import cosine_similarity\n",
    "from sklearn.metrics.pairwise import euclidean_distances\n",
    "from transformers import pipeline\n",
    "import re"
   ]
  },
  {
   "cell_type": "markdown",
   "metadata": {},
   "source": [
    "### Starting to build the pipeline:"
   ]
  },
  {
   "cell_type": "code",
   "execution_count": 4,
   "metadata": {},
   "outputs": [
    {
     "name": "stderr",
     "output_type": "stream",
     "text": [
      "No model was supplied, defaulted to distilbert/distilbert-base-cased-distilled-squad and revision 564e9b5 (https://huggingface.co/distilbert/distilbert-base-cased-distilled-squad).\n",
      "Using a pipeline without specifying a model name and revision in production is not recommended.\n",
      "Device set to use cpu\n"
     ]
    }
   ],
   "source": [
    "# Choose our model, in this case, we are using the MiniLM model\n",
    "MODEL_NAME = \"sentence-transformers/all-MiniLM-L6-v2\"\n",
    "model = SentenceTransformer(MODEL_NAME)\n",
    "\n",
    "# Load a pre-trained question-answering model pipeline from transformers library\n",
    "qa_pipeline = pipeline(\"question-answering\")"
   ]
  },
  {
   "cell_type": "markdown",
   "metadata": {},
   "source": [
    "The SentenceTransformer turns each chunk of text into a vector (a list of numbers) so we can compare how close in meaning two texts are.  \n",
    "The QA pipeline takes a question and a text chunk and tries to pull out the best short answer from it.\n"
   ]
  },
  {
   "cell_type": "markdown",
   "metadata": {},
   "source": [
    "### Testing sentence chucking:"
   ]
  },
  {
   "cell_type": "markdown",
   "metadata": {},
   "source": [
    "Lets create some differint chunking functions:"
   ]
  },
  {
   "cell_type": "code",
   "execution_count": 5,
   "metadata": {},
   "outputs": [],
   "source": [
    "def split_text_sentences(text):\n",
    "    sentences = re.split(r'(?<!\\w\\.\\w.)(?<![A-Z][a-z]\\.)(?<=\\.|\\?)\\s', text)\n",
    "    return [s.strip() for s in sentences if s.strip()]\n",
    "chunks_sent = split_text_sentences(sample_text)"
   ]
  },
  {
   "cell_type": "code",
   "execution_count": 6,
   "metadata": {},
   "outputs": [],
   "source": [
    "def split_text_paragraphs(text):\n",
    "    return [p.strip() for p in re.split(r\"\\n+\", text) if p.strip()]\n",
    "chunks_para = split_text_paragraphs(sample_text)\n"
   ]
  },
  {
   "cell_type": "code",
   "execution_count": 7,
   "metadata": {},
   "outputs": [],
   "source": [
    "def split_text_tokens(text, max_tokens=120, overlap=30):\n",
    "    words = text.split()\n",
    "    chunks = []\n",
    "    i = 0\n",
    "    while i < len(words):\n",
    "        chunks.append(\" \".join(words[i:i+max_tokens]))\n",
    "        i += max_tokens - overlap\n",
    "    return chunks\n",
    "chunks_tok = split_text_tokens(sample_text)\n"
   ]
  },
  {
   "cell_type": "markdown",
   "metadata": {},
   "source": [
    "Now we take the text chunks from each strategy (sentences, paragraphs, tokens) and run them through the embedding model.  \n",
    "This turns every chunk into a vector (list of numbers) that captures its meaning, so we can later compare them to the question.\n"
   ]
  },
  {
   "cell_type": "code",
   "execution_count": 8,
   "metadata": {},
   "outputs": [
    {
     "name": "stderr",
     "output_type": "stream",
     "text": [
      "c:\\Users\\abjar\\AppData\\Local\\Programs\\Python\\Python310\\lib\\site-packages\\torch\\nn\\modules\\module.py:1762: FutureWarning: `encoder_attention_mask` is deprecated and will be removed in version 4.55.0 for `BertSdpaSelfAttention.forward`.\n",
      "  return forward_call(*args, **kwargs)\n"
     ]
    }
   ],
   "source": [
    "E_sent = model.encode(chunks_sent, convert_to_numpy=True)\n",
    "E_para = model.encode(chunks_para, convert_to_numpy=True)\n",
    "E_tok  = model.encode(chunks_tok, convert_to_numpy=True)"
   ]
  },
  {
   "cell_type": "markdown",
   "metadata": {},
   "source": [
    "Next we set up the retrieval step.  \n",
    "1) Take the question, turn it into a vector (just like the chunks).  \n",
    "2) Compare that vector to all chunk vectors using cosine or euclidean.  \n",
    "3) Pick the chunk that is closest in meaning.  \n",
    "4) Feed that chunk into the QA model to pull out the actual answer."
   ]
  },
  {
   "cell_type": "markdown",
   "metadata": {},
   "source": [
    "- `retrieve_passage` takes a question, turns it into a vector, and finds the chunk that is closest in meaning (using cosine or euclidean).  \n",
    "- `answer_question` takes the question and the retrieved chunk, then uses the QA model to extract the best short answer.\n"
   ]
  },
  {
   "cell_type": "code",
   "execution_count": 9,
   "metadata": {},
   "outputs": [],
   "source": [
    "# generic retriever: works for any chunk set and either cosine or euclidean\n",
    "def retrieve_passage(query, chunks, embeddings, metric=\"cosine\"):\n",
    "    q = model.encode([query], convert_to_numpy=True)[0]\n",
    "    if metric == \"cosine\":\n",
    "        # higher is better\n",
    "        scores = (embeddings @ (q / (np.linalg.norm(q) + 1e-12)))\n",
    "        idx = np.argmax(scores)\n",
    "    elif metric == \"euclidean\":\n",
    "        # smaller is better\n",
    "        dists = np.linalg.norm(embeddings - q, axis=1)\n",
    "        idx = np.argmin(dists)\n",
    "    else:\n",
    "        raise ValueError(\"metric must be 'cosine' or 'euclidean'\")\n",
    "    return chunks[idx]\n",
    "\n",
    "# QA: pass the question and the retrieved chunk to the QA model\n",
    "def answer_question(question, chunks, embeddings, metric=\"cosine\"):\n",
    "    context = retrieve_passage(question, chunks, embeddings, metric=metric)\n",
    "    out = qa_pipeline(question=question, context=context)\n",
    "    return out[\"answer\"]"
   ]
  },
  {
   "cell_type": "markdown",
   "metadata": {},
   "source": [
    "let demonstrate the basic RAG loop"
   ]
  },
  {
   "cell_type": "code",
   "execution_count": 10,
   "metadata": {},
   "outputs": [
    {
     "name": "stdout",
     "output_type": "stream",
     "text": [
      "RAG demo with cosine\n",
      "\n",
      "Q: What is the Amazon rainforest?\n",
      "A: largest tropical rainforest in the world\n",
      "\n",
      "Q: Which countries does the Amazon span across?\n",
      "A: Brazil, Peru, and Colombia\n",
      "\n",
      "Q: Why is deforestation a problem in the Amazon?\n",
      "A: climate change\n",
      "\n",
      "Q: How does the Amazon rainforest affect global weather patterns?\n",
      "A: deforestation\n",
      "\n",
      "Q: What role do indigenous tribes play in the Amazon?\n",
      "A: relying on its rich biodiversity for food, medicine, and shelter\n",
      "\n",
      "Q: What is the importance of the Amazon River?\n",
      "A: carries more water\n",
      "\n",
      "Q: What types of wildlife can be found in the Amazon?\n",
      "A: jaguars, sloths, and thousands of species of insects and birds\n",
      "\n",
      "Q: How does deforestation contribute to climate change?\n",
      "A: the rainforest acts as a major carbon sink\n",
      "\n",
      "Q: What efforts are being made to protect the Amazon?\n",
      "A: international agreements, conservation programs, and sustainable development projects\n",
      "\n",
      "Q: Why is the Amazon considered a major carbon sink?\n",
      "A: global weather patterns\n",
      "\n"
     ]
    }
   ],
   "source": [
    "\n",
    "print(\"RAG demo with cosine\\n\")\n",
    "for q in questions:\n",
    "    print(\"Q:\", q)\n",
    "    print(\"A:\", answer_question(q, chunks_tok, E_tok, metric=\"cosine\"))\n",
    "    print()\n"
   ]
  },
  {
   "cell_type": "markdown",
   "metadata": {},
   "source": [
    "We can see that the RAG pipeline works and returns reasonable answers to the questions."
   ]
  },
  {
   "cell_type": "markdown",
   "metadata": {},
   "source": [
    "---"
   ]
  },
  {
   "cell_type": "markdown",
   "metadata": {},
   "source": [
    "### Lets try differint types of chunking strategies "
   ]
  },
  {
   "cell_type": "code",
   "execution_count": 11,
   "metadata": {},
   "outputs": [
    {
     "name": "stdout",
     "output_type": "stream",
     "text": [
      "\n",
      "--- Sentences ---\n",
      "Q: What is the Amazon rainforest?\n",
      "A: the largest tropical rainforest in the world\n",
      "Q: Which countries does the Amazon span across?\n",
      "A: Brazil, Peru, and Colombia\n",
      "Q: Why is deforestation a problem in the Amazon?\n",
      "A: agriculture, logging, and urbanization\n",
      "Q: How does the Amazon rainforest affect global weather patterns?\n",
      "A: releasing water vapor into the atmosphere\n",
      "Q: What role do indigenous tribes play in the Amazon?\n",
      "A: relying on its rich biodiversity for food, medicine, and shelter\n",
      "Q: What is the importance of the Amazon River?\n",
      "A: carries more water\n",
      "Q: What types of wildlife can be found in the Amazon?\n",
      "A: Indigenous tribes\n",
      "Q: How does deforestation contribute to climate change?\n",
      "A: the rainforest acts as a major carbon sink\n",
      "Q: What efforts are being made to protect the Amazon?\n",
      "A: international agreements, conservation programs, and sustainable development projects\n",
      "Q: Why is the Amazon considered a major carbon sink?\n",
      "A: deforestation contributes to climate change\n",
      "\n",
      "\n",
      "--- Paragraphs ---\n",
      "Q: What is the Amazon rainforest?\n",
      "A: largest tropical rainforest in the world\n",
      "Q: Which countries does the Amazon span across?\n",
      "A: Brazil, Peru, and Colombia\n",
      "Q: Why is deforestation a problem in the Amazon?\n",
      "A: climate change\n",
      "Q: How does the Amazon rainforest affect global weather patterns?\n",
      "A: releasing water vapor into the atmosphere\n",
      "Q: What role do indigenous tribes play in the Amazon?\n",
      "A: relying on its rich biodiversity for food, medicine, and shelter\n",
      "Q: What is the importance of the Amazon River?\n",
      "A: global weather patterns\n",
      "Q: What types of wildlife can be found in the Amazon?\n",
      "A: Indigenous tribes\n",
      "Q: How does deforestation contribute to climate change?\n",
      "A: the rainforest acts as a major carbon sink\n",
      "Q: What efforts are being made to protect the Amazon?\n",
      "A: international agreements, conservation programs, and sustainable development projects\n",
      "Q: Why is the Amazon considered a major carbon sink?\n",
      "A: climate change\n",
      "\n",
      "\n",
      "--- Tokens ---\n",
      "Q: What is the Amazon rainforest?\n",
      "A: largest tropical rainforest in the world\n",
      "Q: Which countries does the Amazon span across?\n",
      "A: Brazil, Peru, and Colombia\n",
      "Q: Why is deforestation a problem in the Amazon?\n",
      "A: climate change\n",
      "Q: How does the Amazon rainforest affect global weather patterns?\n",
      "A: deforestation\n",
      "Q: What role do indigenous tribes play in the Amazon?\n",
      "A: relying on its rich biodiversity for food, medicine, and shelter\n",
      "Q: What is the importance of the Amazon River?\n",
      "A: carries more water\n",
      "Q: What types of wildlife can be found in the Amazon?\n",
      "A: jaguars, sloths, and thousands of species of insects and birds\n",
      "Q: How does deforestation contribute to climate change?\n",
      "A: the rainforest acts as a major carbon sink\n",
      "Q: What efforts are being made to protect the Amazon?\n",
      "A: international agreements, conservation programs, and sustainable development projects\n",
      "Q: Why is the Amazon considered a major carbon sink?\n",
      "A: global weather patterns\n",
      "\n"
     ]
    }
   ],
   "source": [
    "chunkers = {\n",
    "    \"Sentences\": (chunks_sent, E_sent),\n",
    "    \"Paragraphs\": (chunks_para, E_para),\n",
    "    \"Tokens\": (chunks_tok, E_tok),\n",
    "}\n",
    "\n",
    "for name, (chs, E) in chunkers.items():\n",
    "    print(f\"\\n--- {name} ---\")\n",
    "    for q in questions:\n",
    "        ans = answer_question(q, chs, E, metric=\"cosine\")\n",
    "        print(f\"Q: {q}\")\n",
    "        print(f\"A: {ans}\")\n",
    "    print()"
   ]
  },
  {
   "cell_type": "markdown",
   "metadata": {},
   "source": [
    "The three chunking strategies gave mostly the same answers, but there were some small differences. Sentences sometimes lost context (wildlife question, carbon sink), while paragraphs occasionally gave vague or off answers (Amazon River, carbon sink). Token chunks handled the wildlife question best but also mixed up one carbon sink answer. This shows how chunking choice can slightly shift what the QA model returns.\n"
   ]
  },
  {
   "cell_type": "markdown",
   "metadata": {},
   "source": [
    "### Lets try to see what happens if we ask quations in a differint way "
   ]
  },
  {
   "cell_type": "code",
   "execution_count": 12,
   "metadata": {},
   "outputs": [
    {
     "name": "stdout",
     "output_type": "stream",
     "text": [
      "\n",
      "--- Sentences ---\n",
      "Q: Explain briefly what the Amazon rainforest is.\n",
      "A: largest tropical rainforest in the world\n",
      "Q: List the countries where the Amazon is found.\n",
      "A: international agreements, conservation programs, and sustainable development projects\n",
      "Q: Give one reason why deforestation in the Amazon is harmful.\n",
      "A: agriculture, logging, and urbanization\n",
      "\n",
      "\n",
      "--- Paragraphs ---\n",
      "Q: Explain briefly what the Amazon rainforest is.\n",
      "A: largest tropical rainforest in the world\n",
      "Q: List the countries where the Amazon is found.\n",
      "A: international agreements, conservation programs, and sustainable development projects\n",
      "Q: Give one reason why deforestation in the Amazon is harmful.\n",
      "A: climate change\n",
      "\n",
      "\n",
      "--- Tokens ---\n",
      "Q: Explain briefly what the Amazon rainforest is.\n",
      "A: largest tropical rainforest in the world\n",
      "Q: List the countries where the Amazon is found.\n",
      "A: Brazil, Peru, and Colombia\n",
      "Q: Give one reason why deforestation in the Amazon is harmful.\n",
      "A: climate change\n",
      "\n"
     ]
    }
   ],
   "source": [
    "rephrased_questions = [\n",
    "    \"Explain briefly what the Amazon rainforest is.\",\n",
    "    \"List the countries where the Amazon is found.\",\n",
    "    \"Give one reason why deforestation in the Amazon is harmful.\",\n",
    "]\n",
    "\n",
    "chunkers = {\n",
    "    \"Sentences\": (chunks_sent, E_sent),\n",
    "    \"Paragraphs\": (chunks_para, E_para),\n",
    "    \"Tokens\": (chunks_tok, E_tok),\n",
    "}\n",
    "\n",
    "for name, (chs, E) in chunkers.items():\n",
    "    print(f\"\\n--- {name} ---\")\n",
    "    for q in rephrased_questions:\n",
    "        ans = answer_question(q, chs, E, metric=\"cosine\")\n",
    "        print(\"Q:\", q)\n",
    "        print(\"A:\", ans)\n",
    "    print()\n"
   ]
  },
  {
   "cell_type": "markdown",
   "metadata": {},
   "source": [
    "Rephrasing made the differences between chunking strategies clearer. All three handled the rainforest definition well. For the countries question, only tokens retrieved the right chunk, while sentences and paragraphs picked unrelated text. On deforestation, sentences highlighted causes, while paragraphs and tokens focused on consequences. This shows that both the phrasing of the question and the chunking strategy affect which passage is retrieved and, in turn, the answer.\n",
    "<br></br>This happens because when we rephrase a question, its vector moves slightly in the embedding space, and that can make it land closer to a different chunk.\n"
   ]
  },
  {
   "cell_type": "markdown",
   "metadata": {},
   "source": [
    "### Try a different similarity search instead of cosine similarity - do the answers improve?"
   ]
  },
  {
   "cell_type": "code",
   "execution_count": 13,
   "metadata": {},
   "outputs": [
    {
     "name": "stdout",
     "output_type": "stream",
     "text": [
      "\n",
      "=== Sentences ===\n",
      "\n",
      "--- Using COSINE ---\n",
      "Q: What is the Amazon rainforest?\n",
      "A: the largest tropical rainforest in the world\n",
      "Q: Which countries does the Amazon span across?\n",
      "A: Brazil, Peru, and Colombia\n",
      "Q: Why is deforestation a problem in the Amazon?\n",
      "A: agriculture, logging, and urbanization\n",
      "Q: How does the Amazon rainforest affect global weather patterns?\n",
      "A: releasing water vapor into the atmosphere\n",
      "Q: What role do indigenous tribes play in the Amazon?\n",
      "A: relying on its rich biodiversity for food, medicine, and shelter\n",
      "Q: What is the importance of the Amazon River?\n",
      "A: carries more water\n",
      "Q: What types of wildlife can be found in the Amazon?\n",
      "A: Indigenous tribes\n",
      "Q: How does deforestation contribute to climate change?\n",
      "A: the rainforest acts as a major carbon sink\n",
      "Q: What efforts are being made to protect the Amazon?\n",
      "A: international agreements, conservation programs, and sustainable development projects\n",
      "Q: Why is the Amazon considered a major carbon sink?\n",
      "A: deforestation contributes to climate change\n",
      "\n",
      "\n",
      "--- Using EUCLIDEAN ---\n",
      "Q: What is the Amazon rainforest?\n",
      "A: the largest tropical rainforest in the world\n",
      "Q: Which countries does the Amazon span across?\n",
      "A: Brazil, Peru, and Colombia\n",
      "Q: Why is deforestation a problem in the Amazon?\n",
      "A: agriculture, logging, and urbanization\n",
      "Q: How does the Amazon rainforest affect global weather patterns?\n",
      "A: releasing water vapor into the atmosphere\n",
      "Q: What role do indigenous tribes play in the Amazon?\n",
      "A: relying on its rich biodiversity for food, medicine, and shelter\n",
      "Q: What is the importance of the Amazon River?\n",
      "A: carries more water\n",
      "Q: What types of wildlife can be found in the Amazon?\n",
      "A: Indigenous tribes\n",
      "Q: How does deforestation contribute to climate change?\n",
      "A: the rainforest acts as a major carbon sink\n",
      "Q: What efforts are being made to protect the Amazon?\n",
      "A: international agreements, conservation programs, and sustainable development projects\n",
      "Q: Why is the Amazon considered a major carbon sink?\n",
      "A: deforestation contributes to climate change\n",
      "\n",
      "\n",
      "=== Paragraphs ===\n",
      "\n",
      "--- Using COSINE ---\n",
      "Q: What is the Amazon rainforest?\n",
      "A: largest tropical rainforest in the world\n",
      "Q: Which countries does the Amazon span across?\n",
      "A: Brazil, Peru, and Colombia\n",
      "Q: Why is deforestation a problem in the Amazon?\n",
      "A: climate change\n",
      "Q: How does the Amazon rainforest affect global weather patterns?\n",
      "A: releasing water vapor into the atmosphere\n",
      "Q: What role do indigenous tribes play in the Amazon?\n",
      "A: relying on its rich biodiversity for food, medicine, and shelter\n",
      "Q: What is the importance of the Amazon River?\n",
      "A: global weather patterns\n",
      "Q: What types of wildlife can be found in the Amazon?\n",
      "A: Indigenous tribes\n",
      "Q: How does deforestation contribute to climate change?\n",
      "A: the rainforest acts as a major carbon sink\n",
      "Q: What efforts are being made to protect the Amazon?\n",
      "A: international agreements, conservation programs, and sustainable development projects\n",
      "Q: Why is the Amazon considered a major carbon sink?\n",
      "A: climate change\n",
      "\n",
      "\n",
      "--- Using EUCLIDEAN ---\n",
      "Q: What is the Amazon rainforest?\n",
      "A: largest tropical rainforest in the world\n",
      "Q: Which countries does the Amazon span across?\n",
      "A: Brazil, Peru, and Colombia\n",
      "Q: Why is deforestation a problem in the Amazon?\n",
      "A: climate change\n",
      "Q: How does the Amazon rainforest affect global weather patterns?\n",
      "A: releasing water vapor into the atmosphere\n",
      "Q: What role do indigenous tribes play in the Amazon?\n",
      "A: relying on its rich biodiversity for food, medicine, and shelter\n",
      "Q: What is the importance of the Amazon River?\n",
      "A: global weather patterns\n",
      "Q: What types of wildlife can be found in the Amazon?\n",
      "A: Indigenous tribes\n",
      "Q: How does deforestation contribute to climate change?\n",
      "A: the rainforest acts as a major carbon sink\n",
      "Q: What efforts are being made to protect the Amazon?\n",
      "A: international agreements, conservation programs, and sustainable development projects\n",
      "Q: Why is the Amazon considered a major carbon sink?\n",
      "A: climate change\n",
      "\n",
      "\n",
      "=== Tokens ===\n",
      "\n",
      "--- Using COSINE ---\n",
      "Q: What is the Amazon rainforest?\n",
      "A: largest tropical rainforest in the world\n",
      "Q: Which countries does the Amazon span across?\n",
      "A: Brazil, Peru, and Colombia\n",
      "Q: Why is deforestation a problem in the Amazon?\n",
      "A: climate change\n",
      "Q: How does the Amazon rainforest affect global weather patterns?\n",
      "A: deforestation\n",
      "Q: What role do indigenous tribes play in the Amazon?\n",
      "A: relying on its rich biodiversity for food, medicine, and shelter\n",
      "Q: What is the importance of the Amazon River?\n",
      "A: carries more water\n",
      "Q: What types of wildlife can be found in the Amazon?\n",
      "A: jaguars, sloths, and thousands of species of insects and birds\n",
      "Q: How does deforestation contribute to climate change?\n",
      "A: the rainforest acts as a major carbon sink\n",
      "Q: What efforts are being made to protect the Amazon?\n",
      "A: international agreements, conservation programs, and sustainable development projects\n",
      "Q: Why is the Amazon considered a major carbon sink?\n",
      "A: global weather patterns\n",
      "\n",
      "\n",
      "--- Using EUCLIDEAN ---\n",
      "Q: What is the Amazon rainforest?\n",
      "A: largest tropical rainforest in the world\n",
      "Q: Which countries does the Amazon span across?\n",
      "A: Brazil, Peru, and Colombia\n",
      "Q: Why is deforestation a problem in the Amazon?\n",
      "A: climate change\n",
      "Q: How does the Amazon rainforest affect global weather patterns?\n",
      "A: deforestation\n",
      "Q: What role do indigenous tribes play in the Amazon?\n",
      "A: relying on its rich biodiversity for food, medicine, and shelter\n",
      "Q: What is the importance of the Amazon River?\n",
      "A: carries more water\n",
      "Q: What types of wildlife can be found in the Amazon?\n",
      "A: jaguars, sloths, and thousands of species of insects and birds\n",
      "Q: How does deforestation contribute to climate change?\n",
      "A: the rainforest acts as a major carbon sink\n",
      "Q: What efforts are being made to protect the Amazon?\n",
      "A: international agreements, conservation programs, and sustainable development projects\n",
      "Q: Why is the Amazon considered a major carbon sink?\n",
      "A: global weather patterns\n",
      "\n"
     ]
    }
   ],
   "source": [
    "chunkers = {\n",
    "    \"Sentences\": (chunks_sent, E_sent),\n",
    "    \"Paragraphs\": (chunks_para, E_para),\n",
    "    \"Tokens\": (chunks_tok, E_tok),\n",
    "}\n",
    "\n",
    "for name, (chs, E) in chunkers.items():\n",
    "    print(f\"\\n=== {name} ===\")\n",
    "    for metric in [\"cosine\", \"euclidean\"]:\n",
    "        print(f\"\\n--- Using {metric.upper()} ---\")\n",
    "        for q in questions:\n",
    "            ans = answer_question(q, chs, E, metric=metric)\n",
    "            print(\"Q:\", q)\n",
    "            print(\"A:\", ans)\n",
    "        print()\n"
   ]
  },
  {
   "cell_type": "markdown",
   "metadata": {},
   "source": [
    "Running all questions confirmed that cosine and euclidean gave exactly the same answers. This is because sentence-transformer embeddings are normalized, so cosine and euclidean produce the same ranking of passages.\n"
   ]
  }
 ],
 "metadata": {
  "kernelspec": {
   "display_name": "Python 3",
   "language": "python",
   "name": "python3"
  },
  "language_info": {
   "codemirror_mode": {
    "name": "ipython",
    "version": 3
   },
   "file_extension": ".py",
   "mimetype": "text/x-python",
   "name": "python",
   "nbconvert_exporter": "python",
   "pygments_lexer": "ipython3",
   "version": "3.10.11"
  }
 },
 "nbformat": 4,
 "nbformat_minor": 2
}
