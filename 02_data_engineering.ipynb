{
 "cells": [
  {
   "cell_type": "markdown",
   "metadata": {
    "id": "xo5Wu2ZVOfj3"
   },
   "source": [
    "# 2: Data engineering\n",
    "\n",
    "The hand-in exercise for this topic is Task 7 from the notebook “DE_Task.ipynb”. The\n",
    "exercise asks you to wrap the functionality of other tasks in this notebook into an ETL\n",
    "pipeline. Note that the GroupBY tasks (which are extra) are not needed in this ETL\n",
    "pipeline. The data visualization parts are also not needed. The pipeline should contain\n",
    "some of the data cleaning (such as removing duplicates and nulls) and then creation of\n",
    "features which are part of task 4 and 5."
   ]
  },
  {
   "cell_type": "markdown",
   "metadata": {
    "id": "XA6ebZ3hOiMH"
   },
   "source": [
    "### Assemble and imports\n",
    "\n",
    "Download dataset from kaggle and import needed libs."
   ]
  },
  {
   "cell_type": "code",
   "execution_count": 1,
   "metadata": {
    "executionInfo": {
     "elapsed": 14,
     "status": "ok",
     "timestamp": 1741999195847,
     "user": {
      "displayName": "Daniel Iversen",
      "userId": "04843677771367093898"
     },
     "user_tz": -60
    },
    "id": "_Z1oN-GrOjj9"
   },
   "outputs": [],
   "source": [
    "import pandas as pd\n",
    "import numpy as np\n",
    "import matplotlib.pyplot as plt\n",
    "import seaborn as sns\n",
    "import kagglehub\n",
    "import os"
   ]
  },
  {
   "cell_type": "code",
   "execution_count": 2,
   "metadata": {
    "colab": {
     "base_uri": "https://localhost:8080/"
    },
    "executionInfo": {
     "elapsed": 1251,
     "status": "ok",
     "timestamp": 1741999197110,
     "user": {
      "displayName": "Daniel Iversen",
      "userId": "04843677771367093898"
     },
     "user_tz": -60
    },
    "id": "O-cVv-FNOkmW",
    "outputId": "b3f670f8-7d05-4ba3-d6f4-5fb40f6d5260"
   },
   "outputs": [
    {
     "name": "stdout",
     "output_type": "stream",
     "text": [
      "Downloading from https://www.kaggle.com/api/v1/datasets/download/lakshmi25npathi/online-retail-dataset?dataset_version_number=1...\n"
     ]
    },
    {
     "name": "stderr",
     "output_type": "stream",
     "text": [
      "100%|██████████| 43.3M/43.3M [00:01<00:00, 23.2MB/s]"
     ]
    },
    {
     "name": "stdout",
     "output_type": "stream",
     "text": [
      "Extracting files...\n"
     ]
    },
    {
     "name": "stderr",
     "output_type": "stream",
     "text": [
      "\n"
     ]
    },
    {
     "name": "stdout",
     "output_type": "stream",
     "text": [
      "Path to dataset files: C:\\Users\\abjar\\.cache\\kagglehub\\datasets\\lakshmi25npathi\\online-retail-dataset\\versions\\1\n"
     ]
    }
   ],
   "source": [
    "path = kagglehub.dataset_download(\"lakshmi25npathi/online-retail-dataset\")\n",
    "\n",
    "print(\"Path to dataset files:\", path)"
   ]
  },
  {
   "cell_type": "code",
   "execution_count": 3,
   "metadata": {
    "colab": {
     "base_uri": "https://localhost:8080/"
    },
    "executionInfo": {
     "elapsed": 3,
     "status": "ok",
     "timestamp": 1741999197113,
     "user": {
      "displayName": "Daniel Iversen",
      "userId": "04843677771367093898"
     },
     "user_tz": -60
    },
    "id": "5KhUrUleOmHA",
    "outputId": "b351aad3-0abb-4251-8d1a-40708c13a3b3"
   },
   "outputs": [
    {
     "name": "stdout",
     "output_type": "stream",
     "text": [
      "['online_retail_II.xlsx']\n"
     ]
    }
   ],
   "source": [
    "dataset_path = path\n",
    "\n",
    "files = os.listdir(dataset_path)\n",
    "print(files)\n"
   ]
  },
  {
   "cell_type": "code",
   "execution_count": 4,
   "metadata": {
    "executionInfo": {
     "elapsed": 36898,
     "status": "ok",
     "timestamp": 1741999234017,
     "user": {
      "displayName": "Daniel Iversen",
      "userId": "04843677771367093898"
     },
     "user_tz": -60
    },
    "id": "8MBns6taPjsu"
   },
   "outputs": [],
   "source": [
    "file_path = path + \"/online_retail_II.xlsx\"\n",
    "\n",
    "df = pd.read_excel(file_path)"
   ]
  },
  {
   "cell_type": "markdown",
   "metadata": {
    "id": "p9kW7psyOnHH"
   },
   "source": [
    "---"
   ]
  },
  {
   "cell_type": "markdown",
   "metadata": {
    "id": "EVBfbI37OoFU"
   },
   "source": [
    "### Datacleaning\n",
    "\n",
    "First looks, datacleaning to prepare data for visulization and ideation."
   ]
  },
  {
   "cell_type": "code",
   "execution_count": 5,
   "metadata": {
    "colab": {
     "base_uri": "https://localhost:8080/",
     "height": 206
    },
    "executionInfo": {
     "elapsed": 6,
     "status": "ok",
     "timestamp": 1741999234025,
     "user": {
      "displayName": "Daniel Iversen",
      "userId": "04843677771367093898"
     },
     "user_tz": -60
    },
    "id": "teISt9wkOpDp",
    "outputId": "dba1511f-218b-4797-c70a-30c93a93cd73"
   },
   "outputs": [
    {
     "data": {
      "text/html": [
       "<div>\n",
       "<style scoped>\n",
       "    .dataframe tbody tr th:only-of-type {\n",
       "        vertical-align: middle;\n",
       "    }\n",
       "\n",
       "    .dataframe tbody tr th {\n",
       "        vertical-align: top;\n",
       "    }\n",
       "\n",
       "    .dataframe thead th {\n",
       "        text-align: right;\n",
       "    }\n",
       "</style>\n",
       "<table border=\"1\" class=\"dataframe\">\n",
       "  <thead>\n",
       "    <tr style=\"text-align: right;\">\n",
       "      <th></th>\n",
       "      <th>Invoice</th>\n",
       "      <th>StockCode</th>\n",
       "      <th>Description</th>\n",
       "      <th>Quantity</th>\n",
       "      <th>InvoiceDate</th>\n",
       "      <th>Price</th>\n",
       "      <th>Customer ID</th>\n",
       "      <th>Country</th>\n",
       "    </tr>\n",
       "  </thead>\n",
       "  <tbody>\n",
       "    <tr>\n",
       "      <th>0</th>\n",
       "      <td>489434</td>\n",
       "      <td>85048</td>\n",
       "      <td>15CM CHRISTMAS GLASS BALL 20 LIGHTS</td>\n",
       "      <td>12</td>\n",
       "      <td>2009-12-01 07:45:00</td>\n",
       "      <td>6.95</td>\n",
       "      <td>13085.0</td>\n",
       "      <td>United Kingdom</td>\n",
       "    </tr>\n",
       "    <tr>\n",
       "      <th>1</th>\n",
       "      <td>489434</td>\n",
       "      <td>79323P</td>\n",
       "      <td>PINK CHERRY LIGHTS</td>\n",
       "      <td>12</td>\n",
       "      <td>2009-12-01 07:45:00</td>\n",
       "      <td>6.75</td>\n",
       "      <td>13085.0</td>\n",
       "      <td>United Kingdom</td>\n",
       "    </tr>\n",
       "    <tr>\n",
       "      <th>2</th>\n",
       "      <td>489434</td>\n",
       "      <td>79323W</td>\n",
       "      <td>WHITE CHERRY LIGHTS</td>\n",
       "      <td>12</td>\n",
       "      <td>2009-12-01 07:45:00</td>\n",
       "      <td>6.75</td>\n",
       "      <td>13085.0</td>\n",
       "      <td>United Kingdom</td>\n",
       "    </tr>\n",
       "    <tr>\n",
       "      <th>3</th>\n",
       "      <td>489434</td>\n",
       "      <td>22041</td>\n",
       "      <td>RECORD FRAME 7\" SINGLE SIZE</td>\n",
       "      <td>48</td>\n",
       "      <td>2009-12-01 07:45:00</td>\n",
       "      <td>2.10</td>\n",
       "      <td>13085.0</td>\n",
       "      <td>United Kingdom</td>\n",
       "    </tr>\n",
       "    <tr>\n",
       "      <th>4</th>\n",
       "      <td>489434</td>\n",
       "      <td>21232</td>\n",
       "      <td>STRAWBERRY CERAMIC TRINKET BOX</td>\n",
       "      <td>24</td>\n",
       "      <td>2009-12-01 07:45:00</td>\n",
       "      <td>1.25</td>\n",
       "      <td>13085.0</td>\n",
       "      <td>United Kingdom</td>\n",
       "    </tr>\n",
       "  </tbody>\n",
       "</table>\n",
       "</div>"
      ],
      "text/plain": [
       "  Invoice StockCode                          Description  Quantity  \\\n",
       "0  489434     85048  15CM CHRISTMAS GLASS BALL 20 LIGHTS        12   \n",
       "1  489434    79323P                   PINK CHERRY LIGHTS        12   \n",
       "2  489434    79323W                  WHITE CHERRY LIGHTS        12   \n",
       "3  489434     22041         RECORD FRAME 7\" SINGLE SIZE         48   \n",
       "4  489434     21232       STRAWBERRY CERAMIC TRINKET BOX        24   \n",
       "\n",
       "          InvoiceDate  Price  Customer ID         Country  \n",
       "0 2009-12-01 07:45:00   6.95      13085.0  United Kingdom  \n",
       "1 2009-12-01 07:45:00   6.75      13085.0  United Kingdom  \n",
       "2 2009-12-01 07:45:00   6.75      13085.0  United Kingdom  \n",
       "3 2009-12-01 07:45:00   2.10      13085.0  United Kingdom  \n",
       "4 2009-12-01 07:45:00   1.25      13085.0  United Kingdom  "
      ]
     },
     "execution_count": 5,
     "metadata": {},
     "output_type": "execute_result"
    }
   ],
   "source": [
    "df.head()"
   ]
  },
  {
   "cell_type": "code",
   "execution_count": 6,
   "metadata": {
    "colab": {
     "base_uri": "https://localhost:8080/"
    },
    "executionInfo": {
     "elapsed": 98,
     "status": "ok",
     "timestamp": 1741999234170,
     "user": {
      "displayName": "Daniel Iversen",
      "userId": "04843677771367093898"
     },
     "user_tz": -60
    },
    "id": "jbRzYU7jOqIj",
    "outputId": "54e5a86e-7a43-4d68-8b69-60684ed49b8c"
   },
   "outputs": [
    {
     "name": "stdout",
     "output_type": "stream",
     "text": [
      "<class 'pandas.core.frame.DataFrame'>\n",
      "RangeIndex: 525461 entries, 0 to 525460\n",
      "Data columns (total 8 columns):\n",
      " #   Column       Non-Null Count   Dtype         \n",
      "---  ------       --------------   -----         \n",
      " 0   Invoice      525461 non-null  object        \n",
      " 1   StockCode    525461 non-null  object        \n",
      " 2   Description  522533 non-null  object        \n",
      " 3   Quantity     525461 non-null  int64         \n",
      " 4   InvoiceDate  525461 non-null  datetime64[ns]\n",
      " 5   Price        525461 non-null  float64       \n",
      " 6   Customer ID  417534 non-null  float64       \n",
      " 7   Country      525461 non-null  object        \n",
      "dtypes: datetime64[ns](1), float64(2), int64(1), object(4)\n",
      "memory usage: 32.1+ MB\n"
     ]
    }
   ],
   "source": [
    "df.info()"
   ]
  },
  {
   "cell_type": "code",
   "execution_count": 7,
   "metadata": {
    "colab": {
     "base_uri": "https://localhost:8080/",
     "height": 300
    },
    "executionInfo": {
     "elapsed": 162,
     "status": "ok",
     "timestamp": 1741999234332,
     "user": {
      "displayName": "Daniel Iversen",
      "userId": "04843677771367093898"
     },
     "user_tz": -60
    },
    "id": "RBX59x8-Op_9",
    "outputId": "d495a741-ffe8-4879-d280-59d5a7a1d928"
   },
   "outputs": [
    {
     "data": {
      "text/html": [
       "<div>\n",
       "<style scoped>\n",
       "    .dataframe tbody tr th:only-of-type {\n",
       "        vertical-align: middle;\n",
       "    }\n",
       "\n",
       "    .dataframe tbody tr th {\n",
       "        vertical-align: top;\n",
       "    }\n",
       "\n",
       "    .dataframe thead th {\n",
       "        text-align: right;\n",
       "    }\n",
       "</style>\n",
       "<table border=\"1\" class=\"dataframe\">\n",
       "  <thead>\n",
       "    <tr style=\"text-align: right;\">\n",
       "      <th></th>\n",
       "      <th>Quantity</th>\n",
       "      <th>InvoiceDate</th>\n",
       "      <th>Price</th>\n",
       "      <th>Customer ID</th>\n",
       "    </tr>\n",
       "  </thead>\n",
       "  <tbody>\n",
       "    <tr>\n",
       "      <th>count</th>\n",
       "      <td>525461.000000</td>\n",
       "      <td>525461</td>\n",
       "      <td>525461.000000</td>\n",
       "      <td>417534.000000</td>\n",
       "    </tr>\n",
       "    <tr>\n",
       "      <th>mean</th>\n",
       "      <td>10.337667</td>\n",
       "      <td>2010-06-28 11:37:36.845017856</td>\n",
       "      <td>4.688834</td>\n",
       "      <td>15360.645478</td>\n",
       "    </tr>\n",
       "    <tr>\n",
       "      <th>min</th>\n",
       "      <td>-9600.000000</td>\n",
       "      <td>2009-12-01 07:45:00</td>\n",
       "      <td>-53594.360000</td>\n",
       "      <td>12346.000000</td>\n",
       "    </tr>\n",
       "    <tr>\n",
       "      <th>25%</th>\n",
       "      <td>1.000000</td>\n",
       "      <td>2010-03-21 12:20:00</td>\n",
       "      <td>1.250000</td>\n",
       "      <td>13983.000000</td>\n",
       "    </tr>\n",
       "    <tr>\n",
       "      <th>50%</th>\n",
       "      <td>3.000000</td>\n",
       "      <td>2010-07-06 09:51:00</td>\n",
       "      <td>2.100000</td>\n",
       "      <td>15311.000000</td>\n",
       "    </tr>\n",
       "    <tr>\n",
       "      <th>75%</th>\n",
       "      <td>10.000000</td>\n",
       "      <td>2010-10-15 12:45:00</td>\n",
       "      <td>4.210000</td>\n",
       "      <td>16799.000000</td>\n",
       "    </tr>\n",
       "    <tr>\n",
       "      <th>max</th>\n",
       "      <td>19152.000000</td>\n",
       "      <td>2010-12-09 20:01:00</td>\n",
       "      <td>25111.090000</td>\n",
       "      <td>18287.000000</td>\n",
       "    </tr>\n",
       "    <tr>\n",
       "      <th>std</th>\n",
       "      <td>107.424110</td>\n",
       "      <td>NaN</td>\n",
       "      <td>146.126914</td>\n",
       "      <td>1680.811316</td>\n",
       "    </tr>\n",
       "  </tbody>\n",
       "</table>\n",
       "</div>"
      ],
      "text/plain": [
       "            Quantity                    InvoiceDate          Price  \\\n",
       "count  525461.000000                         525461  525461.000000   \n",
       "mean       10.337667  2010-06-28 11:37:36.845017856       4.688834   \n",
       "min     -9600.000000            2009-12-01 07:45:00  -53594.360000   \n",
       "25%         1.000000            2010-03-21 12:20:00       1.250000   \n",
       "50%         3.000000            2010-07-06 09:51:00       2.100000   \n",
       "75%        10.000000            2010-10-15 12:45:00       4.210000   \n",
       "max     19152.000000            2010-12-09 20:01:00   25111.090000   \n",
       "std       107.424110                            NaN     146.126914   \n",
       "\n",
       "         Customer ID  \n",
       "count  417534.000000  \n",
       "mean    15360.645478  \n",
       "min     12346.000000  \n",
       "25%     13983.000000  \n",
       "50%     15311.000000  \n",
       "75%     16799.000000  \n",
       "max     18287.000000  \n",
       "std      1680.811316  "
      ]
     },
     "execution_count": 7,
     "metadata": {},
     "output_type": "execute_result"
    }
   ],
   "source": [
    "df.describe()"
   ]
  },
  {
   "cell_type": "markdown",
   "metadata": {
    "id": "QpjgQN8fOthN"
   },
   "source": [
    "The dataset seems to have some missing values, lets handle those first."
   ]
  },
  {
   "cell_type": "code",
   "execution_count": 8,
   "metadata": {
    "colab": {
     "base_uri": "https://localhost:8080/",
     "height": 335
    },
    "executionInfo": {
     "elapsed": 51,
     "status": "ok",
     "timestamp": 1741999234383,
     "user": {
      "displayName": "Daniel Iversen",
      "userId": "04843677771367093898"
     },
     "user_tz": -60
    },
    "id": "xdfNw7HAOue6",
    "outputId": "9dd91b9f-fcde-439c-caf4-59fa894abed3"
   },
   "outputs": [
    {
     "data": {
      "text/plain": [
       "Invoice             0\n",
       "StockCode           0\n",
       "Description      2928\n",
       "Quantity            0\n",
       "InvoiceDate         0\n",
       "Price               0\n",
       "Customer ID    107927\n",
       "Country             0\n",
       "dtype: int64"
      ]
     },
     "execution_count": 8,
     "metadata": {},
     "output_type": "execute_result"
    }
   ],
   "source": [
    "# Sum of missing values\n",
    "df.isnull().sum()"
   ]
  },
  {
   "cell_type": "code",
   "execution_count": 9,
   "metadata": {
    "colab": {
     "base_uri": "https://localhost:8080/",
     "height": 335
    },
    "executionInfo": {
     "elapsed": 1614,
     "status": "ok",
     "timestamp": 1741999235998,
     "user": {
      "displayName": "Daniel Iversen",
      "userId": "04843677771367093898"
     },
     "user_tz": -60
    },
    "id": "1CVEW8YnOu-1",
    "outputId": "3bb9e58c-382e-4ea4-8d6e-116ef2cc1f42"
   },
   "outputs": [
    {
     "data": {
      "text/plain": [
       "Invoice             0\n",
       "StockCode           0\n",
       "Description       365\n",
       "Quantity            0\n",
       "InvoiceDate         0\n",
       "Price               0\n",
       "Customer ID    107927\n",
       "Country             0\n",
       "dtype: int64"
      ]
     },
     "execution_count": 9,
     "metadata": {},
     "output_type": "execute_result"
    }
   ],
   "source": [
    "# Fill missing 'Description' using the most common value per 'StockCode'\n",
    "df['Description'] = df.groupby('StockCode')['Description'].transform(lambda x: x.fillna(x.mode()[0]) if not x.mode().empty else x)\n",
    "# There should be 0 missing values now\n",
    "df.isnull().sum()"
   ]
  },
  {
   "cell_type": "markdown",
   "metadata": {},
   "source": [
    "even though there are around 20% missing values in costumer ids, we have decided to keep the feature, as well as the rows where it is missing. for a sales platform to be missing documentation would be detrimental for book keeping, and not having the costumer ids, would also mean that we cant see which ones are the biggest spenders. "
   ]
  },
  {
   "cell_type": "code",
   "execution_count": 10,
   "metadata": {
    "colab": {
     "base_uri": "https://localhost:8080/"
    },
    "executionInfo": {
     "elapsed": 106,
     "status": "ok",
     "timestamp": 1741999236103,
     "user": {
      "displayName": "Daniel Iversen",
      "userId": "04843677771367093898"
     },
     "user_tz": -60
    },
    "id": "lNlBmVGDOxMq",
    "outputId": "8dc8035b-06c1-4574-a08e-fe127283b3c2"
   },
   "outputs": [
    {
     "data": {
      "text/plain": [
       "6865"
      ]
     },
     "execution_count": 10,
     "metadata": {},
     "output_type": "execute_result"
    }
   ],
   "source": [
    "# Check\n",
    "df.duplicated().sum()"
   ]
  },
  {
   "cell_type": "code",
   "execution_count": 11,
   "metadata": {},
   "outputs": [
    {
     "data": {
      "text/html": [
       "<div>\n",
       "<style scoped>\n",
       "    .dataframe tbody tr th:only-of-type {\n",
       "        vertical-align: middle;\n",
       "    }\n",
       "\n",
       "    .dataframe tbody tr th {\n",
       "        vertical-align: top;\n",
       "    }\n",
       "\n",
       "    .dataframe thead th {\n",
       "        text-align: right;\n",
       "    }\n",
       "</style>\n",
       "<table border=\"1\" class=\"dataframe\">\n",
       "  <thead>\n",
       "    <tr style=\"text-align: right;\">\n",
       "      <th></th>\n",
       "      <th>Invoice</th>\n",
       "      <th>StockCode</th>\n",
       "      <th>Description</th>\n",
       "      <th>Quantity</th>\n",
       "      <th>InvoiceDate</th>\n",
       "      <th>Price</th>\n",
       "      <th>Customer ID</th>\n",
       "      <th>Country</th>\n",
       "    </tr>\n",
       "  </thead>\n",
       "  <tbody>\n",
       "    <tr>\n",
       "      <th>371</th>\n",
       "      <td>489517</td>\n",
       "      <td>21912</td>\n",
       "      <td>VINTAGE SNAKES &amp; LADDERS</td>\n",
       "      <td>1</td>\n",
       "      <td>2009-12-01 11:34:00</td>\n",
       "      <td>3.75</td>\n",
       "      <td>16329.0</td>\n",
       "      <td>United Kingdom</td>\n",
       "    </tr>\n",
       "    <tr>\n",
       "      <th>383</th>\n",
       "      <td>489517</td>\n",
       "      <td>22130</td>\n",
       "      <td>PARTY CONE CHRISTMAS DECORATION</td>\n",
       "      <td>6</td>\n",
       "      <td>2009-12-01 11:34:00</td>\n",
       "      <td>0.85</td>\n",
       "      <td>16329.0</td>\n",
       "      <td>United Kingdom</td>\n",
       "    </tr>\n",
       "    <tr>\n",
       "      <th>384</th>\n",
       "      <td>489517</td>\n",
       "      <td>22319</td>\n",
       "      <td>HAIRCLIPS FORTIES FABRIC ASSORTED</td>\n",
       "      <td>12</td>\n",
       "      <td>2009-12-01 11:34:00</td>\n",
       "      <td>0.65</td>\n",
       "      <td>16329.0</td>\n",
       "      <td>United Kingdom</td>\n",
       "    </tr>\n",
       "    <tr>\n",
       "      <th>385</th>\n",
       "      <td>489517</td>\n",
       "      <td>21913</td>\n",
       "      <td>VINTAGE SEASIDE JIGSAW PUZZLES</td>\n",
       "      <td>1</td>\n",
       "      <td>2009-12-01 11:34:00</td>\n",
       "      <td>3.75</td>\n",
       "      <td>16329.0</td>\n",
       "      <td>United Kingdom</td>\n",
       "    </tr>\n",
       "    <tr>\n",
       "      <th>386</th>\n",
       "      <td>489517</td>\n",
       "      <td>21821</td>\n",
       "      <td>GLITTER STAR GARLAND WITH BELLS</td>\n",
       "      <td>1</td>\n",
       "      <td>2009-12-01 11:34:00</td>\n",
       "      <td>3.75</td>\n",
       "      <td>16329.0</td>\n",
       "      <td>United Kingdom</td>\n",
       "    </tr>\n",
       "  </tbody>\n",
       "</table>\n",
       "</div>"
      ],
      "text/plain": [
       "    Invoice StockCode                        Description  Quantity  \\\n",
       "371  489517     21912           VINTAGE SNAKES & LADDERS         1   \n",
       "383  489517     22130   PARTY CONE CHRISTMAS DECORATION          6   \n",
       "384  489517     22319  HAIRCLIPS FORTIES FABRIC ASSORTED        12   \n",
       "385  489517     21913     VINTAGE SEASIDE JIGSAW PUZZLES         1   \n",
       "386  489517     21821   GLITTER STAR GARLAND WITH BELLS          1   \n",
       "\n",
       "            InvoiceDate  Price  Customer ID         Country  \n",
       "371 2009-12-01 11:34:00   3.75      16329.0  United Kingdom  \n",
       "383 2009-12-01 11:34:00   0.85      16329.0  United Kingdom  \n",
       "384 2009-12-01 11:34:00   0.65      16329.0  United Kingdom  \n",
       "385 2009-12-01 11:34:00   3.75      16329.0  United Kingdom  \n",
       "386 2009-12-01 11:34:00   3.75      16329.0  United Kingdom  "
      ]
     },
     "execution_count": 11,
     "metadata": {},
     "output_type": "execute_result"
    }
   ],
   "source": [
    "df[df.duplicated()].head()\n"
   ]
  },
  {
   "cell_type": "markdown",
   "metadata": {},
   "source": [
    "Since the duplicates detected, were not true duplicates, we have decided to keep them, as not doing this would mean that we lose date which could have been used otherwise."
   ]
  },
  {
   "cell_type": "markdown",
   "metadata": {
    "id": "v-THb72iOzCE"
   },
   "source": [
    "### Renaming Invoice to InvoiceNumber to avoid confusion"
   ]
  },
  {
   "cell_type": "code",
   "execution_count": 12,
   "metadata": {
    "executionInfo": {
     "elapsed": 3,
     "status": "ok",
     "timestamp": 1741999236426,
     "user": {
      "displayName": "Daniel Iversen",
      "userId": "04843677771367093898"
     },
     "user_tz": -60
    },
    "id": "1i1HIMCGO0pL"
   },
   "outputs": [],
   "source": [
    "df.rename(columns={'Invoice': 'InvoiceNumber'}, inplace=True)"
   ]
  },
  {
   "cell_type": "markdown",
   "metadata": {
    "id": "1Yjl6OcrO1vL"
   },
   "source": [
    "---"
   ]
  },
  {
   "cell_type": "markdown",
   "metadata": {
    "id": "S5NtZuJXO2jG"
   },
   "source": [
    "### Visualization and Exploration looking at general sales trends\n",
    "\n",
    "Getting an idea of what is possible to analyze using this data."
   ]
  },
  {
   "cell_type": "markdown",
   "metadata": {
    "id": "R0iSVdzLO3xQ"
   },
   "source": [
    "**a. Transactions over time, are sales improving or declining?**"
   ]
  },
  {
   "cell_type": "code",
   "execution_count": 13,
   "metadata": {
    "colab": {
     "base_uri": "https://localhost:8080/",
     "height": 564
    },
    "executionInfo": {
     "elapsed": 738,
     "status": "ok",
     "timestamp": 1741999237167,
     "user": {
      "displayName": "Daniel Iversen",
      "userId": "04843677771367093898"
     },
     "user_tz": -60
    },
    "id": "L1Lkw4uOO4vm",
    "outputId": "c6eed28e-e394-4ade-98ff-0e3c81aa3cee"
   },
   "outputs": [
    {
     "data": {
      "image/png": "[encoded data removed]",
      "text/plain": [
       "<Figure size 1200x600 with 1 Axes>"
      ]
     },
     "metadata": {},
     "output_type": "display_data"
    }
   ],
   "source": [
    "# Formatting date features for plotting\n",
    "# Convert from string to type:datetime\n",
    "df['InvoiceDate'] = pd.to_datetime(df['InvoiceDate'])\n",
    "# Create new 'Date' feature, removing the timestamp\n",
    "# Making it possilbe to group sales from the same data togther\n",
    "df['Date'] = df['InvoiceDate'].dt.date\n",
    "# Group by new 'Date' column and display count of transactions pr date\n",
    "daily_sales = df.groupby('Date').size()\n",
    "# Plot\n",
    "plt.figure(figsize=(12, 6))\n",
    "daily_sales.plot()\n",
    "plt.title(\"Number of Transactions Over Time\")\n",
    "plt.xlabel(\"Date\")\n",
    "plt.ylabel(\"Number of Transactions\")\n",
    "plt.show()"
   ]
  },
  {
   "cell_type": "markdown",
   "metadata": {
    "id": "DESc1K3YO6_z"
   },
   "source": [
    "**b. Looking at top selling products**\n",
    "\n",
    "- Which products can be promoted for campaigns.\n",
    "- Which products are candidates for a association rule mining analysis."
   ]
  },
  {
   "cell_type": "code",
   "execution_count": 14,
   "metadata": {
    "colab": {
     "base_uri": "https://localhost:8080/",
     "height": 765
    },
    "executionInfo": {
     "elapsed": 131,
     "status": "ok",
     "timestamp": 1741999237299,
     "user": {
      "displayName": "Daniel Iversen",
      "userId": "04843677771367093898"
     },
     "user_tz": -60
    },
    "id": "sdeC0Q4JO75Y",
    "outputId": "b2ebf6bd-7a00-4b4e-c368-faf55309b566"
   },
   "outputs": [
    {
     "data": {
      "image/png": "[encoded data removed]",
      "text/plain": [
       "<Figure size 1200x600 with 1 Axes>"
      ]
     },
     "metadata": {},
     "output_type": "display_data"
    }
   ],
   "source": [
    "# Group products by their name before plotting\n",
    "# Count total sum of each product, show 10 highest and sort descending\n",
    "top_products = df.groupby(\"Description\")[\"Quantity\"].sum().nlargest(10)\n",
    "# Plot\n",
    "plt.figure(figsize=(12, 6))\n",
    "top_products.plot(kind=\"bar\")\n",
    "plt.title(\"Top 10 Best Selling Products\")\n",
    "plt.xlabel(\"Product Description\")\n",
    "plt.ylabel(\"Total Quantity Sold\")\n",
    "plt.xticks(rotation=65) # Rotate display names for readability\n",
    "plt.show()"
   ]
  },
  {
   "cell_type": "markdown",
   "metadata": {
    "id": "fb21_cvWO9eo"
   },
   "source": [
    "**c. Countries giving the most business**\n",
    "\n",
    "- Perhaps it's not worth to focus campaign efforts against countires that aren't good customers."
   ]
  },
  {
   "cell_type": "code",
   "execution_count": 15,
   "metadata": {
    "colab": {
     "base_uri": "https://localhost:8080/",
     "height": 639
    },
    "executionInfo": {
     "elapsed": 57,
     "status": "ok",
     "timestamp": 1741999237357,
     "user": {
      "displayName": "Daniel Iversen",
      "userId": "04843677771367093898"
     },
     "user_tz": -60
    },
    "id": "D5yxZTTeO-j2",
    "outputId": "b1a050eb-f9e3-4642-cecb-d7054f8c782e"
   },
   "outputs": [
    {
     "data": {
      "image/png": "[encoded data removed]",
      "text/plain": [
       "<Figure size 1200x600 with 1 Axes>"
      ]
     },
     "metadata": {},
     "output_type": "display_data"
    }
   ],
   "source": [
    "plt.figure(figsize=(12, 6))\n",
    "# Plot top 10 from output of value_counts\n",
    "df['Country'].value_counts().head(10).plot(kind='bar')\n",
    "plt.title(\"Top 10 Countries by Number of Transactions\")\n",
    "plt.xlabel(\"Country\")\n",
    "plt.ylabel(\"Number of Transactions\")\n",
    "plt.xticks(rotation=45) # Rotate display names again\n",
    "plt.show()"
   ]
  },
  {
   "cell_type": "markdown",
   "metadata": {
    "id": "Iu7fyyH3PAW8"
   },
   "source": [
    "---"
   ]
  },
  {
   "cell_type": "markdown",
   "metadata": {
    "id": "MQ4ZgDopPBFf"
   },
   "source": [
    "### Feature engineering\n",
    "\n",
    "Create new features from existing ones, allowing for more precise analysis and use of additional parameters."
   ]
  },
  {
   "cell_type": "markdown",
   "metadata": {
    "id": "A7bw45TVPCBD"
   },
   "source": [
    "Attempting to create the following features:\n",
    "* **Revenue:** revenue pr item\n",
    "* **DayOfWeek:** to analyze sales trends by weekdays.\n",
    "* **TotalRevenue:** for each CustomerID\n",
    "* **MostPopularProduct:** based on 'Reveune'.\n",
    "* **Ordersize:** by summing Quantity for each InvoiceNo"
   ]
  },
  {
   "cell_type": "code",
   "execution_count": 16,
   "metadata": {
    "colab": {
     "base_uri": "https://localhost:8080/",
     "height": 206
    },
    "executionInfo": {
     "elapsed": 12,
     "status": "ok",
     "timestamp": 1741999237369,
     "user": {
      "displayName": "Daniel Iversen",
      "userId": "04843677771367093898"
     },
     "user_tz": -60
    },
    "id": "b2eGWJyRPDea",
    "outputId": "a50c41d3-d46f-4a11-ac82-4953a7ae0cb2"
   },
   "outputs": [
    {
     "data": {
      "text/html": [
       "<div>\n",
       "<style scoped>\n",
       "    .dataframe tbody tr th:only-of-type {\n",
       "        vertical-align: middle;\n",
       "    }\n",
       "\n",
       "    .dataframe tbody tr th {\n",
       "        vertical-align: top;\n",
       "    }\n",
       "\n",
       "    .dataframe thead th {\n",
       "        text-align: right;\n",
       "    }\n",
       "</style>\n",
       "<table border=\"1\" class=\"dataframe\">\n",
       "  <thead>\n",
       "    <tr style=\"text-align: right;\">\n",
       "      <th></th>\n",
       "      <th>InvoiceNumber</th>\n",
       "      <th>StockCode</th>\n",
       "      <th>Description</th>\n",
       "      <th>Quantity</th>\n",
       "      <th>InvoiceDate</th>\n",
       "      <th>Price</th>\n",
       "      <th>Customer ID</th>\n",
       "      <th>Country</th>\n",
       "      <th>Date</th>\n",
       "      <th>Revenue</th>\n",
       "    </tr>\n",
       "  </thead>\n",
       "  <tbody>\n",
       "    <tr>\n",
       "      <th>5538</th>\n",
       "      <td>489857</td>\n",
       "      <td>82585</td>\n",
       "      <td>SWEET VALENCIA CANDLE+CUP</td>\n",
       "      <td>1</td>\n",
       "      <td>2009-12-02 14:43:00</td>\n",
       "      <td>2.57</td>\n",
       "      <td>NaN</td>\n",
       "      <td>United Kingdom</td>\n",
       "      <td>2009-12-02</td>\n",
       "      <td>2.57</td>\n",
       "    </tr>\n",
       "    <tr>\n",
       "      <th>60231</th>\n",
       "      <td>494784</td>\n",
       "      <td>22200</td>\n",
       "      <td>FRYING PAN PINK POLKADOT</td>\n",
       "      <td>1</td>\n",
       "      <td>2010-01-18 13:20:00</td>\n",
       "      <td>8.47</td>\n",
       "      <td>NaN</td>\n",
       "      <td>United Kingdom</td>\n",
       "      <td>2010-01-18</td>\n",
       "      <td>8.47</td>\n",
       "    </tr>\n",
       "    <tr>\n",
       "      <th>173940</th>\n",
       "      <td>505866</td>\n",
       "      <td>84997a</td>\n",
       "      <td>GREEN 3 PIECE MINI DOTS CUTLERY SET</td>\n",
       "      <td>1</td>\n",
       "      <td>2010-04-26 13:27:00</td>\n",
       "      <td>7.62</td>\n",
       "      <td>NaN</td>\n",
       "      <td>United Kingdom</td>\n",
       "      <td>2010-04-26</td>\n",
       "      <td>7.62</td>\n",
       "    </tr>\n",
       "    <tr>\n",
       "      <th>436057</th>\n",
       "      <td>531036</td>\n",
       "      <td>21002</td>\n",
       "      <td>ROSE DU SUD DRAWSTRING BAG</td>\n",
       "      <td>1</td>\n",
       "      <td>2010-11-05 11:58:00</td>\n",
       "      <td>3.36</td>\n",
       "      <td>NaN</td>\n",
       "      <td>United Kingdom</td>\n",
       "      <td>2010-11-05</td>\n",
       "      <td>3.36</td>\n",
       "    </tr>\n",
       "    <tr>\n",
       "      <th>174542</th>\n",
       "      <td>505916</td>\n",
       "      <td>47566</td>\n",
       "      <td>PARTY BUNTING</td>\n",
       "      <td>2</td>\n",
       "      <td>2010-04-26 14:47:00</td>\n",
       "      <td>4.65</td>\n",
       "      <td>15867.0</td>\n",
       "      <td>United Kingdom</td>\n",
       "      <td>2010-04-26</td>\n",
       "      <td>9.30</td>\n",
       "    </tr>\n",
       "  </tbody>\n",
       "</table>\n",
       "</div>"
      ],
      "text/plain": [
       "       InvoiceNumber StockCode                          Description  Quantity  \\\n",
       "5538          489857     82585            SWEET VALENCIA CANDLE+CUP         1   \n",
       "60231         494784     22200            FRYING PAN PINK POLKADOT          1   \n",
       "173940        505866    84997a  GREEN 3 PIECE MINI DOTS CUTLERY SET         1   \n",
       "436057        531036     21002           ROSE DU SUD DRAWSTRING BAG         1   \n",
       "174542        505916     47566                        PARTY BUNTING         2   \n",
       "\n",
       "               InvoiceDate  Price  Customer ID         Country        Date  \\\n",
       "5538   2009-12-02 14:43:00   2.57          NaN  United Kingdom  2009-12-02   \n",
       "60231  2010-01-18 13:20:00   8.47          NaN  United Kingdom  2010-01-18   \n",
       "173940 2010-04-26 13:27:00   7.62          NaN  United Kingdom  2010-04-26   \n",
       "436057 2010-11-05 11:58:00   3.36          NaN  United Kingdom  2010-11-05   \n",
       "174542 2010-04-26 14:47:00   4.65      15867.0  United Kingdom  2010-04-26   \n",
       "\n",
       "        Revenue  \n",
       "5538       2.57  \n",
       "60231      8.47  \n",
       "173940     7.62  \n",
       "436057     3.36  \n",
       "174542     9.30  "
      ]
     },
     "execution_count": 16,
     "metadata": {},
     "output_type": "execute_result"
    }
   ],
   "source": [
    "# 'Revenue' feature\n",
    "df['Revenue'] = df['Quantity'] * df['Price']\n",
    "# Check if it looks correct\n",
    "df.sample(5)"
   ]
  },
  {
   "cell_type": "code",
   "execution_count": 17,
   "metadata": {
    "colab": {
     "base_uri": "https://localhost:8080/",
     "height": 310
    },
    "executionInfo": {
     "elapsed": 108,
     "status": "ok",
     "timestamp": 1741999399068,
     "user": {
      "displayName": "Daniel Iversen",
      "userId": "04843677771367093898"
     },
     "user_tz": -60
    },
    "id": "85uvCymgP-kI",
    "outputId": "c64aad92-796d-4999-ced8-6447370c239f"
   },
   "outputs": [
    {
     "data": {
      "text/html": [
       "<div>\n",
       "<style scoped>\n",
       "    .dataframe tbody tr th:only-of-type {\n",
       "        vertical-align: middle;\n",
       "    }\n",
       "\n",
       "    .dataframe tbody tr th {\n",
       "        vertical-align: top;\n",
       "    }\n",
       "\n",
       "    .dataframe thead th {\n",
       "        text-align: right;\n",
       "    }\n",
       "</style>\n",
       "<table border=\"1\" class=\"dataframe\">\n",
       "  <thead>\n",
       "    <tr style=\"text-align: right;\">\n",
       "      <th></th>\n",
       "      <th>InvoiceNumber</th>\n",
       "      <th>StockCode</th>\n",
       "      <th>Description</th>\n",
       "      <th>Quantity</th>\n",
       "      <th>InvoiceDate</th>\n",
       "      <th>Price</th>\n",
       "      <th>Customer ID</th>\n",
       "      <th>Country</th>\n",
       "      <th>Date</th>\n",
       "      <th>Revenue</th>\n",
       "      <th>DayOfWeek</th>\n",
       "    </tr>\n",
       "  </thead>\n",
       "  <tbody>\n",
       "    <tr>\n",
       "      <th>302553</th>\n",
       "      <td>518851</td>\n",
       "      <td>21724</td>\n",
       "      <td>PANDA AND BUNNIES STICKER SHEET</td>\n",
       "      <td>2</td>\n",
       "      <td>2010-08-12 12:21:00</td>\n",
       "      <td>0.85</td>\n",
       "      <td>15581.0</td>\n",
       "      <td>United Kingdom</td>\n",
       "      <td>2010-08-12</td>\n",
       "      <td>1.70</td>\n",
       "      <td>Thursday</td>\n",
       "    </tr>\n",
       "    <tr>\n",
       "      <th>276598</th>\n",
       "      <td>516269</td>\n",
       "      <td>20975</td>\n",
       "      <td>12 PENCILS SMALL TUBE RED SPOTTY</td>\n",
       "      <td>384</td>\n",
       "      <td>2010-07-19 12:19:00</td>\n",
       "      <td>0.65</td>\n",
       "      <td>17404.0</td>\n",
       "      <td>Sweden</td>\n",
       "      <td>2010-07-19</td>\n",
       "      <td>249.60</td>\n",
       "      <td>Monday</td>\n",
       "    </tr>\n",
       "    <tr>\n",
       "      <th>153203</th>\n",
       "      <td>503940</td>\n",
       "      <td>79190D</td>\n",
       "      <td>RETRO PLASTIC DAISY TRAY</td>\n",
       "      <td>1</td>\n",
       "      <td>2010-04-08 14:47:00</td>\n",
       "      <td>0.81</td>\n",
       "      <td>NaN</td>\n",
       "      <td>United Kingdom</td>\n",
       "      <td>2010-04-08</td>\n",
       "      <td>0.81</td>\n",
       "      <td>Thursday</td>\n",
       "    </tr>\n",
       "    <tr>\n",
       "      <th>502504</th>\n",
       "      <td>536262</td>\n",
       "      <td>22155</td>\n",
       "      <td>STAR DECORATION RUSTIC</td>\n",
       "      <td>6</td>\n",
       "      <td>2010-11-30 15:33:00</td>\n",
       "      <td>0.42</td>\n",
       "      <td>14085.0</td>\n",
       "      <td>United Kingdom</td>\n",
       "      <td>2010-11-30</td>\n",
       "      <td>2.52</td>\n",
       "      <td>Tuesday</td>\n",
       "    </tr>\n",
       "    <tr>\n",
       "      <th>469749</th>\n",
       "      <td>C533724</td>\n",
       "      <td>21231</td>\n",
       "      <td>SWEETHEART CERAMIC TRINKET BOX</td>\n",
       "      <td>-1</td>\n",
       "      <td>2010-11-18 13:29:00</td>\n",
       "      <td>1.25</td>\n",
       "      <td>12471.0</td>\n",
       "      <td>Germany</td>\n",
       "      <td>2010-11-18</td>\n",
       "      <td>-1.25</td>\n",
       "      <td>Thursday</td>\n",
       "    </tr>\n",
       "  </tbody>\n",
       "</table>\n",
       "</div>"
      ],
      "text/plain": [
       "       InvoiceNumber StockCode                       Description  Quantity  \\\n",
       "302553        518851     21724   PANDA AND BUNNIES STICKER SHEET         2   \n",
       "276598        516269     20975  12 PENCILS SMALL TUBE RED SPOTTY       384   \n",
       "153203        503940    79190D          RETRO PLASTIC DAISY TRAY         1   \n",
       "502504        536262     22155            STAR DECORATION RUSTIC         6   \n",
       "469749       C533724     21231    SWEETHEART CERAMIC TRINKET BOX        -1   \n",
       "\n",
       "               InvoiceDate  Price  Customer ID         Country        Date  \\\n",
       "302553 2010-08-12 12:21:00   0.85      15581.0  United Kingdom  2010-08-12   \n",
       "276598 2010-07-19 12:19:00   0.65      17404.0          Sweden  2010-07-19   \n",
       "153203 2010-04-08 14:47:00   0.81          NaN  United Kingdom  2010-04-08   \n",
       "502504 2010-11-30 15:33:00   0.42      14085.0  United Kingdom  2010-11-30   \n",
       "469749 2010-11-18 13:29:00   1.25      12471.0         Germany  2010-11-18   \n",
       "\n",
       "        Revenue DayOfWeek  \n",
       "302553     1.70  Thursday  \n",
       "276598   249.60    Monday  \n",
       "153203     0.81  Thursday  \n",
       "502504     2.52   Tuesday  \n",
       "469749    -1.25  Thursday  "
      ]
     },
     "execution_count": 17,
     "metadata": {},
     "output_type": "execute_result"
    }
   ],
   "source": [
    "# 'DayOfWeek' feature egnineering\n",
    "df[\"DayOfWeek\"] = df[\"InvoiceDate\"].dt.day_name()\n",
    "# Check if it looks correct:\n",
    "df.sample(5)"
   ]
  },
  {
   "cell_type": "code",
   "execution_count": 18,
   "metadata": {
    "colab": {
     "base_uri": "https://localhost:8080/",
     "height": 310
    },
    "executionInfo": {
     "elapsed": 52,
     "status": "ok",
     "timestamp": 1741999490103,
     "user": {
      "displayName": "Daniel Iversen",
      "userId": "04843677771367093898"
     },
     "user_tz": -60
    },
    "id": "RmqwPuyNQGOw",
    "outputId": "b7ff3fb1-a09d-421d-8e5f-4e4ac6c2551c"
   },
   "outputs": [
    {
     "data": {
      "text/html": [
       "<div>\n",
       "<style scoped>\n",
       "    .dataframe tbody tr th:only-of-type {\n",
       "        vertical-align: middle;\n",
       "    }\n",
       "\n",
       "    .dataframe tbody tr th {\n",
       "        vertical-align: top;\n",
       "    }\n",
       "\n",
       "    .dataframe thead th {\n",
       "        text-align: right;\n",
       "    }\n",
       "</style>\n",
       "<table border=\"1\" class=\"dataframe\">\n",
       "  <thead>\n",
       "    <tr style=\"text-align: right;\">\n",
       "      <th></th>\n",
       "      <th>InvoiceNumber</th>\n",
       "      <th>StockCode</th>\n",
       "      <th>Description</th>\n",
       "      <th>Quantity</th>\n",
       "      <th>InvoiceDate</th>\n",
       "      <th>Price</th>\n",
       "      <th>Customer ID</th>\n",
       "      <th>Country</th>\n",
       "      <th>Date</th>\n",
       "      <th>Revenue</th>\n",
       "      <th>DayOfWeek</th>\n",
       "      <th>TotalRevenue</th>\n",
       "    </tr>\n",
       "  </thead>\n",
       "  <tbody>\n",
       "    <tr>\n",
       "      <th>262978</th>\n",
       "      <td>514774</td>\n",
       "      <td>82581</td>\n",
       "      <td>TOILET METAL SIGN</td>\n",
       "      <td>12</td>\n",
       "      <td>2010-07-06 10:22:00</td>\n",
       "      <td>0.55</td>\n",
       "      <td>14911.0</td>\n",
       "      <td>EIRE</td>\n",
       "      <td>2010-07-06</td>\n",
       "      <td>6.60</td>\n",
       "      <td>Tuesday</td>\n",
       "      <td>137675.91</td>\n",
       "    </tr>\n",
       "    <tr>\n",
       "      <th>5001</th>\n",
       "      <td>489856</td>\n",
       "      <td>84347</td>\n",
       "      <td>ROTATING SILVER ANGELS T-LIGHT HLDR</td>\n",
       "      <td>1</td>\n",
       "      <td>2009-12-02 14:36:00</td>\n",
       "      <td>5.17</td>\n",
       "      <td>NaN</td>\n",
       "      <td>United Kingdom</td>\n",
       "      <td>2009-12-02</td>\n",
       "      <td>5.17</td>\n",
       "      <td>Wednesday</td>\n",
       "      <td>NaN</td>\n",
       "    </tr>\n",
       "    <tr>\n",
       "      <th>416747</th>\n",
       "      <td>C529187</td>\n",
       "      <td>21907</td>\n",
       "      <td>I'M ON HOLIDAY METAL SIGN</td>\n",
       "      <td>-2</td>\n",
       "      <td>2010-10-26 18:44:00</td>\n",
       "      <td>2.10</td>\n",
       "      <td>13552.0</td>\n",
       "      <td>United Kingdom</td>\n",
       "      <td>2010-10-26</td>\n",
       "      <td>-4.20</td>\n",
       "      <td>Tuesday</td>\n",
       "      <td>3079.10</td>\n",
       "    </tr>\n",
       "    <tr>\n",
       "      <th>178186</th>\n",
       "      <td>506277</td>\n",
       "      <td>22518</td>\n",
       "      <td>CHILDS GARDEN BRUSH BLUE</td>\n",
       "      <td>6</td>\n",
       "      <td>2010-04-28 15:40:00</td>\n",
       "      <td>2.10</td>\n",
       "      <td>17581.0</td>\n",
       "      <td>United Kingdom</td>\n",
       "      <td>2010-04-28</td>\n",
       "      <td>12.60</td>\n",
       "      <td>Wednesday</td>\n",
       "      <td>7511.36</td>\n",
       "    </tr>\n",
       "    <tr>\n",
       "      <th>455156</th>\n",
       "      <td>532626</td>\n",
       "      <td>22057</td>\n",
       "      <td>CERAMIC PLATE STRAWBERRY DESIGN</td>\n",
       "      <td>12</td>\n",
       "      <td>2010-11-12 15:33:00</td>\n",
       "      <td>1.49</td>\n",
       "      <td>12779.0</td>\n",
       "      <td>Poland</td>\n",
       "      <td>2010-11-12</td>\n",
       "      <td>17.88</td>\n",
       "      <td>Friday</td>\n",
       "      <td>2538.06</td>\n",
       "    </tr>\n",
       "  </tbody>\n",
       "</table>\n",
       "</div>"
      ],
      "text/plain": [
       "       InvoiceNumber StockCode                          Description  Quantity  \\\n",
       "262978        514774     82581                    TOILET METAL SIGN        12   \n",
       "5001          489856     84347  ROTATING SILVER ANGELS T-LIGHT HLDR         1   \n",
       "416747       C529187     21907            I'M ON HOLIDAY METAL SIGN        -2   \n",
       "178186        506277     22518             CHILDS GARDEN BRUSH BLUE         6   \n",
       "455156        532626     22057      CERAMIC PLATE STRAWBERRY DESIGN        12   \n",
       "\n",
       "               InvoiceDate  Price  Customer ID         Country        Date  \\\n",
       "262978 2010-07-06 10:22:00   0.55      14911.0            EIRE  2010-07-06   \n",
       "5001   2009-12-02 14:36:00   5.17          NaN  United Kingdom  2009-12-02   \n",
       "416747 2010-10-26 18:44:00   2.10      13552.0  United Kingdom  2010-10-26   \n",
       "178186 2010-04-28 15:40:00   2.10      17581.0  United Kingdom  2010-04-28   \n",
       "455156 2010-11-12 15:33:00   1.49      12779.0          Poland  2010-11-12   \n",
       "\n",
       "        Revenue  DayOfWeek  TotalRevenue  \n",
       "262978     6.60    Tuesday     137675.91  \n",
       "5001       5.17  Wednesday           NaN  \n",
       "416747    -4.20    Tuesday       3079.10  \n",
       "178186    12.60  Wednesday       7511.36  \n",
       "455156    17.88     Friday       2538.06  "
      ]
     },
     "execution_count": 18,
     "metadata": {},
     "output_type": "execute_result"
    }
   ],
   "source": [
    "# 'TotalRevenue' feature egnineering\n",
    "df[\"TotalRevenue\"] = df.groupby(\"Customer ID\")[\"Revenue\"].transform(\"sum\")\n",
    "# Check if it looks correct:\n",
    "df.sample(5)"
   ]
  },
  {
   "cell_type": "code",
   "execution_count": 19,
   "metadata": {
    "colab": {
     "base_uri": "https://localhost:8080/",
     "height": 35
    },
    "executionInfo": {
     "elapsed": 22,
     "status": "ok",
     "timestamp": 1741999542833,
     "user": {
      "displayName": "Daniel Iversen",
      "userId": "04843677771367093898"
     },
     "user_tz": -60
    },
    "id": "wm-FF_hcQGlT",
    "outputId": "b5eac258-0d80-4d02-b134-064986834b30"
   },
   "outputs": [
    {
     "data": {
      "text/plain": [
       "22423"
      ]
     },
     "execution_count": 19,
     "metadata": {},
     "output_type": "execute_result"
    }
   ],
   "source": [
    "# 'MostPopularProduct' feature egnineering\n",
    "most_popular_product = df.groupby(\"StockCode\")[\"Revenue\"].sum().idxmax()\n",
    "# Check if it looks correct:\n",
    "most_popular_product"
   ]
  },
  {
   "cell_type": "code",
   "execution_count": 20,
   "metadata": {
    "colab": {
     "base_uri": "https://localhost:8080/",
     "height": 310
    },
    "executionInfo": {
     "elapsed": 47,
     "status": "ok",
     "timestamp": 1741999585995,
     "user": {
      "displayName": "Daniel Iversen",
      "userId": "04843677771367093898"
     },
     "user_tz": -60
    },
    "id": "IotZvlheQG0Q",
    "outputId": "b525dca6-fd41-435e-c550-e78aeffd660b"
   },
   "outputs": [
    {
     "data": {
      "text/html": [
       "<div>\n",
       "<style scoped>\n",
       "    .dataframe tbody tr th:only-of-type {\n",
       "        vertical-align: middle;\n",
       "    }\n",
       "\n",
       "    .dataframe tbody tr th {\n",
       "        vertical-align: top;\n",
       "    }\n",
       "\n",
       "    .dataframe thead th {\n",
       "        text-align: right;\n",
       "    }\n",
       "</style>\n",
       "<table border=\"1\" class=\"dataframe\">\n",
       "  <thead>\n",
       "    <tr style=\"text-align: right;\">\n",
       "      <th></th>\n",
       "      <th>InvoiceNumber</th>\n",
       "      <th>StockCode</th>\n",
       "      <th>Description</th>\n",
       "      <th>Quantity</th>\n",
       "      <th>InvoiceDate</th>\n",
       "      <th>Price</th>\n",
       "      <th>Customer ID</th>\n",
       "      <th>Country</th>\n",
       "      <th>Date</th>\n",
       "      <th>Revenue</th>\n",
       "      <th>DayOfWeek</th>\n",
       "      <th>TotalRevenue</th>\n",
       "      <th>OrderSize</th>\n",
       "    </tr>\n",
       "  </thead>\n",
       "  <tbody>\n",
       "    <tr>\n",
       "      <th>230653</th>\n",
       "      <td>511669</td>\n",
       "      <td>22070</td>\n",
       "      <td>SMALL RED RETROSPOT MUG IN BOX</td>\n",
       "      <td>2</td>\n",
       "      <td>2010-06-09 14:41:00</td>\n",
       "      <td>3.75</td>\n",
       "      <td>14099.0</td>\n",
       "      <td>United Kingdom</td>\n",
       "      <td>2010-06-09</td>\n",
       "      <td>7.50</td>\n",
       "      <td>Wednesday</td>\n",
       "      <td>2607.54</td>\n",
       "      <td>205</td>\n",
       "    </tr>\n",
       "    <tr>\n",
       "      <th>356697</th>\n",
       "      <td>524014</td>\n",
       "      <td>84991</td>\n",
       "      <td>60 TEATIME FAIRY CAKE CASES</td>\n",
       "      <td>24</td>\n",
       "      <td>2010-09-27 09:55:00</td>\n",
       "      <td>0.55</td>\n",
       "      <td>16592.0</td>\n",
       "      <td>United Kingdom</td>\n",
       "      <td>2010-09-27</td>\n",
       "      <td>13.20</td>\n",
       "      <td>Monday</td>\n",
       "      <td>3551.18</td>\n",
       "      <td>637</td>\n",
       "    </tr>\n",
       "    <tr>\n",
       "      <th>368424</th>\n",
       "      <td>525031</td>\n",
       "      <td>21379</td>\n",
       "      <td>CAMPHOR WOOD PORTOBELLO MUSHROOM</td>\n",
       "      <td>1</td>\n",
       "      <td>2010-10-03 12:18:00</td>\n",
       "      <td>1.25</td>\n",
       "      <td>13838.0</td>\n",
       "      <td>United Kingdom</td>\n",
       "      <td>2010-10-03</td>\n",
       "      <td>1.25</td>\n",
       "      <td>Sunday</td>\n",
       "      <td>1274.36</td>\n",
       "      <td>40</td>\n",
       "    </tr>\n",
       "    <tr>\n",
       "      <th>515746</th>\n",
       "      <td>537396</td>\n",
       "      <td>84031B</td>\n",
       "      <td>CHARLIE LOLA BLUE HOT WATER BOTTLE</td>\n",
       "      <td>1</td>\n",
       "      <td>2010-12-06 14:08:00</td>\n",
       "      <td>4.65</td>\n",
       "      <td>17223.0</td>\n",
       "      <td>United Kingdom</td>\n",
       "      <td>2010-12-06</td>\n",
       "      <td>4.65</td>\n",
       "      <td>Monday</td>\n",
       "      <td>446.74</td>\n",
       "      <td>64</td>\n",
       "    </tr>\n",
       "    <tr>\n",
       "      <th>371032</th>\n",
       "      <td>525221</td>\n",
       "      <td>22421</td>\n",
       "      <td>LIPSTICK PEN FUSCHIA</td>\n",
       "      <td>1</td>\n",
       "      <td>2010-10-04 12:51:00</td>\n",
       "      <td>0.85</td>\n",
       "      <td>NaN</td>\n",
       "      <td>United Kingdom</td>\n",
       "      <td>2010-10-04</td>\n",
       "      <td>0.85</td>\n",
       "      <td>Monday</td>\n",
       "      <td>NaN</td>\n",
       "      <td>567</td>\n",
       "    </tr>\n",
       "  </tbody>\n",
       "</table>\n",
       "</div>"
      ],
      "text/plain": [
       "       InvoiceNumber StockCode                          Description  Quantity  \\\n",
       "230653        511669     22070      SMALL RED RETROSPOT MUG IN BOX          2   \n",
       "356697        524014     84991          60 TEATIME FAIRY CAKE CASES        24   \n",
       "368424        525031     21379     CAMPHOR WOOD PORTOBELLO MUSHROOM         1   \n",
       "515746        537396    84031B  CHARLIE LOLA BLUE HOT WATER BOTTLE          1   \n",
       "371032        525221     22421                 LIPSTICK PEN FUSCHIA         1   \n",
       "\n",
       "               InvoiceDate  Price  Customer ID         Country        Date  \\\n",
       "230653 2010-06-09 14:41:00   3.75      14099.0  United Kingdom  2010-06-09   \n",
       "356697 2010-09-27 09:55:00   0.55      16592.0  United Kingdom  2010-09-27   \n",
       "368424 2010-10-03 12:18:00   1.25      13838.0  United Kingdom  2010-10-03   \n",
       "515746 2010-12-06 14:08:00   4.65      17223.0  United Kingdom  2010-12-06   \n",
       "371032 2010-10-04 12:51:00   0.85          NaN  United Kingdom  2010-10-04   \n",
       "\n",
       "        Revenue  DayOfWeek  TotalRevenue  OrderSize  \n",
       "230653     7.50  Wednesday       2607.54        205  \n",
       "356697    13.20     Monday       3551.18        637  \n",
       "368424     1.25     Sunday       1274.36         40  \n",
       "515746     4.65     Monday        446.74         64  \n",
       "371032     0.85     Monday           NaN        567  "
      ]
     },
     "execution_count": 20,
     "metadata": {},
     "output_type": "execute_result"
    }
   ],
   "source": [
    "# 'Ordersize' feature egnineering\n",
    "df[\"OrderSize\"] = df.groupby(\"InvoiceNumber\")[\"Quantity\"].transform(\"sum\")\n",
    "# Check if it looks correct:\n",
    "df.sample(5)"
   ]
  },
  {
   "cell_type": "markdown",
   "metadata": {},
   "source": [
    "# ETL Pipeline\n",
    "\n",
    "To create the extra feature of 'CustomerTier' using lambda, and wrapping all preprocessing steps seen so far in this notebook in a ETL pipeline\n",
    "* Create a function for loading the data\n",
    "* Create a function for data cleaning steps\n",
    "* Create a function for feature engineering\n",
    "* Create a function applying lambda to create additional features"
   ]
  },
  {
   "cell_type": "code",
   "execution_count": 21,
   "metadata": {},
   "outputs": [],
   "source": [
    "def load_dataset(file_path):\n",
    "    return pd.read_excel(file_path)"
   ]
  },
  {
   "cell_type": "code",
   "execution_count": 22,
   "metadata": {},
   "outputs": [],
   "source": [
    "# Data cleaning\n",
    "def clean_data(df):\n",
    "    # Fill missing 'Description' using the most common value per 'StockCode'\n",
    "    df['Description'] = df.groupby('StockCode')['Description'].transform(lambda x: x.fillna(x.mode()[0]) if not x.mode().empty else x)\n",
    "    # Rename 'Invoice' to 'InvoiceNumber'\n",
    "    df.rename(columns={'Invoice': 'InvoiceNumber'}, inplace=True)\n",
    "    return df"
   ]
  },
  {
   "cell_type": "code",
   "execution_count": 23,
   "metadata": {},
   "outputs": [],
   "source": [
    "# Feature engineering\n",
    "def create_features(df):\n",
    "    # 'Revenue' feature\n",
    "    df['Revenue'] = df['Quantity'] * df['Price']\n",
    "    # 'DayOfWeek' feature\n",
    "    df[\"DayOfWeek\"] = df[\"InvoiceDate\"].dt.day_name()\n",
    "    # 'TotalRevenue' feature\n",
    "    df[\"TotalRevenue\"] = df.groupby(\"Customer ID\")[\"Revenue\"].transform(\"sum\")\n",
    "    # 'MostPopularProduct' feature\n",
    "    most_popular_product = df.groupby(\"StockCode\")[\"Revenue\"].sum().idxmax()\n",
    "    df[\"MostPopularProduct\"] = most_popular_product\n",
    "    # 'OrderSize' feature\n",
    "    df[\"OrderSize\"] = df.groupby(\"InvoiceNumber\")[\"Quantity\"].transform(\"sum\")\n",
    "    return df"
   ]
  },
  {
   "cell_type": "code",
   "execution_count": 24,
   "metadata": {},
   "outputs": [],
   "source": [
    "# Apply lambda functions\n",
    "def apply_lambda_functions(df):\n",
    "    # Segment customers into tiers based on TotalRevenue\n",
    "    df[\"CustomerTier\"] = df[\"TotalRevenue\"].apply(lambda x: \"High\" if x > 1000 else \"Medium\" if x > 500 else \"Low\")\n",
    "    return df"
   ]
  },
  {
   "cell_type": "markdown",
   "metadata": {},
   "source": [
    "The result is a reuseable ETL pipeline that apply all these steps to the DF, preparing multiple dataframes in quick succesion"
   ]
  },
  {
   "cell_type": "code",
   "execution_count": 25,
   "metadata": {},
   "outputs": [],
   "source": [
    "# RSEULT: ETL pipeline\n",
    "def etl_pipeline(file_path):\n",
    "    df = load_dataset(file_path)\n",
    "    df = clean_data(df)\n",
    "    df = create_features(df)\n",
    "    df = apply_lambda_functions(df)\n",
    "    return df"
   ]
  },
  {
   "cell_type": "code",
   "execution_count": 26,
   "metadata": {},
   "outputs": [
    {
     "data": {
      "text/html": [
       "<div>\n",
       "<style scoped>\n",
       "    .dataframe tbody tr th:only-of-type {\n",
       "        vertical-align: middle;\n",
       "    }\n",
       "\n",
       "    .dataframe tbody tr th {\n",
       "        vertical-align: top;\n",
       "    }\n",
       "\n",
       "    .dataframe thead th {\n",
       "        text-align: right;\n",
       "    }\n",
       "</style>\n",
       "<table border=\"1\" class=\"dataframe\">\n",
       "  <thead>\n",
       "    <tr style=\"text-align: right;\">\n",
       "      <th></th>\n",
       "      <th>InvoiceNumber</th>\n",
       "      <th>StockCode</th>\n",
       "      <th>Description</th>\n",
       "      <th>Quantity</th>\n",
       "      <th>InvoiceDate</th>\n",
       "      <th>Price</th>\n",
       "      <th>Customer ID</th>\n",
       "      <th>Country</th>\n",
       "      <th>Revenue</th>\n",
       "      <th>DayOfWeek</th>\n",
       "      <th>TotalRevenue</th>\n",
       "      <th>MostPopularProduct</th>\n",
       "      <th>OrderSize</th>\n",
       "      <th>CustomerTier</th>\n",
       "    </tr>\n",
       "  </thead>\n",
       "  <tbody>\n",
       "    <tr>\n",
       "      <th>0</th>\n",
       "      <td>489434</td>\n",
       "      <td>85048</td>\n",
       "      <td>15CM CHRISTMAS GLASS BALL 20 LIGHTS</td>\n",
       "      <td>12</td>\n",
       "      <td>2009-12-01 07:45:00</td>\n",
       "      <td>6.95</td>\n",
       "      <td>13085.0</td>\n",
       "      <td>United Kingdom</td>\n",
       "      <td>83.4</td>\n",
       "      <td>Tuesday</td>\n",
       "      <td>1187.08</td>\n",
       "      <td>22423</td>\n",
       "      <td>166</td>\n",
       "      <td>High</td>\n",
       "    </tr>\n",
       "    <tr>\n",
       "      <th>1</th>\n",
       "      <td>489434</td>\n",
       "      <td>79323P</td>\n",
       "      <td>PINK CHERRY LIGHTS</td>\n",
       "      <td>12</td>\n",
       "      <td>2009-12-01 07:45:00</td>\n",
       "      <td>6.75</td>\n",
       "      <td>13085.0</td>\n",
       "      <td>United Kingdom</td>\n",
       "      <td>81.0</td>\n",
       "      <td>Tuesday</td>\n",
       "      <td>1187.08</td>\n",
       "      <td>22423</td>\n",
       "      <td>166</td>\n",
       "      <td>High</td>\n",
       "    </tr>\n",
       "    <tr>\n",
       "      <th>2</th>\n",
       "      <td>489434</td>\n",
       "      <td>79323W</td>\n",
       "      <td>WHITE CHERRY LIGHTS</td>\n",
       "      <td>12</td>\n",
       "      <td>2009-12-01 07:45:00</td>\n",
       "      <td>6.75</td>\n",
       "      <td>13085.0</td>\n",
       "      <td>United Kingdom</td>\n",
       "      <td>81.0</td>\n",
       "      <td>Tuesday</td>\n",
       "      <td>1187.08</td>\n",
       "      <td>22423</td>\n",
       "      <td>166</td>\n",
       "      <td>High</td>\n",
       "    </tr>\n",
       "    <tr>\n",
       "      <th>3</th>\n",
       "      <td>489434</td>\n",
       "      <td>22041</td>\n",
       "      <td>RECORD FRAME 7\" SINGLE SIZE</td>\n",
       "      <td>48</td>\n",
       "      <td>2009-12-01 07:45:00</td>\n",
       "      <td>2.10</td>\n",
       "      <td>13085.0</td>\n",
       "      <td>United Kingdom</td>\n",
       "      <td>100.8</td>\n",
       "      <td>Tuesday</td>\n",
       "      <td>1187.08</td>\n",
       "      <td>22423</td>\n",
       "      <td>166</td>\n",
       "      <td>High</td>\n",
       "    </tr>\n",
       "    <tr>\n",
       "      <th>4</th>\n",
       "      <td>489434</td>\n",
       "      <td>21232</td>\n",
       "      <td>STRAWBERRY CERAMIC TRINKET BOX</td>\n",
       "      <td>24</td>\n",
       "      <td>2009-12-01 07:45:00</td>\n",
       "      <td>1.25</td>\n",
       "      <td>13085.0</td>\n",
       "      <td>United Kingdom</td>\n",
       "      <td>30.0</td>\n",
       "      <td>Tuesday</td>\n",
       "      <td>1187.08</td>\n",
       "      <td>22423</td>\n",
       "      <td>166</td>\n",
       "      <td>High</td>\n",
       "    </tr>\n",
       "  </tbody>\n",
       "</table>\n",
       "</div>"
      ],
      "text/plain": [
       "  InvoiceNumber StockCode                          Description  Quantity  \\\n",
       "0        489434     85048  15CM CHRISTMAS GLASS BALL 20 LIGHTS        12   \n",
       "1        489434    79323P                   PINK CHERRY LIGHTS        12   \n",
       "2        489434    79323W                  WHITE CHERRY LIGHTS        12   \n",
       "3        489434     22041         RECORD FRAME 7\" SINGLE SIZE         48   \n",
       "4        489434     21232       STRAWBERRY CERAMIC TRINKET BOX        24   \n",
       "\n",
       "          InvoiceDate  Price  Customer ID         Country  Revenue DayOfWeek  \\\n",
       "0 2009-12-01 07:45:00   6.95      13085.0  United Kingdom     83.4   Tuesday   \n",
       "1 2009-12-01 07:45:00   6.75      13085.0  United Kingdom     81.0   Tuesday   \n",
       "2 2009-12-01 07:45:00   6.75      13085.0  United Kingdom     81.0   Tuesday   \n",
       "3 2009-12-01 07:45:00   2.10      13085.0  United Kingdom    100.8   Tuesday   \n",
       "4 2009-12-01 07:45:00   1.25      13085.0  United Kingdom     30.0   Tuesday   \n",
       "\n",
       "   TotalRevenue  MostPopularProduct  OrderSize CustomerTier  \n",
       "0       1187.08               22423        166         High  \n",
       "1       1187.08               22423        166         High  \n",
       "2       1187.08               22423        166         High  \n",
       "3       1187.08               22423        166         High  \n",
       "4       1187.08               22423        166         High  "
      ]
     },
     "execution_count": 26,
     "metadata": {},
     "output_type": "execute_result"
    }
   ],
   "source": [
    "# Freshly declared a new dataframe to test the pipeline, it will preproccess the data the same way as i did manually in the notebook\n",
    "new_df = etl_pipeline(file_path)\n",
    "new_df.head()"
   ]
  },
  {
   "cell_type": "markdown",
   "metadata": {},
   "source": [
    "---"
   ]
  }
 ],
 "metadata": {
  "colab": {
   "authorship_tag": "ABX9TyOv/jP97MUJZKoZYvyNEDTy",
   "provenance": []
  },
  "kernelspec": {
   "display_name": "Python 3",
   "name": "python3"
  },
  "language_info": {
   "codemirror_mode": {
    "name": "ipython",
    "version": 3
   },
   "file_extension": ".py",
   "mimetype": "text/x-python",
   "name": "python",
   "nbconvert_exporter": "python",
   "pygments_lexer": "ipython3",
   "version": "3.10.11"
  }
 },
 "nbformat": 4,
 "nbformat_minor": 0
}
