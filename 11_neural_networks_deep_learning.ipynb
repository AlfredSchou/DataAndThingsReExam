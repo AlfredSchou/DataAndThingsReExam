{
 "cells": [
  {
   "cell_type": "markdown",
   "metadata": {
    "id": "g_ZYkIOteYan"
   },
   "source": [
    "# 11: Neural networks and deep learning\n",
    "\n",
    "The hand-in exercise for this topic is Exercise 2 from the notebook “Exercises in neural network and deep learning II.ipynb”"
   ]
  },
  {
   "cell_type": "markdown",
   "metadata": {},
   "source": [
    "Exercise 2\n",
    "\n",
    "Based on the adult dataset, build a neural network classifier for the target variable income."
   ]
  },
  {
   "cell_type": "markdown",
   "metadata": {
    "id": "JYVPnhFEgXXz"
   },
   "source": [
    "### Assemble + Installs + Imports"
   ]
  },
  {
   "cell_type": "code",
   "execution_count": 2,
   "metadata": {
    "executionInfo": {
     "elapsed": 6992,
     "status": "ok",
     "timestamp": 1742071737049,
     "user": {
      "displayName": "Daniel Iversen",
      "userId": "04843677771367093898"
     },
     "user_tz": -60
    },
    "id": "gIDejf7wgQzc"
   },
   "outputs": [],
   "source": [
    "# Lib imports for the notebook\n",
    "import pandas as pd\n",
    "import numpy as np\n",
    "import tensorflow as tf\n",
    "from tensorflow import keras\n",
    "from sklearn.model_selection import train_test_split\n",
    "from sklearn.preprocessing import OneHotEncoder, StandardScaler, LabelEncoder\n",
    "from sklearn.compose import ColumnTransformer\n",
    "from sklearn.pipeline import Pipeline"
   ]
  },
  {
   "cell_type": "markdown",
   "metadata": {},
   "source": [
    "Since we are working with the adult dataset, we need to clean up the income categories so none of the rows contain a trailing period in the feature. \n"
   ]
  },
  {
   "cell_type": "code",
   "execution_count": 3,
   "metadata": {
    "executionInfo": {
     "elapsed": 80,
     "status": "ok",
     "timestamp": 1742070966289,
     "user": {
      "displayName": "Daniel Iversen",
      "userId": "04843677771367093898"
     },
     "user_tz": -60
    },
    "id": "K0tncxp3gQxA"
   },
   "outputs": [],
   "source": [
    "# read the csv\n",
    "adult_data = pd.read_csv(\"adult.csv\")"
   ]
  },
  {
   "cell_type": "markdown",
   "metadata": {
    "id": "Z1GtKEbWg-kv"
   },
   "source": [
    "### Initial EDA"
   ]
  },
  {
   "cell_type": "code",
   "execution_count": 4,
   "metadata": {},
   "outputs": [
    {
     "data": {
      "text/plain": [
       "income\n",
       "<=50K     24720\n",
       "<=50K.    12435\n",
       ">50K       7841\n",
       ">50K.      3846\n",
       "Name: count, dtype: int64"
      ]
     },
     "execution_count": 4,
     "metadata": {},
     "output_type": "execute_result"
    }
   ],
   "source": [
    "# To do this lets first see how many different values income currently holds\n",
    "adult_data['income'].value_counts()"
   ]
  },
  {
   "cell_type": "code",
   "execution_count": 5,
   "metadata": {},
   "outputs": [
    {
     "data": {
      "text/plain": [
       "income\n",
       "<=50K    37155\n",
       ">50K     11687\n",
       "Name: count, dtype: int64"
      ]
     },
     "execution_count": 5,
     "metadata": {},
     "output_type": "execute_result"
    }
   ],
   "source": [
    "\n",
    "# Lets merge the the values into only 2 categories by trimming dots in the column entries\n",
    "adult_data[\"income\"] = adult_data[\"income\"].str.replace(\".\", \"\")\n",
    "# Lets see if it worked\n",
    "adult_data['income'].value_counts()"
   ]
  },
  {
   "cell_type": "code",
   "execution_count": 6,
   "metadata": {
    "colab": {
     "base_uri": "https://localhost:8080/",
     "height": 519
    },
    "executionInfo": {
     "elapsed": 191,
     "status": "ok",
     "timestamp": 1742070966494,
     "user": {
      "displayName": "Daniel Iversen",
      "userId": "04843677771367093898"
     },
     "user_tz": -60
    },
    "id": "murlXys8d2pt",
    "outputId": "e2eccbb5-2925-4e46-ec2d-936ec0164666"
   },
   "outputs": [
    {
     "data": {
      "text/html": [
       "<div>\n",
       "<style scoped>\n",
       "    .dataframe tbody tr th:only-of-type {\n",
       "        vertical-align: middle;\n",
       "    }\n",
       "\n",
       "    .dataframe tbody tr th {\n",
       "        vertical-align: top;\n",
       "    }\n",
       "\n",
       "    .dataframe thead th {\n",
       "        text-align: right;\n",
       "    }\n",
       "</style>\n",
       "<table border=\"1\" class=\"dataframe\">\n",
       "  <thead>\n",
       "    <tr style=\"text-align: right;\">\n",
       "      <th></th>\n",
       "      <th>age</th>\n",
       "      <th>workclass</th>\n",
       "      <th>fnlwgt</th>\n",
       "      <th>education</th>\n",
       "      <th>education-num</th>\n",
       "      <th>marital-status</th>\n",
       "      <th>occupation</th>\n",
       "      <th>relationship</th>\n",
       "      <th>race</th>\n",
       "      <th>sex</th>\n",
       "      <th>capital-gain</th>\n",
       "      <th>capital-loss</th>\n",
       "      <th>hours-per-week</th>\n",
       "      <th>native-country</th>\n",
       "      <th>income</th>\n",
       "    </tr>\n",
       "  </thead>\n",
       "  <tbody>\n",
       "    <tr>\n",
       "      <th>0</th>\n",
       "      <td>39</td>\n",
       "      <td>State-gov</td>\n",
       "      <td>77516</td>\n",
       "      <td>Bachelors</td>\n",
       "      <td>13</td>\n",
       "      <td>Never-married</td>\n",
       "      <td>Adm-clerical</td>\n",
       "      <td>Not-in-family</td>\n",
       "      <td>White</td>\n",
       "      <td>Male</td>\n",
       "      <td>2174</td>\n",
       "      <td>0</td>\n",
       "      <td>40</td>\n",
       "      <td>United-States</td>\n",
       "      <td>&lt;=50K</td>\n",
       "    </tr>\n",
       "    <tr>\n",
       "      <th>1</th>\n",
       "      <td>50</td>\n",
       "      <td>Self-emp-not-inc</td>\n",
       "      <td>83311</td>\n",
       "      <td>Bachelors</td>\n",
       "      <td>13</td>\n",
       "      <td>Married-civ-spouse</td>\n",
       "      <td>Exec-managerial</td>\n",
       "      <td>Husband</td>\n",
       "      <td>White</td>\n",
       "      <td>Male</td>\n",
       "      <td>0</td>\n",
       "      <td>0</td>\n",
       "      <td>13</td>\n",
       "      <td>United-States</td>\n",
       "      <td>&lt;=50K</td>\n",
       "    </tr>\n",
       "    <tr>\n",
       "      <th>2</th>\n",
       "      <td>38</td>\n",
       "      <td>Private</td>\n",
       "      <td>215646</td>\n",
       "      <td>HS-grad</td>\n",
       "      <td>9</td>\n",
       "      <td>Divorced</td>\n",
       "      <td>Handlers-cleaners</td>\n",
       "      <td>Not-in-family</td>\n",
       "      <td>White</td>\n",
       "      <td>Male</td>\n",
       "      <td>0</td>\n",
       "      <td>0</td>\n",
       "      <td>40</td>\n",
       "      <td>United-States</td>\n",
       "      <td>&lt;=50K</td>\n",
       "    </tr>\n",
       "    <tr>\n",
       "      <th>3</th>\n",
       "      <td>53</td>\n",
       "      <td>Private</td>\n",
       "      <td>234721</td>\n",
       "      <td>11th</td>\n",
       "      <td>7</td>\n",
       "      <td>Married-civ-spouse</td>\n",
       "      <td>Handlers-cleaners</td>\n",
       "      <td>Husband</td>\n",
       "      <td>Black</td>\n",
       "      <td>Male</td>\n",
       "      <td>0</td>\n",
       "      <td>0</td>\n",
       "      <td>40</td>\n",
       "      <td>United-States</td>\n",
       "      <td>&lt;=50K</td>\n",
       "    </tr>\n",
       "    <tr>\n",
       "      <th>4</th>\n",
       "      <td>28</td>\n",
       "      <td>Private</td>\n",
       "      <td>338409</td>\n",
       "      <td>Bachelors</td>\n",
       "      <td>13</td>\n",
       "      <td>Married-civ-spouse</td>\n",
       "      <td>Prof-specialty</td>\n",
       "      <td>Wife</td>\n",
       "      <td>Black</td>\n",
       "      <td>Female</td>\n",
       "      <td>0</td>\n",
       "      <td>0</td>\n",
       "      <td>40</td>\n",
       "      <td>Cuba</td>\n",
       "      <td>&lt;=50K</td>\n",
       "    </tr>\n",
       "    <tr>\n",
       "      <th>5</th>\n",
       "      <td>37</td>\n",
       "      <td>Private</td>\n",
       "      <td>284582</td>\n",
       "      <td>Masters</td>\n",
       "      <td>14</td>\n",
       "      <td>Married-civ-spouse</td>\n",
       "      <td>Exec-managerial</td>\n",
       "      <td>Wife</td>\n",
       "      <td>White</td>\n",
       "      <td>Female</td>\n",
       "      <td>0</td>\n",
       "      <td>0</td>\n",
       "      <td>40</td>\n",
       "      <td>United-States</td>\n",
       "      <td>&lt;=50K</td>\n",
       "    </tr>\n",
       "    <tr>\n",
       "      <th>6</th>\n",
       "      <td>49</td>\n",
       "      <td>Private</td>\n",
       "      <td>160187</td>\n",
       "      <td>9th</td>\n",
       "      <td>5</td>\n",
       "      <td>Married-spouse-absent</td>\n",
       "      <td>Other-service</td>\n",
       "      <td>Not-in-family</td>\n",
       "      <td>Black</td>\n",
       "      <td>Female</td>\n",
       "      <td>0</td>\n",
       "      <td>0</td>\n",
       "      <td>16</td>\n",
       "      <td>Jamaica</td>\n",
       "      <td>&lt;=50K</td>\n",
       "    </tr>\n",
       "    <tr>\n",
       "      <th>7</th>\n",
       "      <td>52</td>\n",
       "      <td>Self-emp-not-inc</td>\n",
       "      <td>209642</td>\n",
       "      <td>HS-grad</td>\n",
       "      <td>9</td>\n",
       "      <td>Married-civ-spouse</td>\n",
       "      <td>Exec-managerial</td>\n",
       "      <td>Husband</td>\n",
       "      <td>White</td>\n",
       "      <td>Male</td>\n",
       "      <td>0</td>\n",
       "      <td>0</td>\n",
       "      <td>45</td>\n",
       "      <td>United-States</td>\n",
       "      <td>&gt;50K</td>\n",
       "    </tr>\n",
       "    <tr>\n",
       "      <th>8</th>\n",
       "      <td>31</td>\n",
       "      <td>Private</td>\n",
       "      <td>45781</td>\n",
       "      <td>Masters</td>\n",
       "      <td>14</td>\n",
       "      <td>Never-married</td>\n",
       "      <td>Prof-specialty</td>\n",
       "      <td>Not-in-family</td>\n",
       "      <td>White</td>\n",
       "      <td>Female</td>\n",
       "      <td>14084</td>\n",
       "      <td>0</td>\n",
       "      <td>50</td>\n",
       "      <td>United-States</td>\n",
       "      <td>&gt;50K</td>\n",
       "    </tr>\n",
       "    <tr>\n",
       "      <th>9</th>\n",
       "      <td>42</td>\n",
       "      <td>Private</td>\n",
       "      <td>159449</td>\n",
       "      <td>Bachelors</td>\n",
       "      <td>13</td>\n",
       "      <td>Married-civ-spouse</td>\n",
       "      <td>Exec-managerial</td>\n",
       "      <td>Husband</td>\n",
       "      <td>White</td>\n",
       "      <td>Male</td>\n",
       "      <td>5178</td>\n",
       "      <td>0</td>\n",
       "      <td>40</td>\n",
       "      <td>United-States</td>\n",
       "      <td>&gt;50K</td>\n",
       "    </tr>\n",
       "  </tbody>\n",
       "</table>\n",
       "</div>"
      ],
      "text/plain": [
       "   age         workclass  fnlwgt  education  education-num  \\\n",
       "0   39         State-gov   77516  Bachelors             13   \n",
       "1   50  Self-emp-not-inc   83311  Bachelors             13   \n",
       "2   38           Private  215646    HS-grad              9   \n",
       "3   53           Private  234721       11th              7   \n",
       "4   28           Private  338409  Bachelors             13   \n",
       "5   37           Private  284582    Masters             14   \n",
       "6   49           Private  160187        9th              5   \n",
       "7   52  Self-emp-not-inc  209642    HS-grad              9   \n",
       "8   31           Private   45781    Masters             14   \n",
       "9   42           Private  159449  Bachelors             13   \n",
       "\n",
       "          marital-status         occupation   relationship   race     sex  \\\n",
       "0          Never-married       Adm-clerical  Not-in-family  White    Male   \n",
       "1     Married-civ-spouse    Exec-managerial        Husband  White    Male   \n",
       "2               Divorced  Handlers-cleaners  Not-in-family  White    Male   \n",
       "3     Married-civ-spouse  Handlers-cleaners        Husband  Black    Male   \n",
       "4     Married-civ-spouse     Prof-specialty           Wife  Black  Female   \n",
       "5     Married-civ-spouse    Exec-managerial           Wife  White  Female   \n",
       "6  Married-spouse-absent      Other-service  Not-in-family  Black  Female   \n",
       "7     Married-civ-spouse    Exec-managerial        Husband  White    Male   \n",
       "8          Never-married     Prof-specialty  Not-in-family  White  Female   \n",
       "9     Married-civ-spouse    Exec-managerial        Husband  White    Male   \n",
       "\n",
       "   capital-gain  capital-loss  hours-per-week native-country income  \n",
       "0          2174             0              40  United-States  <=50K  \n",
       "1             0             0              13  United-States  <=50K  \n",
       "2             0             0              40  United-States  <=50K  \n",
       "3             0             0              40  United-States  <=50K  \n",
       "4             0             0              40           Cuba  <=50K  \n",
       "5             0             0              40  United-States  <=50K  \n",
       "6             0             0              16        Jamaica  <=50K  \n",
       "7             0             0              45  United-States   >50K  \n",
       "8         14084             0              50  United-States   >50K  \n",
       "9          5178             0              40  United-States   >50K  "
      ]
     },
     "execution_count": 6,
     "metadata": {},
     "output_type": "execute_result"
    }
   ],
   "source": [
    "adult_data.head(10)"
   ]
  },
  {
   "cell_type": "code",
   "execution_count": 7,
   "metadata": {
    "colab": {
     "base_uri": "https://localhost:8080/"
    },
    "executionInfo": {
     "elapsed": 2,
     "status": "ok",
     "timestamp": 1742070966497,
     "user": {
      "displayName": "Daniel Iversen",
      "userId": "04843677771367093898"
     },
     "user_tz": -60
    },
    "id": "G9KCBNlWhAT1",
    "outputId": "7a8122bf-5df3-4955-c73f-e271199b4771"
   },
   "outputs": [
    {
     "name": "stdout",
     "output_type": "stream",
     "text": [
      "<class 'pandas.core.frame.DataFrame'>\n",
      "RangeIndex: 48842 entries, 0 to 48841\n",
      "Data columns (total 15 columns):\n",
      " #   Column          Non-Null Count  Dtype \n",
      "---  ------          --------------  ----- \n",
      " 0   age             48842 non-null  int64 \n",
      " 1   workclass       47879 non-null  object\n",
      " 2   fnlwgt          48842 non-null  int64 \n",
      " 3   education       48842 non-null  object\n",
      " 4   education-num   48842 non-null  int64 \n",
      " 5   marital-status  48842 non-null  object\n",
      " 6   occupation      47876 non-null  object\n",
      " 7   relationship    48842 non-null  object\n",
      " 8   race            48842 non-null  object\n",
      " 9   sex             48842 non-null  object\n",
      " 10  capital-gain    48842 non-null  int64 \n",
      " 11  capital-loss    48842 non-null  int64 \n",
      " 12  hours-per-week  48842 non-null  int64 \n",
      " 13  native-country  48568 non-null  object\n",
      " 14  income          48842 non-null  object\n",
      "dtypes: int64(6), object(9)\n",
      "memory usage: 5.6+ MB\n"
     ]
    }
   ],
   "source": [
    "adult_data.info()"
   ]
  },
  {
   "cell_type": "markdown",
   "metadata": {
    "id": "mpVnFjqcjpbH"
   },
   "source": [
    "---"
   ]
  },
  {
   "cell_type": "markdown",
   "metadata": {
    "id": "UWdDTmI5efVg"
   },
   "source": [
    "### Exercise 2\n",
    "\n",
    "Based on the **adult dataset**, build a neural network classifier for the target variable 'income'."
   ]
  },
  {
   "cell_type": "markdown",
   "metadata": {
    "id": "2ciMR-Ueh50c"
   },
   "source": [
    "### Data Prep\n",
    "\n",
    "To do this i will need to preprocess the data"
   ]
  },
  {
   "cell_type": "code",
   "execution_count": 8,
   "metadata": {
    "colab": {
     "base_uri": "https://localhost:8080/",
     "height": 554
    },
    "executionInfo": {
     "elapsed": 9,
     "status": "ok",
     "timestamp": 1742071201923,
     "user": {
      "displayName": "Daniel Iversen",
      "userId": "04843677771367093898"
     },
     "user_tz": -60
    },
    "id": "QxlHnqbBh_HA",
    "outputId": "68886023-f460-43c3-d308-e5e27f360a71"
   },
   "outputs": [
    {
     "data": {
      "text/plain": [
       "age                 0\n",
       "workclass         963\n",
       "fnlwgt              0\n",
       "education           0\n",
       "education-num       0\n",
       "marital-status      0\n",
       "occupation        966\n",
       "relationship        0\n",
       "race                0\n",
       "sex                 0\n",
       "capital-gain        0\n",
       "capital-loss        0\n",
       "hours-per-week      0\n",
       "native-country    274\n",
       "income              0\n",
       "dtype: int64"
      ]
     },
     "execution_count": 8,
     "metadata": {},
     "output_type": "execute_result"
    }
   ],
   "source": [
    "# First of all lets check for missing values\n",
    "adult_data.isna().sum()"
   ]
  },
  {
   "cell_type": "code",
   "execution_count": 9,
   "metadata": {
    "colab": {
     "base_uri": "https://localhost:8080/",
     "height": 554
    },
    "executionInfo": {
     "elapsed": 139,
     "status": "ok",
     "timestamp": 1742071332776,
     "user": {
      "displayName": "Daniel Iversen",
      "userId": "04843677771367093898"
     },
     "user_tz": -60
    },
    "id": "Dc7yS--wiV8x",
    "outputId": "946d4ab2-84a3-418e-e45b-44517ef76f51"
   },
   "outputs": [
    {
     "data": {
      "text/plain": [
       "age               0\n",
       "workclass         0\n",
       "fnlwgt            0\n",
       "education         0\n",
       "education-num     0\n",
       "marital-status    0\n",
       "occupation        0\n",
       "relationship      0\n",
       "race              0\n",
       "sex               0\n",
       "capital-gain      0\n",
       "capital-loss      0\n",
       "hours-per-week    0\n",
       "native-country    0\n",
       "income            0\n",
       "dtype: int64"
      ]
     },
     "execution_count": 9,
     "metadata": {},
     "output_type": "execute_result"
    }
   ],
   "source": [
    "# Since there are some missing categorical values, we are going to fill them in with the most common category of its column\n",
    "categorical_columns = adult_data.select_dtypes(include=['object']).columns\n",
    "adult_data[categorical_columns] = adult_data[categorical_columns].fillna(adult_data[categorical_columns].mode().iloc[0])\n",
    "# Check result\n",
    "adult_data.isna().sum()"
   ]
  },
  {
   "cell_type": "markdown",
   "metadata": {
    "id": "-PaIMuDcjmn4"
   },
   "source": [
    "---"
   ]
  },
  {
   "cell_type": "markdown",
   "metadata": {
    "id": "rIVKHuYDi3iZ"
   },
   "source": [
    "### Encode the 'income' feature\n",
    "\n",
    "I encode the 'income' feature so its understandable for MLM and Neural Networks. These models require a numerical input and might fail with the original >50k and <=50k"
   ]
  },
  {
   "cell_type": "code",
   "execution_count": 10,
   "metadata": {
    "executionInfo": {
     "elapsed": 15,
     "status": "ok",
     "timestamp": 1742071547728,
     "user": {
      "displayName": "Daniel Iversen",
      "userId": "04843677771367093898"
     },
     "user_tz": -60
    },
    "id": "6o7qS2NhivGB"
   },
   "outputs": [],
   "source": [
    "# Init labe encoder and apply it to income\n",
    "label_encoder = LabelEncoder()\n",
    "adult_data['income'] = label_encoder.fit_transform(adult_data['income'])"
   ]
  },
  {
   "cell_type": "markdown",
   "metadata": {
    "id": "HDZT8i6PjspO"
   },
   "source": [
    "### Specify Feature and Target variables\n",
    "\n",
    "Im going to sepperate numeric and categorical here, as they should be prepped differently..."
   ]
  },
  {
   "cell_type": "code",
   "execution_count": 11,
   "metadata": {
    "executionInfo": {
     "elapsed": 2,
     "status": "ok",
     "timestamp": 1742071755052,
     "user": {
      "displayName": "Daniel Iversen",
      "userId": "04843677771367093898"
     },
     "user_tz": -60
    },
    "id": "726MCCdGj9sn"
   },
   "outputs": [],
   "source": [
    "numeric_features = ['age', 'fnlwgt', 'education-num', 'capital-gain', 'capital-loss', 'hours-per-week']\n",
    "categorical_features = [col for col in categorical_columns if col != 'income']"
   ]
  },
  {
   "cell_type": "code",
   "execution_count": 12,
   "metadata": {
    "executionInfo": {
     "elapsed": 4,
     "status": "ok",
     "timestamp": 1742071756862,
     "user": {
      "displayName": "Daniel Iversen",
      "userId": "04843677771367093898"
     },
     "user_tz": -60
    },
    "id": "bdal3jgBkHTI"
   },
   "outputs": [],
   "source": [
    "# Transform them in each their way\n",
    "preprocessor = ColumnTransformer([\n",
    "    ('num', StandardScaler(), numeric_features),\n",
    "    ('cat', OneHotEncoder(handle_unknown='ignore', sparse_output=False), categorical_features)\n",
    "])"
   ]
  },
  {
   "cell_type": "markdown",
   "metadata": {
    "id": "DF3XcU9vkiwd"
   },
   "source": [
    "Initialize a train test split and pre process the data"
   ]
  },
  {
   "cell_type": "code",
   "execution_count": 13,
   "metadata": {
    "executionInfo": {
     "elapsed": 81,
     "status": "ok",
     "timestamp": 1742071859440,
     "user": {
      "displayName": "Daniel Iversen",
      "userId": "04843677771367093898"
     },
     "user_tz": -60
    },
    "id": "ZxZ10ly-ksYX"
   },
   "outputs": [],
   "source": [
    "X = adult_data.drop(columns=['income'])\n",
    "y = adult_data['income']\n",
    "X_train, X_test, y_train, y_test = train_test_split(X, y, test_size=0.2, random_state=42)"
   ]
  },
  {
   "cell_type": "code",
   "execution_count": 14,
   "metadata": {
    "executionInfo": {
     "elapsed": 209,
     "status": "ok",
     "timestamp": 1742071861113,
     "user": {
      "displayName": "Daniel Iversen",
      "userId": "04843677771367093898"
     },
     "user_tz": -60
    },
    "id": "542eofezkv0h"
   },
   "outputs": [],
   "source": [
    "X_train = preprocessor.fit_transform(X_train)\n",
    "X_test = preprocessor.transform(X_test)"
   ]
  },
  {
   "cell_type": "markdown",
   "metadata": {
    "id": "fD0jqxDekyt-"
   },
   "source": [
    "### Build a neural network using keras library"
   ]
  },
  {
   "cell_type": "code",
   "execution_count": 26,
   "metadata": {
    "colab": {
     "base_uri": "https://localhost:8080/"
    },
    "executionInfo": {
     "elapsed": 418,
     "status": "ok",
     "timestamp": 1742071905450,
     "user": {
      "displayName": "Daniel Iversen",
      "userId": "04843677771367093898"
     },
     "user_tz": -60
    },
    "id": "FJQby3rWk2kz",
    "outputId": "e5341baf-154c-4177-8ae0-a85e7b56a334"
   },
   "outputs": [],
   "source": [
    "model = keras.Sequential([\n",
    "    keras.layers.Dense(8, activation='relu', input_shape=(X_train.shape[1],)),\n",
    "    keras.layers.Dense(4, activation='relu'),\n",
    "    keras.layers.Dense(1, activation='sigmoid')\n",
    "])"
   ]
  },
  {
   "cell_type": "code",
   "execution_count": 27,
   "metadata": {
    "executionInfo": {
     "elapsed": 42,
     "status": "ok",
     "timestamp": 1742071916153,
     "user": {
      "displayName": "Daniel Iversen",
      "userId": "04843677771367093898"
     },
     "user_tz": -60
    },
    "id": "I5L9wG_sk9-7"
   },
   "outputs": [],
   "source": [
    "model.compile(optimizer='adam', loss='binary_crossentropy', metrics=['accuracy'])"
   ]
  },
  {
   "cell_type": "code",
   "execution_count": 28,
   "metadata": {
    "colab": {
     "base_uri": "https://localhost:8080/"
    },
    "executionInfo": {
     "elapsed": 111799,
     "status": "ok",
     "timestamp": 1742072036702,
     "user": {
      "displayName": "Daniel Iversen",
      "userId": "04843677771367093898"
     },
     "user_tz": -60
    },
    "id": "x9AVcnyOlAGZ",
    "outputId": "3028a43b-01c0-473d-84ba-f02338a1b3c8"
   },
   "outputs": [
    {
     "name": "stdout",
     "output_type": "stream",
     "text": [
      "Epoch 1/50\n",
      "489/489 [==============================] - 1s 807us/step - loss: 0.4091 - accuracy: 0.7903 - val_loss: 0.3400 - val_accuracy: 0.8452\n",
      "Epoch 2/50\n",
      "489/489 [==============================] - 0s 680us/step - loss: 0.3265 - accuracy: 0.8501 - val_loss: 0.3156 - val_accuracy: 0.8549\n",
      "Epoch 3/50\n",
      "489/489 [==============================] - 0s 746us/step - loss: 0.3175 - accuracy: 0.8505 - val_loss: 0.3127 - val_accuracy: 0.8562\n",
      "Epoch 4/50\n",
      "489/489 [==============================] - 0s 770us/step - loss: 0.3148 - accuracy: 0.8521 - val_loss: 0.3104 - val_accuracy: 0.8573\n",
      "Epoch 5/50\n",
      "489/489 [==============================] - 0s 684us/step - loss: 0.3131 - accuracy: 0.8526 - val_loss: 0.3097 - val_accuracy: 0.8591\n",
      "Epoch 6/50\n",
      "489/489 [==============================] - 0s 690us/step - loss: 0.3120 - accuracy: 0.8529 - val_loss: 0.3099 - val_accuracy: 0.8569\n",
      "Epoch 7/50\n",
      "489/489 [==============================] - 0s 702us/step - loss: 0.3112 - accuracy: 0.8531 - val_loss: 0.3093 - val_accuracy: 0.8590\n",
      "Epoch 8/50\n",
      "489/489 [==============================] - 0s 814us/step - loss: 0.3105 - accuracy: 0.8536 - val_loss: 0.3091 - val_accuracy: 0.8595\n",
      "Epoch 9/50\n",
      "489/489 [==============================] - 0s 690us/step - loss: 0.3095 - accuracy: 0.8545 - val_loss: 0.3091 - val_accuracy: 0.8592\n",
      "Epoch 10/50\n",
      "489/489 [==============================] - 0s 678us/step - loss: 0.3087 - accuracy: 0.8546 - val_loss: 0.3092 - val_accuracy: 0.8603\n",
      "Epoch 11/50\n",
      "489/489 [==============================] - 0s 681us/step - loss: 0.3080 - accuracy: 0.8547 - val_loss: 0.3088 - val_accuracy: 0.8600\n",
      "Epoch 12/50\n",
      "489/489 [==============================] - 0s 707us/step - loss: 0.3077 - accuracy: 0.8552 - val_loss: 0.3132 - val_accuracy: 0.8550\n",
      "Epoch 13/50\n",
      "489/489 [==============================] - 0s 895us/step - loss: 0.3069 - accuracy: 0.8559 - val_loss: 0.3088 - val_accuracy: 0.8615\n",
      "Epoch 14/50\n",
      "489/489 [==============================] - 0s 799us/step - loss: 0.3064 - accuracy: 0.8557 - val_loss: 0.3095 - val_accuracy: 0.8595\n",
      "Epoch 15/50\n",
      "489/489 [==============================] - 0s 721us/step - loss: 0.3056 - accuracy: 0.8554 - val_loss: 0.3095 - val_accuracy: 0.8589\n",
      "Epoch 16/50\n",
      "489/489 [==============================] - 0s 754us/step - loss: 0.3054 - accuracy: 0.8564 - val_loss: 0.3090 - val_accuracy: 0.8596\n",
      "Epoch 17/50\n",
      "489/489 [==============================] - 0s 707us/step - loss: 0.3048 - accuracy: 0.8567 - val_loss: 0.3100 - val_accuracy: 0.8615\n",
      "Epoch 18/50\n",
      "489/489 [==============================] - 0s 715us/step - loss: 0.3043 - accuracy: 0.8560 - val_loss: 0.3090 - val_accuracy: 0.8609\n",
      "Epoch 19/50\n",
      "489/489 [==============================] - 0s 708us/step - loss: 0.3039 - accuracy: 0.8575 - val_loss: 0.3099 - val_accuracy: 0.8578\n",
      "Epoch 20/50\n",
      "489/489 [==============================] - 0s 677us/step - loss: 0.3040 - accuracy: 0.8564 - val_loss: 0.3091 - val_accuracy: 0.8582\n",
      "Epoch 21/50\n",
      "489/489 [==============================] - 0s 681us/step - loss: 0.3035 - accuracy: 0.8562 - val_loss: 0.3089 - val_accuracy: 0.8624\n",
      "Epoch 22/50\n",
      "489/489 [==============================] - 0s 703us/step - loss: 0.3033 - accuracy: 0.8570 - val_loss: 0.3092 - val_accuracy: 0.8609\n",
      "Epoch 23/50\n",
      "489/489 [==============================] - 0s 725us/step - loss: 0.3033 - accuracy: 0.8571 - val_loss: 0.3130 - val_accuracy: 0.8541\n",
      "Epoch 24/50\n",
      "489/489 [==============================] - 0s 700us/step - loss: 0.3027 - accuracy: 0.8585 - val_loss: 0.3122 - val_accuracy: 0.8558\n",
      "Epoch 25/50\n",
      "489/489 [==============================] - 0s 694us/step - loss: 0.3025 - accuracy: 0.8583 - val_loss: 0.3100 - val_accuracy: 0.8621\n",
      "Epoch 26/50\n",
      "489/489 [==============================] - 0s 689us/step - loss: 0.3024 - accuracy: 0.8581 - val_loss: 0.3103 - val_accuracy: 0.8621\n",
      "Epoch 27/50\n",
      "489/489 [==============================] - 0s 704us/step - loss: 0.3020 - accuracy: 0.8575 - val_loss: 0.3115 - val_accuracy: 0.8604\n",
      "Epoch 28/50\n",
      "489/489 [==============================] - 0s 755us/step - loss: 0.3020 - accuracy: 0.8574 - val_loss: 0.3108 - val_accuracy: 0.8587\n",
      "Epoch 29/50\n",
      "489/489 [==============================] - 0s 788us/step - loss: 0.3017 - accuracy: 0.8587 - val_loss: 0.3112 - val_accuracy: 0.8589\n",
      "Epoch 30/50\n",
      "489/489 [==============================] - 0s 731us/step - loss: 0.3016 - accuracy: 0.8580 - val_loss: 0.3127 - val_accuracy: 0.8589\n",
      "Epoch 31/50\n",
      "489/489 [==============================] - 0s 693us/step - loss: 0.3015 - accuracy: 0.8588 - val_loss: 0.3119 - val_accuracy: 0.8581\n",
      "Epoch 32/50\n",
      "489/489 [==============================] - 0s 715us/step - loss: 0.3014 - accuracy: 0.8579 - val_loss: 0.3105 - val_accuracy: 0.8604\n",
      "Epoch 33/50\n",
      "489/489 [==============================] - 0s 699us/step - loss: 0.3012 - accuracy: 0.8589 - val_loss: 0.3110 - val_accuracy: 0.8603\n",
      "Epoch 34/50\n",
      "489/489 [==============================] - 0s 707us/step - loss: 0.3009 - accuracy: 0.8587 - val_loss: 0.3116 - val_accuracy: 0.8604\n",
      "Epoch 35/50\n",
      "489/489 [==============================] - 0s 693us/step - loss: 0.3009 - accuracy: 0.8584 - val_loss: 0.3116 - val_accuracy: 0.8621\n",
      "Epoch 36/50\n",
      "489/489 [==============================] - 0s 697us/step - loss: 0.3006 - accuracy: 0.8583 - val_loss: 0.3122 - val_accuracy: 0.8589\n",
      "Epoch 37/50\n",
      "489/489 [==============================] - 0s 704us/step - loss: 0.3005 - accuracy: 0.8582 - val_loss: 0.3122 - val_accuracy: 0.8598\n",
      "Epoch 38/50\n",
      "489/489 [==============================] - 0s 690us/step - loss: 0.3005 - accuracy: 0.8588 - val_loss: 0.3118 - val_accuracy: 0.8604\n",
      "Epoch 39/50\n",
      "489/489 [==============================] - 0s 717us/step - loss: 0.3002 - accuracy: 0.8593 - val_loss: 0.3125 - val_accuracy: 0.8578\n",
      "Epoch 40/50\n",
      "489/489 [==============================] - 0s 675us/step - loss: 0.3001 - accuracy: 0.8587 - val_loss: 0.3131 - val_accuracy: 0.8581\n",
      "Epoch 41/50\n",
      "489/489 [==============================] - 0s 690us/step - loss: 0.3000 - accuracy: 0.8590 - val_loss: 0.3129 - val_accuracy: 0.8599\n",
      "Epoch 42/50\n",
      "489/489 [==============================] - 0s 685us/step - loss: 0.2997 - accuracy: 0.8588 - val_loss: 0.3145 - val_accuracy: 0.8577\n",
      "Epoch 43/50\n",
      "489/489 [==============================] - 0s 709us/step - loss: 0.3000 - accuracy: 0.8591 - val_loss: 0.3134 - val_accuracy: 0.8607\n",
      "Epoch 44/50\n",
      "489/489 [==============================] - 0s 703us/step - loss: 0.2997 - accuracy: 0.8600 - val_loss: 0.3135 - val_accuracy: 0.8598\n",
      "Epoch 45/50\n",
      "489/489 [==============================] - 0s 692us/step - loss: 0.2997 - accuracy: 0.8598 - val_loss: 0.3129 - val_accuracy: 0.8598\n",
      "Epoch 46/50\n",
      "489/489 [==============================] - 0s 725us/step - loss: 0.2996 - accuracy: 0.8594 - val_loss: 0.3126 - val_accuracy: 0.8600\n",
      "Epoch 47/50\n",
      "489/489 [==============================] - 0s 807us/step - loss: 0.2994 - accuracy: 0.8582 - val_loss: 0.3135 - val_accuracy: 0.8592\n",
      "Epoch 48/50\n",
      "489/489 [==============================] - 0s 693us/step - loss: 0.2993 - accuracy: 0.8591 - val_loss: 0.3134 - val_accuracy: 0.8604\n",
      "Epoch 49/50\n",
      "489/489 [==============================] - 0s 691us/step - loss: 0.2992 - accuracy: 0.8587 - val_loss: 0.3142 - val_accuracy: 0.8612\n",
      "Epoch 50/50\n",
      "489/489 [==============================] - 0s 697us/step - loss: 0.2987 - accuracy: 0.8586 - val_loss: 0.3142 - val_accuracy: 0.8580\n"
     ]
    }
   ],
   "source": [
    "history = model.fit(X_train, y_train, epochs=50, batch_size=64, validation_split=0.2, verbose=1)"
   ]
  },
  {
   "cell_type": "markdown",
   "metadata": {
    "id": "b313S_M4lDcw"
   },
   "source": [
    "### Evaluation of the neural network model:"
   ]
  },
  {
   "cell_type": "code",
   "execution_count": 29,
   "metadata": {
    "colab": {
     "base_uri": "https://localhost:8080/"
    },
    "executionInfo": {
     "elapsed": 825,
     "status": "ok",
     "timestamp": 1742072041585,
     "user": {
      "displayName": "Daniel Iversen",
      "userId": "04843677771367093898"
     },
     "user_tz": -60
    },
    "id": "konGYoSAlFof",
    "outputId": "573d6603-dfe6-4b92-d06e-40e94b048b5c"
   },
   "outputs": [
    {
     "name": "stdout",
     "output_type": "stream",
     "text": [
      "306/306 [==============================] - 0s 445us/step - loss: 0.3186 - accuracy: 0.8577\n",
      "Test Accuracy: 85.77131628990173%\n"
     ]
    }
   ],
   "source": [
    "test_loss, test_acc = model.evaluate(X_test, y_test)\n",
    "print('Test Accuracy: ' + str((test_acc * 100)) + '%')"
   ]
  },
  {
   "cell_type": "markdown",
   "metadata": {},
   "source": [
    "### Validation loss\n",
    "\n",
    "* As seen in the epochs the validation of the model rises over time where the training loss falls over time \n",
    "* This can also be clearly visualized using a plot"
   ]
  },
  {
   "cell_type": "code",
   "execution_count": 30,
   "metadata": {},
   "outputs": [
    {
     "data": {
      "image/png": "[encoded data removed]",
      "text/plain": [
       "<Figure size 1000x600 with 1 Axes>"
      ]
     },
     "metadata": {},
     "output_type": "display_data"
    }
   ],
   "source": [
    "import matplotlib.pyplot as plt\n",
    "\n",
    "plt.figure(figsize=(10, 6))\n",
    "plt.plot(history.history['loss'], label='Training Loss')\n",
    "plt.plot(history.history['val_loss'], label='Validation Loss')\n",
    "plt.xlabel(\"Epoch\")\n",
    "plt.ylabel(\"Loss\")\n",
    "plt.title(\"Training vs. Validation Loss\")\n",
    "plt.legend()\n",
    "plt.show()"
   ]
  },
  {
   "cell_type": "markdown",
   "metadata": {},
   "source": [
    "looking at this model, we start with a high training loss, which drops rapidly, this is as expected, especially as it keeps decreasing over time. \n",
    "\n",
    "secondly looking at the validation loss, it has no clear overfitting, though it curves upwards after around 10  epochs which tells us it doesnt need 50 epochs, but around 10 would suffice "
   ]
  }
 ],
 "metadata": {
  "colab": {
   "authorship_tag": "ABX9TyMRx/+xUwgLaICgj0BmwP91",
   "provenance": []
  },
  "kernelspec": {
   "display_name": "Python 3",
   "name": "python3"
  },
  "language_info": {
   "codemirror_mode": {
    "name": "ipython",
    "version": 3
   },
   "file_extension": ".py",
   "mimetype": "text/x-python",
   "name": "python",
   "nbconvert_exporter": "python",
   "pygments_lexer": "ipython3",
   "version": "3.10.11"
  }
 },
 "nbformat": 4,
 "nbformat_minor": 0
}
