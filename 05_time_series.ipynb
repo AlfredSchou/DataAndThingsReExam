{
 "cells": [
  {
   "cell_type": "markdown",
   "metadata": {
    "id": "jhYUqaxvD5Ep"
   },
   "source": [
    "# 5: Time Series\n",
    "\n",
    "The hand-in exercise for this topic is Task 3,4 and 6 from the notebook “TSA_Task”. This\n",
    "means that you have to do the cleaning of dataset, then create features (at least 5 new\n",
    "features should be created, and you should be able to justify why you created each of\n",
    "the features). And then, you should train an XGBoost model on the dataset. Note that\n",
    "you also need to do relevant train, test, validation split and be able to explain why you\n",
    "chose a certain split. Lastly, you should calculate evaluation metrics: rmse and mae to\n",
    "show performance of your model. The hyperparameter tuning part is not required."
   ]
  },
  {
   "cell_type": "markdown",
   "metadata": {
    "id": "a3vJkXzjD_lv"
   },
   "source": [
    "---"
   ]
  },
  {
   "cell_type": "markdown",
   "metadata": {
    "id": "CW03k-1EEoal"
   },
   "source": [
    "### Imports:"
   ]
  },
  {
   "cell_type": "code",
   "execution_count": 1,
   "metadata": {
    "executionInfo": {
     "elapsed": 9,
     "status": "ok",
     "timestamp": 1741982008331,
     "user": {
      "displayName": "Daniel Iversen",
      "userId": "04843677771367093898"
     },
     "user_tz": -60
    },
    "id": "Vb4OhTCyEqhC"
   },
   "outputs": [],
   "source": [
    "import pandas as pd\n",
    "import numpy as np\n",
    "import matplotlib.pyplot as plt\n",
    "import seaborn as sns\n",
    "import kagglehub\n",
    "import os\n",
    "import xgboost as xgb\n",
    "from sklearn.model_selection import train_test_split\n",
    "from sklearn.metrics import mean_squared_error, r2_score"
   ]
  },
  {
   "cell_type": "markdown",
   "metadata": {
    "id": "0fjC9xGWFiHz"
   },
   "source": [
    "Get the dataset w kaggleHub"
   ]
  },
  {
   "cell_type": "code",
   "execution_count": 2,
   "metadata": {
    "colab": {
     "base_uri": "https://localhost:8080/"
    },
    "executionInfo": {
     "elapsed": 1581,
     "status": "ok",
     "timestamp": 1741982009914,
     "user": {
      "displayName": "Daniel Iversen",
      "userId": "04843677771367093898"
     },
     "user_tz": -60
    },
    "id": "P8YseKVvEyxb",
    "outputId": "f1d2159b-5b32-4e1b-9288-c76f7cc094a5"
   },
   "outputs": [
    {
     "name": "stdout",
     "output_type": "stream",
     "text": [
      "Path to dataset files: C:\\Users\\abjar\\.cache\\kagglehub\\datasets\\lakshmi25npathi\\bike-sharing-dataset\\versions\\1\n"
     ]
    }
   ],
   "source": [
    "path = kagglehub.dataset_download(\"lakshmi25npathi/bike-sharing-dataset\")\n",
    "\n",
    "print(\"Path to dataset files:\", path)"
   ]
  },
  {
   "cell_type": "code",
   "execution_count": 3,
   "metadata": {
    "colab": {
     "base_uri": "https://localhost:8080/"
    },
    "executionInfo": {
     "elapsed": 11,
     "status": "ok",
     "timestamp": 1741982009925,
     "user": {
      "displayName": "Daniel Iversen",
      "userId": "04843677771367093898"
     },
     "user_tz": -60
    },
    "id": "GktugaZqEyhD",
    "outputId": "e502ebe8-b74a-461e-b3d7-4e6fdda18830"
   },
   "outputs": [
    {
     "name": "stdout",
     "output_type": "stream",
     "text": [
      "['day.csv', 'hour.csv', 'Readme.txt']\n"
     ]
    }
   ],
   "source": [
    "dataset_path = path\n",
    "\n",
    "files = os.listdir(dataset_path)\n",
    "print(files)"
   ]
  },
  {
   "cell_type": "code",
   "execution_count": 4,
   "metadata": {
    "executionInfo": {
     "elapsed": 48,
     "status": "ok",
     "timestamp": 1741982009982,
     "user": {
      "displayName": "Daniel Iversen",
      "userId": "04843677771367093898"
     },
     "user_tz": -60
    },
    "id": "ybMWF3PoFRHn"
   },
   "outputs": [],
   "source": [
    "file_path = path + \"/hour.csv\"\n",
    "\n",
    "df = pd.read_csv(file_path)"
   ]
  },
  {
   "cell_type": "markdown",
   "metadata": {
    "id": "pQnnmduOFrH-"
   },
   "source": [
    "---"
   ]
  },
  {
   "cell_type": "markdown",
   "metadata": {
    "id": "AJ9uO7ThGego"
   },
   "source": [
    "### Task 3 from TSA_task:\n",
    "\n",
    "* Clean and pre-process the dataset as required and prepare the data for modelling."
   ]
  },
  {
   "cell_type": "markdown",
   "metadata": {
    "id": "FXva1nzZFlcv"
   },
   "source": [
    "First look EDA:\n",
    "\n",
    "Using .head(), .info() and .describe() function to get a initial understanding of the data we are handling.\n",
    "Also checking if we need to adress any missing values or other inconsistencies."
   ]
  },
  {
   "cell_type": "code",
   "execution_count": 5,
   "metadata": {
    "colab": {
     "base_uri": "https://localhost:8080/",
     "height": 363
    },
    "executionInfo": {
     "elapsed": 90,
     "status": "ok",
     "timestamp": 1741982010080,
     "user": {
      "displayName": "Daniel Iversen",
      "userId": "04843677771367093898"
     },
     "user_tz": -60
    },
    "id": "E1hClGdqFvN3",
    "outputId": "94a398e7-94c0-4005-e3a4-a006a1f7f853"
   },
   "outputs": [
    {
     "data": {
      "text/html": [
       "<div>\n",
       "<style scoped>\n",
       "    .dataframe tbody tr th:only-of-type {\n",
       "        vertical-align: middle;\n",
       "    }\n",
       "\n",
       "    .dataframe tbody tr th {\n",
       "        vertical-align: top;\n",
       "    }\n",
       "\n",
       "    .dataframe thead th {\n",
       "        text-align: right;\n",
       "    }\n",
       "</style>\n",
       "<table border=\"1\" class=\"dataframe\">\n",
       "  <thead>\n",
       "    <tr style=\"text-align: right;\">\n",
       "      <th></th>\n",
       "      <th>instant</th>\n",
       "      <th>dteday</th>\n",
       "      <th>season</th>\n",
       "      <th>yr</th>\n",
       "      <th>mnth</th>\n",
       "      <th>hr</th>\n",
       "      <th>holiday</th>\n",
       "      <th>weekday</th>\n",
       "      <th>workingday</th>\n",
       "      <th>weathersit</th>\n",
       "      <th>temp</th>\n",
       "      <th>atemp</th>\n",
       "      <th>hum</th>\n",
       "      <th>windspeed</th>\n",
       "      <th>casual</th>\n",
       "      <th>registered</th>\n",
       "      <th>cnt</th>\n",
       "    </tr>\n",
       "  </thead>\n",
       "  <tbody>\n",
       "    <tr>\n",
       "      <th>0</th>\n",
       "      <td>1</td>\n",
       "      <td>2011-01-01</td>\n",
       "      <td>1</td>\n",
       "      <td>0</td>\n",
       "      <td>1</td>\n",
       "      <td>0</td>\n",
       "      <td>0</td>\n",
       "      <td>6</td>\n",
       "      <td>0</td>\n",
       "      <td>1</td>\n",
       "      <td>0.24</td>\n",
       "      <td>0.2879</td>\n",
       "      <td>0.81</td>\n",
       "      <td>0.0000</td>\n",
       "      <td>3</td>\n",
       "      <td>13</td>\n",
       "      <td>16</td>\n",
       "    </tr>\n",
       "    <tr>\n",
       "      <th>1</th>\n",
       "      <td>2</td>\n",
       "      <td>2011-01-01</td>\n",
       "      <td>1</td>\n",
       "      <td>0</td>\n",
       "      <td>1</td>\n",
       "      <td>1</td>\n",
       "      <td>0</td>\n",
       "      <td>6</td>\n",
       "      <td>0</td>\n",
       "      <td>1</td>\n",
       "      <td>0.22</td>\n",
       "      <td>0.2727</td>\n",
       "      <td>0.80</td>\n",
       "      <td>0.0000</td>\n",
       "      <td>8</td>\n",
       "      <td>32</td>\n",
       "      <td>40</td>\n",
       "    </tr>\n",
       "    <tr>\n",
       "      <th>2</th>\n",
       "      <td>3</td>\n",
       "      <td>2011-01-01</td>\n",
       "      <td>1</td>\n",
       "      <td>0</td>\n",
       "      <td>1</td>\n",
       "      <td>2</td>\n",
       "      <td>0</td>\n",
       "      <td>6</td>\n",
       "      <td>0</td>\n",
       "      <td>1</td>\n",
       "      <td>0.22</td>\n",
       "      <td>0.2727</td>\n",
       "      <td>0.80</td>\n",
       "      <td>0.0000</td>\n",
       "      <td>5</td>\n",
       "      <td>27</td>\n",
       "      <td>32</td>\n",
       "    </tr>\n",
       "    <tr>\n",
       "      <th>3</th>\n",
       "      <td>4</td>\n",
       "      <td>2011-01-01</td>\n",
       "      <td>1</td>\n",
       "      <td>0</td>\n",
       "      <td>1</td>\n",
       "      <td>3</td>\n",
       "      <td>0</td>\n",
       "      <td>6</td>\n",
       "      <td>0</td>\n",
       "      <td>1</td>\n",
       "      <td>0.24</td>\n",
       "      <td>0.2879</td>\n",
       "      <td>0.75</td>\n",
       "      <td>0.0000</td>\n",
       "      <td>3</td>\n",
       "      <td>10</td>\n",
       "      <td>13</td>\n",
       "    </tr>\n",
       "    <tr>\n",
       "      <th>4</th>\n",
       "      <td>5</td>\n",
       "      <td>2011-01-01</td>\n",
       "      <td>1</td>\n",
       "      <td>0</td>\n",
       "      <td>1</td>\n",
       "      <td>4</td>\n",
       "      <td>0</td>\n",
       "      <td>6</td>\n",
       "      <td>0</td>\n",
       "      <td>1</td>\n",
       "      <td>0.24</td>\n",
       "      <td>0.2879</td>\n",
       "      <td>0.75</td>\n",
       "      <td>0.0000</td>\n",
       "      <td>0</td>\n",
       "      <td>1</td>\n",
       "      <td>1</td>\n",
       "    </tr>\n",
       "    <tr>\n",
       "      <th>5</th>\n",
       "      <td>6</td>\n",
       "      <td>2011-01-01</td>\n",
       "      <td>1</td>\n",
       "      <td>0</td>\n",
       "      <td>1</td>\n",
       "      <td>5</td>\n",
       "      <td>0</td>\n",
       "      <td>6</td>\n",
       "      <td>0</td>\n",
       "      <td>2</td>\n",
       "      <td>0.24</td>\n",
       "      <td>0.2576</td>\n",
       "      <td>0.75</td>\n",
       "      <td>0.0896</td>\n",
       "      <td>0</td>\n",
       "      <td>1</td>\n",
       "      <td>1</td>\n",
       "    </tr>\n",
       "    <tr>\n",
       "      <th>6</th>\n",
       "      <td>7</td>\n",
       "      <td>2011-01-01</td>\n",
       "      <td>1</td>\n",
       "      <td>0</td>\n",
       "      <td>1</td>\n",
       "      <td>6</td>\n",
       "      <td>0</td>\n",
       "      <td>6</td>\n",
       "      <td>0</td>\n",
       "      <td>1</td>\n",
       "      <td>0.22</td>\n",
       "      <td>0.2727</td>\n",
       "      <td>0.80</td>\n",
       "      <td>0.0000</td>\n",
       "      <td>2</td>\n",
       "      <td>0</td>\n",
       "      <td>2</td>\n",
       "    </tr>\n",
       "    <tr>\n",
       "      <th>7</th>\n",
       "      <td>8</td>\n",
       "      <td>2011-01-01</td>\n",
       "      <td>1</td>\n",
       "      <td>0</td>\n",
       "      <td>1</td>\n",
       "      <td>7</td>\n",
       "      <td>0</td>\n",
       "      <td>6</td>\n",
       "      <td>0</td>\n",
       "      <td>1</td>\n",
       "      <td>0.20</td>\n",
       "      <td>0.2576</td>\n",
       "      <td>0.86</td>\n",
       "      <td>0.0000</td>\n",
       "      <td>1</td>\n",
       "      <td>2</td>\n",
       "      <td>3</td>\n",
       "    </tr>\n",
       "    <tr>\n",
       "      <th>8</th>\n",
       "      <td>9</td>\n",
       "      <td>2011-01-01</td>\n",
       "      <td>1</td>\n",
       "      <td>0</td>\n",
       "      <td>1</td>\n",
       "      <td>8</td>\n",
       "      <td>0</td>\n",
       "      <td>6</td>\n",
       "      <td>0</td>\n",
       "      <td>1</td>\n",
       "      <td>0.24</td>\n",
       "      <td>0.2879</td>\n",
       "      <td>0.75</td>\n",
       "      <td>0.0000</td>\n",
       "      <td>1</td>\n",
       "      <td>7</td>\n",
       "      <td>8</td>\n",
       "    </tr>\n",
       "    <tr>\n",
       "      <th>9</th>\n",
       "      <td>10</td>\n",
       "      <td>2011-01-01</td>\n",
       "      <td>1</td>\n",
       "      <td>0</td>\n",
       "      <td>1</td>\n",
       "      <td>9</td>\n",
       "      <td>0</td>\n",
       "      <td>6</td>\n",
       "      <td>0</td>\n",
       "      <td>1</td>\n",
       "      <td>0.32</td>\n",
       "      <td>0.3485</td>\n",
       "      <td>0.76</td>\n",
       "      <td>0.0000</td>\n",
       "      <td>8</td>\n",
       "      <td>6</td>\n",
       "      <td>14</td>\n",
       "    </tr>\n",
       "  </tbody>\n",
       "</table>\n",
       "</div>"
      ],
      "text/plain": [
       "   instant      dteday  season  yr  mnth  hr  holiday  weekday  workingday  \\\n",
       "0        1  2011-01-01       1   0     1   0        0        6           0   \n",
       "1        2  2011-01-01       1   0     1   1        0        6           0   \n",
       "2        3  2011-01-01       1   0     1   2        0        6           0   \n",
       "3        4  2011-01-01       1   0     1   3        0        6           0   \n",
       "4        5  2011-01-01       1   0     1   4        0        6           0   \n",
       "5        6  2011-01-01       1   0     1   5        0        6           0   \n",
       "6        7  2011-01-01       1   0     1   6        0        6           0   \n",
       "7        8  2011-01-01       1   0     1   7        0        6           0   \n",
       "8        9  2011-01-01       1   0     1   8        0        6           0   \n",
       "9       10  2011-01-01       1   0     1   9        0        6           0   \n",
       "\n",
       "   weathersit  temp   atemp   hum  windspeed  casual  registered  cnt  \n",
       "0           1  0.24  0.2879  0.81     0.0000       3          13   16  \n",
       "1           1  0.22  0.2727  0.80     0.0000       8          32   40  \n",
       "2           1  0.22  0.2727  0.80     0.0000       5          27   32  \n",
       "3           1  0.24  0.2879  0.75     0.0000       3          10   13  \n",
       "4           1  0.24  0.2879  0.75     0.0000       0           1    1  \n",
       "5           2  0.24  0.2576  0.75     0.0896       0           1    1  \n",
       "6           1  0.22  0.2727  0.80     0.0000       2           0    2  \n",
       "7           1  0.20  0.2576  0.86     0.0000       1           2    3  \n",
       "8           1  0.24  0.2879  0.75     0.0000       1           7    8  \n",
       "9           1  0.32  0.3485  0.76     0.0000       8           6   14  "
      ]
     },
     "execution_count": 5,
     "metadata": {},
     "output_type": "execute_result"
    }
   ],
   "source": [
    "# Look at first 10 records in the data frane\n",
    "df.head(10)"
   ]
  },
  {
   "cell_type": "code",
   "execution_count": 6,
   "metadata": {
    "colab": {
     "base_uri": "https://localhost:8080/"
    },
    "executionInfo": {
     "elapsed": 7,
     "status": "ok",
     "timestamp": 1741982010087,
     "user": {
      "displayName": "Daniel Iversen",
      "userId": "04843677771367093898"
     },
     "user_tz": -60
    },
    "id": "QIYW8ljqFvCM",
    "outputId": "816749ac-b1e7-47ed-d87c-a066b48e3d54"
   },
   "outputs": [
    {
     "name": "stdout",
     "output_type": "stream",
     "text": [
      "<class 'pandas.core.frame.DataFrame'>\n",
      "RangeIndex: 17379 entries, 0 to 17378\n",
      "Data columns (total 17 columns):\n",
      " #   Column      Non-Null Count  Dtype  \n",
      "---  ------      --------------  -----  \n",
      " 0   instant     17379 non-null  int64  \n",
      " 1   dteday      17379 non-null  object \n",
      " 2   season      17379 non-null  int64  \n",
      " 3   yr          17379 non-null  int64  \n",
      " 4   mnth        17379 non-null  int64  \n",
      " 5   hr          17379 non-null  int64  \n",
      " 6   holiday     17379 non-null  int64  \n",
      " 7   weekday     17379 non-null  int64  \n",
      " 8   workingday  17379 non-null  int64  \n",
      " 9   weathersit  17379 non-null  int64  \n",
      " 10  temp        17379 non-null  float64\n",
      " 11  atemp       17379 non-null  float64\n",
      " 12  hum         17379 non-null  float64\n",
      " 13  windspeed   17379 non-null  float64\n",
      " 14  casual      17379 non-null  int64  \n",
      " 15  registered  17379 non-null  int64  \n",
      " 16  cnt         17379 non-null  int64  \n",
      "dtypes: float64(4), int64(12), object(1)\n",
      "memory usage: 2.3+ MB\n"
     ]
    }
   ],
   "source": [
    "df.info()"
   ]
  },
  {
   "cell_type": "markdown",
   "metadata": {
    "id": "KGgzXV6ZGEx-"
   },
   "source": [
    "No missing values in this data, so no need to do cleaning/transformation for now"
   ]
  },
  {
   "cell_type": "code",
   "execution_count": 7,
   "metadata": {
    "colab": {
     "base_uri": "https://localhost:8080/",
     "height": 320
    },
    "executionInfo": {
     "elapsed": 100,
     "status": "ok",
     "timestamp": 1741982010201,
     "user": {
      "displayName": "Daniel Iversen",
      "userId": "04843677771367093898"
     },
     "user_tz": -60
    },
    "id": "kl2ZVgBXFqHg",
    "outputId": "cfb7150a-c30f-4603-e5bb-d1b5590838f4"
   },
   "outputs": [
    {
     "data": {
      "text/html": [
       "<div>\n",
       "<style scoped>\n",
       "    .dataframe tbody tr th:only-of-type {\n",
       "        vertical-align: middle;\n",
       "    }\n",
       "\n",
       "    .dataframe tbody tr th {\n",
       "        vertical-align: top;\n",
       "    }\n",
       "\n",
       "    .dataframe thead th {\n",
       "        text-align: right;\n",
       "    }\n",
       "</style>\n",
       "<table border=\"1\" class=\"dataframe\">\n",
       "  <thead>\n",
       "    <tr style=\"text-align: right;\">\n",
       "      <th></th>\n",
       "      <th>instant</th>\n",
       "      <th>season</th>\n",
       "      <th>yr</th>\n",
       "      <th>mnth</th>\n",
       "      <th>hr</th>\n",
       "      <th>holiday</th>\n",
       "      <th>weekday</th>\n",
       "      <th>workingday</th>\n",
       "      <th>weathersit</th>\n",
       "      <th>temp</th>\n",
       "      <th>atemp</th>\n",
       "      <th>hum</th>\n",
       "      <th>windspeed</th>\n",
       "      <th>casual</th>\n",
       "      <th>registered</th>\n",
       "      <th>cnt</th>\n",
       "    </tr>\n",
       "  </thead>\n",
       "  <tbody>\n",
       "    <tr>\n",
       "      <th>count</th>\n",
       "      <td>17379.0000</td>\n",
       "      <td>17379.000000</td>\n",
       "      <td>17379.000000</td>\n",
       "      <td>17379.000000</td>\n",
       "      <td>17379.000000</td>\n",
       "      <td>17379.000000</td>\n",
       "      <td>17379.000000</td>\n",
       "      <td>17379.000000</td>\n",
       "      <td>17379.000000</td>\n",
       "      <td>17379.000000</td>\n",
       "      <td>17379.000000</td>\n",
       "      <td>17379.000000</td>\n",
       "      <td>17379.000000</td>\n",
       "      <td>17379.000000</td>\n",
       "      <td>17379.000000</td>\n",
       "      <td>17379.000000</td>\n",
       "    </tr>\n",
       "    <tr>\n",
       "      <th>mean</th>\n",
       "      <td>8690.0000</td>\n",
       "      <td>2.501640</td>\n",
       "      <td>0.502561</td>\n",
       "      <td>6.537775</td>\n",
       "      <td>11.546752</td>\n",
       "      <td>0.028770</td>\n",
       "      <td>3.003683</td>\n",
       "      <td>0.682721</td>\n",
       "      <td>1.425283</td>\n",
       "      <td>0.496987</td>\n",
       "      <td>0.475775</td>\n",
       "      <td>0.627229</td>\n",
       "      <td>0.190098</td>\n",
       "      <td>35.676218</td>\n",
       "      <td>153.786869</td>\n",
       "      <td>189.463088</td>\n",
       "    </tr>\n",
       "    <tr>\n",
       "      <th>std</th>\n",
       "      <td>5017.0295</td>\n",
       "      <td>1.106918</td>\n",
       "      <td>0.500008</td>\n",
       "      <td>3.438776</td>\n",
       "      <td>6.914405</td>\n",
       "      <td>0.167165</td>\n",
       "      <td>2.005771</td>\n",
       "      <td>0.465431</td>\n",
       "      <td>0.639357</td>\n",
       "      <td>0.192556</td>\n",
       "      <td>0.171850</td>\n",
       "      <td>0.192930</td>\n",
       "      <td>0.122340</td>\n",
       "      <td>49.305030</td>\n",
       "      <td>151.357286</td>\n",
       "      <td>181.387599</td>\n",
       "    </tr>\n",
       "    <tr>\n",
       "      <th>min</th>\n",
       "      <td>1.0000</td>\n",
       "      <td>1.000000</td>\n",
       "      <td>0.000000</td>\n",
       "      <td>1.000000</td>\n",
       "      <td>0.000000</td>\n",
       "      <td>0.000000</td>\n",
       "      <td>0.000000</td>\n",
       "      <td>0.000000</td>\n",
       "      <td>1.000000</td>\n",
       "      <td>0.020000</td>\n",
       "      <td>0.000000</td>\n",
       "      <td>0.000000</td>\n",
       "      <td>0.000000</td>\n",
       "      <td>0.000000</td>\n",
       "      <td>0.000000</td>\n",
       "      <td>1.000000</td>\n",
       "    </tr>\n",
       "    <tr>\n",
       "      <th>25%</th>\n",
       "      <td>4345.5000</td>\n",
       "      <td>2.000000</td>\n",
       "      <td>0.000000</td>\n",
       "      <td>4.000000</td>\n",
       "      <td>6.000000</td>\n",
       "      <td>0.000000</td>\n",
       "      <td>1.000000</td>\n",
       "      <td>0.000000</td>\n",
       "      <td>1.000000</td>\n",
       "      <td>0.340000</td>\n",
       "      <td>0.333300</td>\n",
       "      <td>0.480000</td>\n",
       "      <td>0.104500</td>\n",
       "      <td>4.000000</td>\n",
       "      <td>34.000000</td>\n",
       "      <td>40.000000</td>\n",
       "    </tr>\n",
       "    <tr>\n",
       "      <th>50%</th>\n",
       "      <td>8690.0000</td>\n",
       "      <td>3.000000</td>\n",
       "      <td>1.000000</td>\n",
       "      <td>7.000000</td>\n",
       "      <td>12.000000</td>\n",
       "      <td>0.000000</td>\n",
       "      <td>3.000000</td>\n",
       "      <td>1.000000</td>\n",
       "      <td>1.000000</td>\n",
       "      <td>0.500000</td>\n",
       "      <td>0.484800</td>\n",
       "      <td>0.630000</td>\n",
       "      <td>0.194000</td>\n",
       "      <td>17.000000</td>\n",
       "      <td>115.000000</td>\n",
       "      <td>142.000000</td>\n",
       "    </tr>\n",
       "    <tr>\n",
       "      <th>75%</th>\n",
       "      <td>13034.5000</td>\n",
       "      <td>3.000000</td>\n",
       "      <td>1.000000</td>\n",
       "      <td>10.000000</td>\n",
       "      <td>18.000000</td>\n",
       "      <td>0.000000</td>\n",
       "      <td>5.000000</td>\n",
       "      <td>1.000000</td>\n",
       "      <td>2.000000</td>\n",
       "      <td>0.660000</td>\n",
       "      <td>0.621200</td>\n",
       "      <td>0.780000</td>\n",
       "      <td>0.253700</td>\n",
       "      <td>48.000000</td>\n",
       "      <td>220.000000</td>\n",
       "      <td>281.000000</td>\n",
       "    </tr>\n",
       "    <tr>\n",
       "      <th>max</th>\n",
       "      <td>17379.0000</td>\n",
       "      <td>4.000000</td>\n",
       "      <td>1.000000</td>\n",
       "      <td>12.000000</td>\n",
       "      <td>23.000000</td>\n",
       "      <td>1.000000</td>\n",
       "      <td>6.000000</td>\n",
       "      <td>1.000000</td>\n",
       "      <td>4.000000</td>\n",
       "      <td>1.000000</td>\n",
       "      <td>1.000000</td>\n",
       "      <td>1.000000</td>\n",
       "      <td>0.850700</td>\n",
       "      <td>367.000000</td>\n",
       "      <td>886.000000</td>\n",
       "      <td>977.000000</td>\n",
       "    </tr>\n",
       "  </tbody>\n",
       "</table>\n",
       "</div>"
      ],
      "text/plain": [
       "          instant        season            yr          mnth            hr  \\\n",
       "count  17379.0000  17379.000000  17379.000000  17379.000000  17379.000000   \n",
       "mean    8690.0000      2.501640      0.502561      6.537775     11.546752   \n",
       "std     5017.0295      1.106918      0.500008      3.438776      6.914405   \n",
       "min        1.0000      1.000000      0.000000      1.000000      0.000000   \n",
       "25%     4345.5000      2.000000      0.000000      4.000000      6.000000   \n",
       "50%     8690.0000      3.000000      1.000000      7.000000     12.000000   \n",
       "75%    13034.5000      3.000000      1.000000     10.000000     18.000000   \n",
       "max    17379.0000      4.000000      1.000000     12.000000     23.000000   \n",
       "\n",
       "            holiday       weekday    workingday    weathersit          temp  \\\n",
       "count  17379.000000  17379.000000  17379.000000  17379.000000  17379.000000   \n",
       "mean       0.028770      3.003683      0.682721      1.425283      0.496987   \n",
       "std        0.167165      2.005771      0.465431      0.639357      0.192556   \n",
       "min        0.000000      0.000000      0.000000      1.000000      0.020000   \n",
       "25%        0.000000      1.000000      0.000000      1.000000      0.340000   \n",
       "50%        0.000000      3.000000      1.000000      1.000000      0.500000   \n",
       "75%        0.000000      5.000000      1.000000      2.000000      0.660000   \n",
       "max        1.000000      6.000000      1.000000      4.000000      1.000000   \n",
       "\n",
       "              atemp           hum     windspeed        casual    registered  \\\n",
       "count  17379.000000  17379.000000  17379.000000  17379.000000  17379.000000   \n",
       "mean       0.475775      0.627229      0.190098     35.676218    153.786869   \n",
       "std        0.171850      0.192930      0.122340     49.305030    151.357286   \n",
       "min        0.000000      0.000000      0.000000      0.000000      0.000000   \n",
       "25%        0.333300      0.480000      0.104500      4.000000     34.000000   \n",
       "50%        0.484800      0.630000      0.194000     17.000000    115.000000   \n",
       "75%        0.621200      0.780000      0.253700     48.000000    220.000000   \n",
       "max        1.000000      1.000000      0.850700    367.000000    886.000000   \n",
       "\n",
       "                cnt  \n",
       "count  17379.000000  \n",
       "mean     189.463088  \n",
       "std      181.387599  \n",
       "min        1.000000  \n",
       "25%       40.000000  \n",
       "50%      142.000000  \n",
       "75%      281.000000  \n",
       "max      977.000000  "
      ]
     },
     "execution_count": 7,
     "metadata": {},
     "output_type": "execute_result"
    }
   ],
   "source": [
    "# Use this to ensure there are no absurd outliers before beginning analysis\n",
    "df.describe()"
   ]
  },
  {
   "cell_type": "markdown",
   "metadata": {
    "id": "tgcr-AKFFt-v"
   },
   "source": [
    "There seem to be no extreme outliers in this data, so we proceed to analysis."
   ]
  },
  {
   "cell_type": "markdown",
   "metadata": {
    "id": "ek5uwO9mGX-M"
   },
   "source": [
    "---"
   ]
  },
  {
   "cell_type": "markdown",
   "metadata": {
    "id": "5h_--ybCGxjX"
   },
   "source": [
    "### Task 4 from TSA_task:\n",
    "\n",
    "* Create the lag and rolling windows features for the \"cnt\" column such as: 1 day lag, 1 week lag, 1 month, etc. and last 3 day rolling"
   ]
  },
  {
   "cell_type": "markdown",
   "metadata": {
    "id": "LAhQTjgVIXbS"
   },
   "source": [
    "A 'lag' is a when a data record is shifted to a previous time step, it makes it possible to describe the history of records in the data, enabling time based analysis. Lets add the lag features of 1 day, 1 week and 1 month to the dataframe."
   ]
  },
  {
   "cell_type": "code",
   "execution_count": 8,
   "metadata": {
    "executionInfo": {
     "elapsed": 5,
     "status": "ok",
     "timestamp": 1741982010206,
     "user": {
      "displayName": "Daniel Iversen",
      "userId": "04843677771367093898"
     },
     "user_tz": -60
    },
    "id": "f5z0CLtvJHOq"
   },
   "outputs": [],
   "source": [
    "# Lag features for the 'cnt' feature\n",
    "df['cnt_lag_1d'] = df['cnt'].shift(24)  # 1 day)\n",
    "df['cnt_lag_1w'] = df['cnt'].shift(24 * 7)  # 1 week\n",
    "df['cnt_lag_1m'] = df['cnt'].shift(24 * 30)  # 1 month"
   ]
  },
  {
   "cell_type": "code",
   "execution_count": 9,
   "metadata": {},
   "outputs": [],
   "source": [
    "# Rolling window features for 'cnt'\n",
    "df['roll_mean_3h']  = df['cnt'].rolling(window=3).mean()    # Last 3 hours rolling mean\n",
    "df['roll_mean_3d']  = df['cnt'].rolling(window=72).mean()     # Last 3 days rolling mean (72 hours)"
   ]
  },
  {
   "cell_type": "markdown",
   "metadata": {
    "id": "LUJLq-DOKRsP"
   },
   "source": [
    "Lets take a look at our new features to see if they seem useful"
   ]
  },
  {
   "cell_type": "code",
   "execution_count": 10,
   "metadata": {
    "colab": {
     "base_uri": "https://localhost:8080/",
     "height": 586
    },
    "executionInfo": {
     "elapsed": 318,
     "status": "ok",
     "timestamp": 1741982010525,
     "user": {
      "displayName": "Daniel Iversen",
      "userId": "04843677771367093898"
     },
     "user_tz": -60
    },
    "id": "6bGZpzB_KWKC",
    "outputId": "6e4a4224-32f7-4ba5-bd43-eccdceda4539"
   },
   "outputs": [
    {
     "data": {
      "text/html": [
       "<div>\n",
       "<style scoped>\n",
       "    .dataframe tbody tr th:only-of-type {\n",
       "        vertical-align: middle;\n",
       "    }\n",
       "\n",
       "    .dataframe tbody tr th {\n",
       "        vertical-align: top;\n",
       "    }\n",
       "\n",
       "    .dataframe thead th {\n",
       "        text-align: right;\n",
       "    }\n",
       "</style>\n",
       "<table border=\"1\" class=\"dataframe\">\n",
       "  <thead>\n",
       "    <tr style=\"text-align: right;\">\n",
       "      <th></th>\n",
       "      <th>instant</th>\n",
       "      <th>dteday</th>\n",
       "      <th>season</th>\n",
       "      <th>yr</th>\n",
       "      <th>mnth</th>\n",
       "      <th>hr</th>\n",
       "      <th>holiday</th>\n",
       "      <th>weekday</th>\n",
       "      <th>workingday</th>\n",
       "      <th>weathersit</th>\n",
       "      <th>...</th>\n",
       "      <th>hum</th>\n",
       "      <th>windspeed</th>\n",
       "      <th>casual</th>\n",
       "      <th>registered</th>\n",
       "      <th>cnt</th>\n",
       "      <th>cnt_lag_1d</th>\n",
       "      <th>cnt_lag_1w</th>\n",
       "      <th>cnt_lag_1m</th>\n",
       "      <th>roll_mean_3h</th>\n",
       "      <th>roll_mean_3d</th>\n",
       "    </tr>\n",
       "  </thead>\n",
       "  <tbody>\n",
       "    <tr>\n",
       "      <th>1157</th>\n",
       "      <td>1158</td>\n",
       "      <td>2011-02-21</td>\n",
       "      <td>1</td>\n",
       "      <td>0</td>\n",
       "      <td>2</td>\n",
       "      <td>0</td>\n",
       "      <td>1</td>\n",
       "      <td>1</td>\n",
       "      <td>0</td>\n",
       "      <td>2</td>\n",
       "      <td>...</td>\n",
       "      <td>0.42</td>\n",
       "      <td>0.3284</td>\n",
       "      <td>7</td>\n",
       "      <td>30</td>\n",
       "      <td>37</td>\n",
       "      <td>29.0</td>\n",
       "      <td>51.0</td>\n",
       "      <td>35.0</td>\n",
       "      <td>46.000000</td>\n",
       "      <td>89.041667</td>\n",
       "    </tr>\n",
       "    <tr>\n",
       "      <th>6019</th>\n",
       "      <td>6020</td>\n",
       "      <td>2011-09-13</td>\n",
       "      <td>3</td>\n",
       "      <td>0</td>\n",
       "      <td>9</td>\n",
       "      <td>9</td>\n",
       "      <td>0</td>\n",
       "      <td>2</td>\n",
       "      <td>1</td>\n",
       "      <td>1</td>\n",
       "      <td>...</td>\n",
       "      <td>0.69</td>\n",
       "      <td>0.0896</td>\n",
       "      <td>35</td>\n",
       "      <td>179</td>\n",
       "      <td>214</td>\n",
       "      <td>176.0</td>\n",
       "      <td>172.0</td>\n",
       "      <td>269.0</td>\n",
       "      <td>333.666667</td>\n",
       "      <td>219.513889</td>\n",
       "    </tr>\n",
       "    <tr>\n",
       "      <th>5039</th>\n",
       "      <td>5040</td>\n",
       "      <td>2011-08-02</td>\n",
       "      <td>3</td>\n",
       "      <td>0</td>\n",
       "      <td>8</td>\n",
       "      <td>21</td>\n",
       "      <td>0</td>\n",
       "      <td>2</td>\n",
       "      <td>1</td>\n",
       "      <td>1</td>\n",
       "      <td>...</td>\n",
       "      <td>0.52</td>\n",
       "      <td>0.2239</td>\n",
       "      <td>53</td>\n",
       "      <td>201</td>\n",
       "      <td>254</td>\n",
       "      <td>220.0</td>\n",
       "      <td>267.0</td>\n",
       "      <td>167.0</td>\n",
       "      <td>332.000000</td>\n",
       "      <td>187.166667</td>\n",
       "    </tr>\n",
       "    <tr>\n",
       "      <th>370</th>\n",
       "      <td>371</td>\n",
       "      <td>2011-01-16</td>\n",
       "      <td>1</td>\n",
       "      <td>0</td>\n",
       "      <td>1</td>\n",
       "      <td>22</td>\n",
       "      <td>0</td>\n",
       "      <td>0</td>\n",
       "      <td>0</td>\n",
       "      <td>2</td>\n",
       "      <td>...</td>\n",
       "      <td>0.49</td>\n",
       "      <td>0.1343</td>\n",
       "      <td>2</td>\n",
       "      <td>19</td>\n",
       "      <td>21</td>\n",
       "      <td>26.0</td>\n",
       "      <td>62.0</td>\n",
       "      <td>NaN</td>\n",
       "      <td>35.333333</td>\n",
       "      <td>54.166667</td>\n",
       "    </tr>\n",
       "    <tr>\n",
       "      <th>12092</th>\n",
       "      <td>12093</td>\n",
       "      <td>2012-05-24</td>\n",
       "      <td>2</td>\n",
       "      <td>1</td>\n",
       "      <td>5</td>\n",
       "      <td>1</td>\n",
       "      <td>0</td>\n",
       "      <td>4</td>\n",
       "      <td>1</td>\n",
       "      <td>1</td>\n",
       "      <td>...</td>\n",
       "      <td>0.88</td>\n",
       "      <td>0.0896</td>\n",
       "      <td>9</td>\n",
       "      <td>21</td>\n",
       "      <td>30</td>\n",
       "      <td>32.0</td>\n",
       "      <td>28.0</td>\n",
       "      <td>7.0</td>\n",
       "      <td>64.000000</td>\n",
       "      <td>218.375000</td>\n",
       "    </tr>\n",
       "    <tr>\n",
       "      <th>12140</th>\n",
       "      <td>12141</td>\n",
       "      <td>2012-05-26</td>\n",
       "      <td>2</td>\n",
       "      <td>1</td>\n",
       "      <td>5</td>\n",
       "      <td>1</td>\n",
       "      <td>0</td>\n",
       "      <td>6</td>\n",
       "      <td>0</td>\n",
       "      <td>1</td>\n",
       "      <td>...</td>\n",
       "      <td>0.83</td>\n",
       "      <td>0.1343</td>\n",
       "      <td>18</td>\n",
       "      <td>64</td>\n",
       "      <td>82</td>\n",
       "      <td>42.0</td>\n",
       "      <td>104.0</td>\n",
       "      <td>23.0</td>\n",
       "      <td>121.333333</td>\n",
       "      <td>262.263889</td>\n",
       "    </tr>\n",
       "    <tr>\n",
       "      <th>2990</th>\n",
       "      <td>2991</td>\n",
       "      <td>2011-05-09</td>\n",
       "      <td>2</td>\n",
       "      <td>0</td>\n",
       "      <td>5</td>\n",
       "      <td>12</td>\n",
       "      <td>0</td>\n",
       "      <td>1</td>\n",
       "      <td>1</td>\n",
       "      <td>1</td>\n",
       "      <td>...</td>\n",
       "      <td>0.43</td>\n",
       "      <td>0.1940</td>\n",
       "      <td>35</td>\n",
       "      <td>160</td>\n",
       "      <td>195</td>\n",
       "      <td>382.0</td>\n",
       "      <td>187.0</td>\n",
       "      <td>142.0</td>\n",
       "      <td>146.333333</td>\n",
       "      <td>187.361111</td>\n",
       "    </tr>\n",
       "    <tr>\n",
       "      <th>5566</th>\n",
       "      <td>5567</td>\n",
       "      <td>2011-08-24</td>\n",
       "      <td>3</td>\n",
       "      <td>0</td>\n",
       "      <td>8</td>\n",
       "      <td>20</td>\n",
       "      <td>0</td>\n",
       "      <td>3</td>\n",
       "      <td>1</td>\n",
       "      <td>1</td>\n",
       "      <td>...</td>\n",
       "      <td>0.58</td>\n",
       "      <td>0.2985</td>\n",
       "      <td>45</td>\n",
       "      <td>289</td>\n",
       "      <td>334</td>\n",
       "      <td>260.0</td>\n",
       "      <td>280.0</td>\n",
       "      <td>302.0</td>\n",
       "      <td>465.000000</td>\n",
       "      <td>217.166667</td>\n",
       "    </tr>\n",
       "    <tr>\n",
       "      <th>1317</th>\n",
       "      <td>1318</td>\n",
       "      <td>2011-02-28</td>\n",
       "      <td>1</td>\n",
       "      <td>0</td>\n",
       "      <td>2</td>\n",
       "      <td>3</td>\n",
       "      <td>0</td>\n",
       "      <td>1</td>\n",
       "      <td>1</td>\n",
       "      <td>3</td>\n",
       "      <td>...</td>\n",
       "      <td>0.93</td>\n",
       "      <td>0.1642</td>\n",
       "      <td>0</td>\n",
       "      <td>1</td>\n",
       "      <td>1</td>\n",
       "      <td>37.0</td>\n",
       "      <td>147.0</td>\n",
       "      <td>2.0</td>\n",
       "      <td>13.000000</td>\n",
       "      <td>81.416667</td>\n",
       "    </tr>\n",
       "    <tr>\n",
       "      <th>3201</th>\n",
       "      <td>3202</td>\n",
       "      <td>2011-05-18</td>\n",
       "      <td>2</td>\n",
       "      <td>0</td>\n",
       "      <td>5</td>\n",
       "      <td>7</td>\n",
       "      <td>0</td>\n",
       "      <td>3</td>\n",
       "      <td>1</td>\n",
       "      <td>1</td>\n",
       "      <td>...</td>\n",
       "      <td>0.88</td>\n",
       "      <td>0.1940</td>\n",
       "      <td>14</td>\n",
       "      <td>260</td>\n",
       "      <td>274</td>\n",
       "      <td>151.0</td>\n",
       "      <td>318.0</td>\n",
       "      <td>168.0</td>\n",
       "      <td>128.000000</td>\n",
       "      <td>178.013889</td>\n",
       "    </tr>\n",
       "  </tbody>\n",
       "</table>\n",
       "<p>10 rows × 22 columns</p>\n",
       "</div>"
      ],
      "text/plain": [
       "       instant      dteday  season  yr  mnth  hr  holiday  weekday  \\\n",
       "1157      1158  2011-02-21       1   0     2   0        1        1   \n",
       "6019      6020  2011-09-13       3   0     9   9        0        2   \n",
       "5039      5040  2011-08-02       3   0     8  21        0        2   \n",
       "370        371  2011-01-16       1   0     1  22        0        0   \n",
       "12092    12093  2012-05-24       2   1     5   1        0        4   \n",
       "12140    12141  2012-05-26       2   1     5   1        0        6   \n",
       "2990      2991  2011-05-09       2   0     5  12        0        1   \n",
       "5566      5567  2011-08-24       3   0     8  20        0        3   \n",
       "1317      1318  2011-02-28       1   0     2   3        0        1   \n",
       "3201      3202  2011-05-18       2   0     5   7        0        3   \n",
       "\n",
       "       workingday  weathersit  ...   hum  windspeed  casual  registered  cnt  \\\n",
       "1157            0           2  ...  0.42     0.3284       7          30   37   \n",
       "6019            1           1  ...  0.69     0.0896      35         179  214   \n",
       "5039            1           1  ...  0.52     0.2239      53         201  254   \n",
       "370             0           2  ...  0.49     0.1343       2          19   21   \n",
       "12092           1           1  ...  0.88     0.0896       9          21   30   \n",
       "12140           0           1  ...  0.83     0.1343      18          64   82   \n",
       "2990            1           1  ...  0.43     0.1940      35         160  195   \n",
       "5566            1           1  ...  0.58     0.2985      45         289  334   \n",
       "1317            1           3  ...  0.93     0.1642       0           1    1   \n",
       "3201            1           1  ...  0.88     0.1940      14         260  274   \n",
       "\n",
       "       cnt_lag_1d  cnt_lag_1w  cnt_lag_1m  roll_mean_3h  roll_mean_3d  \n",
       "1157         29.0        51.0        35.0     46.000000     89.041667  \n",
       "6019        176.0       172.0       269.0    333.666667    219.513889  \n",
       "5039        220.0       267.0       167.0    332.000000    187.166667  \n",
       "370          26.0        62.0         NaN     35.333333     54.166667  \n",
       "12092        32.0        28.0         7.0     64.000000    218.375000  \n",
       "12140        42.0       104.0        23.0    121.333333    262.263889  \n",
       "2990        382.0       187.0       142.0    146.333333    187.361111  \n",
       "5566        260.0       280.0       302.0    465.000000    217.166667  \n",
       "1317         37.0       147.0         2.0     13.000000     81.416667  \n",
       "3201        151.0       318.0       168.0    128.000000    178.013889  \n",
       "\n",
       "[10 rows x 22 columns]"
      ]
     },
     "execution_count": 10,
     "metadata": {},
     "output_type": "execute_result"
    }
   ],
   "source": [
    "# Using data sample instead of data head here, as first few values will always be NaN since there are no previous data to calculate result from\n",
    "df.sample(10)"
   ]
  },
  {
   "cell_type": "markdown",
   "metadata": {
    "id": "FptISsD8LERi"
   },
   "source": [
    "Makes it very convenient to analyse variables like sales or rentals overtime"
   ]
  },
  {
   "cell_type": "markdown",
   "metadata": {
    "id": "BqPu3Fj0LMRq"
   },
   "source": [
    "---"
   ]
  },
  {
   "cell_type": "markdown",
   "metadata": {
    "id": "1e4Qcf3pLNL8"
   },
   "source": [
    "### Task 6 from TSA_task:\n",
    "\n",
    "* Implement XGBoost to predict how many bikes will be rented each hour of the last week and evaluate using appropriate metrics."
   ]
  },
  {
   "cell_type": "markdown",
   "metadata": {
    "id": "_qIE5vpGMAmW"
   },
   "source": [
    "To accomplish this task and train a XGBoost model, we must first make sure the data includes the following:\n",
    "\n",
    "* Convert dteday to datetime format\n",
    "* Create features 'hour', 'day', 'weekday', 'month' and 'year'\n",
    "* Make a train/test split on the data"
   ]
  },
  {
   "cell_type": "code",
   "execution_count": 11,
   "metadata": {
    "colab": {
     "base_uri": "https://localhost:8080/",
     "height": 586
    },
    "executionInfo": {
     "elapsed": 64,
     "status": "ok",
     "timestamp": 1741982010590,
     "user": {
      "displayName": "Daniel Iversen",
      "userId": "04843677771367093898"
     },
     "user_tz": -60
    },
    "id": "iook5CESMmUY",
    "outputId": "8472c8ac-c461-4c29-88e8-344e55c3bff3"
   },
   "outputs": [
    {
     "data": {
      "text/html": [
       "<div>\n",
       "<style scoped>\n",
       "    .dataframe tbody tr th:only-of-type {\n",
       "        vertical-align: middle;\n",
       "    }\n",
       "\n",
       "    .dataframe tbody tr th {\n",
       "        vertical-align: top;\n",
       "    }\n",
       "\n",
       "    .dataframe thead th {\n",
       "        text-align: right;\n",
       "    }\n",
       "</style>\n",
       "<table border=\"1\" class=\"dataframe\">\n",
       "  <thead>\n",
       "    <tr style=\"text-align: right;\">\n",
       "      <th></th>\n",
       "      <th>instant</th>\n",
       "      <th>dteday</th>\n",
       "      <th>season</th>\n",
       "      <th>yr</th>\n",
       "      <th>mnth</th>\n",
       "      <th>hr</th>\n",
       "      <th>holiday</th>\n",
       "      <th>weekday</th>\n",
       "      <th>workingday</th>\n",
       "      <th>weathersit</th>\n",
       "      <th>...</th>\n",
       "      <th>casual</th>\n",
       "      <th>registered</th>\n",
       "      <th>cnt</th>\n",
       "      <th>cnt_lag_1d</th>\n",
       "      <th>cnt_lag_1w</th>\n",
       "      <th>cnt_lag_1m</th>\n",
       "      <th>roll_mean_3h</th>\n",
       "      <th>roll_mean_3d</th>\n",
       "      <th>day</th>\n",
       "      <th>year</th>\n",
       "    </tr>\n",
       "  </thead>\n",
       "  <tbody>\n",
       "    <tr>\n",
       "      <th>5307</th>\n",
       "      <td>5308</td>\n",
       "      <td>2011-08-14</td>\n",
       "      <td>3</td>\n",
       "      <td>0</td>\n",
       "      <td>8</td>\n",
       "      <td>1</td>\n",
       "      <td>0</td>\n",
       "      <td>6</td>\n",
       "      <td>0</td>\n",
       "      <td>3</td>\n",
       "      <td>...</td>\n",
       "      <td>16</td>\n",
       "      <td>57</td>\n",
       "      <td>73</td>\n",
       "      <td>77.0</td>\n",
       "      <td>73.0</td>\n",
       "      <td>20.0</td>\n",
       "      <td>94.333333</td>\n",
       "      <td>193.583333</td>\n",
       "      <td>14</td>\n",
       "      <td>2011</td>\n",
       "    </tr>\n",
       "    <tr>\n",
       "      <th>10357</th>\n",
       "      <td>10358</td>\n",
       "      <td>2012-03-12</td>\n",
       "      <td>1</td>\n",
       "      <td>1</td>\n",
       "      <td>3</td>\n",
       "      <td>16</td>\n",
       "      <td>0</td>\n",
       "      <td>0</td>\n",
       "      <td>1</td>\n",
       "      <td>1</td>\n",
       "      <td>...</td>\n",
       "      <td>77</td>\n",
       "      <td>255</td>\n",
       "      <td>332</td>\n",
       "      <td>509.0</td>\n",
       "      <td>130.0</td>\n",
       "      <td>221.0</td>\n",
       "      <td>262.000000</td>\n",
       "      <td>193.805556</td>\n",
       "      <td>12</td>\n",
       "      <td>2012</td>\n",
       "    </tr>\n",
       "    <tr>\n",
       "      <th>7410</th>\n",
       "      <td>7411</td>\n",
       "      <td>2011-11-10</td>\n",
       "      <td>4</td>\n",
       "      <td>0</td>\n",
       "      <td>11</td>\n",
       "      <td>9</td>\n",
       "      <td>0</td>\n",
       "      <td>3</td>\n",
       "      <td>1</td>\n",
       "      <td>2</td>\n",
       "      <td>...</td>\n",
       "      <td>23</td>\n",
       "      <td>188</td>\n",
       "      <td>211</td>\n",
       "      <td>219.0</td>\n",
       "      <td>164.0</td>\n",
       "      <td>406.0</td>\n",
       "      <td>306.333333</td>\n",
       "      <td>172.291667</td>\n",
       "      <td>10</td>\n",
       "      <td>2011</td>\n",
       "    </tr>\n",
       "    <tr>\n",
       "      <th>3253</th>\n",
       "      <td>3254</td>\n",
       "      <td>2011-05-20</td>\n",
       "      <td>2</td>\n",
       "      <td>0</td>\n",
       "      <td>5</td>\n",
       "      <td>11</td>\n",
       "      <td>0</td>\n",
       "      <td>4</td>\n",
       "      <td>1</td>\n",
       "      <td>2</td>\n",
       "      <td>...</td>\n",
       "      <td>63</td>\n",
       "      <td>133</td>\n",
       "      <td>196</td>\n",
       "      <td>164.0</td>\n",
       "      <td>146.0</td>\n",
       "      <td>118.0</td>\n",
       "      <td>192.666667</td>\n",
       "      <td>182.402778</td>\n",
       "      <td>20</td>\n",
       "      <td>2011</td>\n",
       "    </tr>\n",
       "    <tr>\n",
       "      <th>7860</th>\n",
       "      <td>7861</td>\n",
       "      <td>2011-11-29</td>\n",
       "      <td>4</td>\n",
       "      <td>0</td>\n",
       "      <td>11</td>\n",
       "      <td>4</td>\n",
       "      <td>0</td>\n",
       "      <td>1</td>\n",
       "      <td>1</td>\n",
       "      <td>2</td>\n",
       "      <td>...</td>\n",
       "      <td>1</td>\n",
       "      <td>5</td>\n",
       "      <td>6</td>\n",
       "      <td>4.0</td>\n",
       "      <td>3.0</td>\n",
       "      <td>33.0</td>\n",
       "      <td>4.333333</td>\n",
       "      <td>138.083333</td>\n",
       "      <td>29</td>\n",
       "      <td>2011</td>\n",
       "    </tr>\n",
       "    <tr>\n",
       "      <th>6311</th>\n",
       "      <td>6312</td>\n",
       "      <td>2011-09-25</td>\n",
       "      <td>4</td>\n",
       "      <td>0</td>\n",
       "      <td>9</td>\n",
       "      <td>13</td>\n",
       "      <td>0</td>\n",
       "      <td>6</td>\n",
       "      <td>0</td>\n",
       "      <td>2</td>\n",
       "      <td>...</td>\n",
       "      <td>122</td>\n",
       "      <td>247</td>\n",
       "      <td>369</td>\n",
       "      <td>460.0</td>\n",
       "      <td>376.0</td>\n",
       "      <td>187.0</td>\n",
       "      <td>381.000000</td>\n",
       "      <td>180.694444</td>\n",
       "      <td>25</td>\n",
       "      <td>2011</td>\n",
       "    </tr>\n",
       "    <tr>\n",
       "      <th>12848</th>\n",
       "      <td>12849</td>\n",
       "      <td>2012-06-24</td>\n",
       "      <td>3</td>\n",
       "      <td>1</td>\n",
       "      <td>6</td>\n",
       "      <td>13</td>\n",
       "      <td>0</td>\n",
       "      <td>6</td>\n",
       "      <td>0</td>\n",
       "      <td>1</td>\n",
       "      <td>...</td>\n",
       "      <td>237</td>\n",
       "      <td>348</td>\n",
       "      <td>585</td>\n",
       "      <td>564.0</td>\n",
       "      <td>614.0</td>\n",
       "      <td>333.0</td>\n",
       "      <td>549.000000</td>\n",
       "      <td>276.583333</td>\n",
       "      <td>24</td>\n",
       "      <td>2012</td>\n",
       "    </tr>\n",
       "    <tr>\n",
       "      <th>16999</th>\n",
       "      <td>17000</td>\n",
       "      <td>2012-12-16</td>\n",
       "      <td>4</td>\n",
       "      <td>1</td>\n",
       "      <td>12</td>\n",
       "      <td>2</td>\n",
       "      <td>0</td>\n",
       "      <td>6</td>\n",
       "      <td>0</td>\n",
       "      <td>2</td>\n",
       "      <td>...</td>\n",
       "      <td>8</td>\n",
       "      <td>79</td>\n",
       "      <td>87</td>\n",
       "      <td>69.0</td>\n",
       "      <td>78.0</td>\n",
       "      <td>21.0</td>\n",
       "      <td>97.666667</td>\n",
       "      <td>228.055556</td>\n",
       "      <td>16</td>\n",
       "      <td>2012</td>\n",
       "    </tr>\n",
       "    <tr>\n",
       "      <th>3061</th>\n",
       "      <td>3062</td>\n",
       "      <td>2011-05-12</td>\n",
       "      <td>2</td>\n",
       "      <td>0</td>\n",
       "      <td>5</td>\n",
       "      <td>11</td>\n",
       "      <td>0</td>\n",
       "      <td>3</td>\n",
       "      <td>1</td>\n",
       "      <td>1</td>\n",
       "      <td>...</td>\n",
       "      <td>43</td>\n",
       "      <td>136</td>\n",
       "      <td>179</td>\n",
       "      <td>141.0</td>\n",
       "      <td>148.0</td>\n",
       "      <td>49.0</td>\n",
       "      <td>179.333333</td>\n",
       "      <td>188.625000</td>\n",
       "      <td>12</td>\n",
       "      <td>2011</td>\n",
       "    </tr>\n",
       "    <tr>\n",
       "      <th>6258</th>\n",
       "      <td>6259</td>\n",
       "      <td>2011-09-23</td>\n",
       "      <td>4</td>\n",
       "      <td>0</td>\n",
       "      <td>9</td>\n",
       "      <td>8</td>\n",
       "      <td>0</td>\n",
       "      <td>4</td>\n",
       "      <td>1</td>\n",
       "      <td>3</td>\n",
       "      <td>...</td>\n",
       "      <td>20</td>\n",
       "      <td>297</td>\n",
       "      <td>317</td>\n",
       "      <td>415.0</td>\n",
       "      <td>409.0</td>\n",
       "      <td>444.0</td>\n",
       "      <td>225.000000</td>\n",
       "      <td>178.916667</td>\n",
       "      <td>23</td>\n",
       "      <td>2011</td>\n",
       "    </tr>\n",
       "  </tbody>\n",
       "</table>\n",
       "<p>10 rows × 24 columns</p>\n",
       "</div>"
      ],
      "text/plain": [
       "       instant     dteday  season  yr  mnth  hr  holiday  weekday  workingday  \\\n",
       "5307      5308 2011-08-14       3   0     8   1        0        6           0   \n",
       "10357    10358 2012-03-12       1   1     3  16        0        0           1   \n",
       "7410      7411 2011-11-10       4   0    11   9        0        3           1   \n",
       "3253      3254 2011-05-20       2   0     5  11        0        4           1   \n",
       "7860      7861 2011-11-29       4   0    11   4        0        1           1   \n",
       "6311      6312 2011-09-25       4   0     9  13        0        6           0   \n",
       "12848    12849 2012-06-24       3   1     6  13        0        6           0   \n",
       "16999    17000 2012-12-16       4   1    12   2        0        6           0   \n",
       "3061      3062 2011-05-12       2   0     5  11        0        3           1   \n",
       "6258      6259 2011-09-23       4   0     9   8        0        4           1   \n",
       "\n",
       "       weathersit  ...  casual  registered  cnt  cnt_lag_1d  cnt_lag_1w  \\\n",
       "5307            3  ...      16          57   73        77.0        73.0   \n",
       "10357           1  ...      77         255  332       509.0       130.0   \n",
       "7410            2  ...      23         188  211       219.0       164.0   \n",
       "3253            2  ...      63         133  196       164.0       146.0   \n",
       "7860            2  ...       1           5    6         4.0         3.0   \n",
       "6311            2  ...     122         247  369       460.0       376.0   \n",
       "12848           1  ...     237         348  585       564.0       614.0   \n",
       "16999           2  ...       8          79   87        69.0        78.0   \n",
       "3061            1  ...      43         136  179       141.0       148.0   \n",
       "6258            3  ...      20         297  317       415.0       409.0   \n",
       "\n",
       "       cnt_lag_1m  roll_mean_3h  roll_mean_3d  day  year  \n",
       "5307         20.0     94.333333    193.583333   14  2011  \n",
       "10357       221.0    262.000000    193.805556   12  2012  \n",
       "7410        406.0    306.333333    172.291667   10  2011  \n",
       "3253        118.0    192.666667    182.402778   20  2011  \n",
       "7860         33.0      4.333333    138.083333   29  2011  \n",
       "6311        187.0    381.000000    180.694444   25  2011  \n",
       "12848       333.0    549.000000    276.583333   24  2012  \n",
       "16999        21.0     97.666667    228.055556   16  2012  \n",
       "3061         49.0    179.333333    188.625000   12  2011  \n",
       "6258        444.0    225.000000    178.916667   23  2011  \n",
       "\n",
       "[10 rows x 24 columns]"
      ]
     },
     "execution_count": 11,
     "metadata": {},
     "output_type": "execute_result"
    }
   ],
   "source": [
    "# Convert 'date' to datetime format\n",
    "df['dteday'] = pd.to_datetime(df['dteday'])\n",
    "# Create time-based features\n",
    "df['day'] = df['dteday'].dt.day\n",
    "df['year'] = df['dteday'].dt.year\n",
    "df['weekday'] = df['dteday'].dt.weekday  # 0 = Monday, 6 = Sunday\n",
    "# Take a look at the dataframe after adding in the above\n",
    "df.sample(10)"
   ]
  },
  {
   "cell_type": "markdown",
   "metadata": {
    "id": "V3_QJ9nIM2zb"
   },
   "source": [
    "Few preprocessing steps before training the XGBoost model"
   ]
  },
  {
   "cell_type": "code",
   "execution_count": 12,
   "metadata": {
    "colab": {
     "base_uri": "https://localhost:8080/",
     "height": 383
    },
    "executionInfo": {
     "elapsed": 86,
     "status": "ok",
     "timestamp": 1741982010677,
     "user": {
      "displayName": "Daniel Iversen",
      "userId": "04843677771367093898"
     },
     "user_tz": -60
    },
    "id": "TQ-DwF-8N3LE",
    "outputId": "9df894da-85f5-4f89-a91d-8c26c4090e56"
   },
   "outputs": [
    {
     "name": "stdout",
     "output_type": "stream",
     "text": [
      "<class 'pandas.core.frame.DataFrame'>\n",
      "Index: 16659 entries, 720 to 17378\n",
      "Data columns (total 24 columns):\n",
      " #   Column        Non-Null Count  Dtype         \n",
      "---  ------        --------------  -----         \n",
      " 0   instant       16659 non-null  int64         \n",
      " 1   dteday        16659 non-null  datetime64[ns]\n",
      " 2   season        16659 non-null  int64         \n",
      " 3   yr            16659 non-null  int64         \n",
      " 4   mnth          16659 non-null  int64         \n",
      " 5   hr            16659 non-null  int64         \n",
      " 6   holiday       16659 non-null  int64         \n",
      " 7   weekday       16659 non-null  int32         \n",
      " 8   workingday    16659 non-null  int64         \n",
      " 9   weathersit    16659 non-null  int64         \n",
      " 10  temp          16659 non-null  float64       \n",
      " 11  atemp         16659 non-null  float64       \n",
      " 12  hum           16659 non-null  float64       \n",
      " 13  windspeed     16659 non-null  float64       \n",
      " 14  casual        16659 non-null  int64         \n",
      " 15  registered    16659 non-null  int64         \n",
      " 16  cnt           16659 non-null  int64         \n",
      " 17  cnt_lag_1d    16659 non-null  float64       \n",
      " 18  cnt_lag_1w    16659 non-null  float64       \n",
      " 19  cnt_lag_1m    16659 non-null  float64       \n",
      " 20  roll_mean_3h  16659 non-null  float64       \n",
      " 21  roll_mean_3d  16659 non-null  float64       \n",
      " 22  day           16659 non-null  int32         \n",
      " 23  year          16659 non-null  int32         \n",
      "dtypes: datetime64[ns](1), float64(9), int32(3), int64(11)\n",
      "memory usage: 3.0 MB\n",
      "None\n"
     ]
    }
   ],
   "source": [
    "df = df.dropna()\n",
    "print(df.info())"
   ]
  },
  {
   "cell_type": "markdown",
   "metadata": {},
   "source": [
    "Implement the model:"
   ]
  },
  {
   "cell_type": "code",
   "execution_count": 13,
   "metadata": {
    "executionInfo": {
     "elapsed": 1,
     "status": "ok",
     "timestamp": 1741982201533,
     "user": {
      "displayName": "Daniel Iversen",
      "userId": "04843677771367093898"
     },
     "user_tz": -60
    },
    "id": "1zVnMIgYOTNY"
   },
   "outputs": [
    {
     "name": "stdout",
     "output_type": "stream",
     "text": [
      "Train shape: (16491, 24)\n",
      "Test shape: (168, 24)\n"
     ]
    }
   ],
   "source": [
    "# For an hourly dataset, 7 days = 168 hours.\n",
    "train = df.iloc[:-168].copy()   # Training set: all data except the last week\n",
    "test = df.iloc[-168:].copy()      # Test set: the last week of data\n",
    "\n",
    "print(\"Train shape:\", train.shape)\n",
    "print(\"Test shape:\", test.shape)"
   ]
  },
  {
   "cell_type": "markdown",
   "metadata": {},
   "source": [
    "Testing the lag length, it should be 7 days, so the span from 24th -> 31st seems correct"
   ]
  },
  {
   "cell_type": "code",
   "execution_count": 14,
   "metadata": {},
   "outputs": [
    {
     "name": "stdout",
     "output_type": "stream",
     "text": [
      "Test period from 2012-12-24 00:00:00 to 2012-12-31 00:00:00\n"
     ]
    }
   ],
   "source": [
    "print(\"Test period from\", test['dteday'].min(), \"to\", test['dteday'].max())"
   ]
  },
  {
   "cell_type": "code",
   "execution_count": 15,
   "metadata": {},
   "outputs": [
    {
     "name": "stdout",
     "output_type": "stream",
     "text": [
      "Features used: ['hr', 'weekday', 'mnth', 'yr', 'cnt_lag_1d', 'cnt_lag_1w', 'cnt_lag_1m', 'roll_mean_3h', 'roll_mean_3d']\n",
      "     hr  weekday  mnth  yr  cnt_lag_1d  cnt_lag_1w  cnt_lag_1m  roll_mean_3h  \\\n",
      "720   9        2     2   0       116.0         9.0        16.0    109.000000   \n",
      "721  10        2     2   0        47.0        36.0        40.0    113.000000   \n",
      "722  11        2     2   0        51.0       108.0        32.0     78.666667   \n",
      "723  12        2     2   0        55.0       238.0        13.0     59.000000   \n",
      "724  13        2     2   0        52.0       144.0         1.0     63.666667   \n",
      "\n",
      "     roll_mean_3d  \n",
      "720     58.555556  \n",
      "721     58.875000  \n",
      "722     58.708333  \n",
      "723     58.777778  \n",
      "724     58.472222  \n"
     ]
    }
   ],
   "source": [
    "# Define the features for XGBoost; adjust based on your earlier feature engineering.\n",
    "FEATURES_XGB = [\n",
    "    'hr', 'weekday', 'mnth', 'yr',  # basic time features\n",
    "    'cnt_lag_1d', 'cnt_lag_1w', 'cnt_lag_1m',     # lag features: 1 day, 1 week, 1 month lags\n",
    "    'roll_mean_3h', 'roll_mean_3d'     # rolling means: last 3 hours, last 3 days\n",
    "]\n",
    "TARGET = 'cnt'\n",
    "\n",
    "# Create training and test feature matrices and target vectors\n",
    "X_train_xgb = train[FEATURES_XGB].copy()\n",
    "y_train_xgb = train[TARGET].copy()\n",
    "X_test_xgb = test[FEATURES_XGB].copy()\n",
    "y_test_xgb = test[TARGET].copy()\n",
    "\n",
    "# If any non-numeric column (e.g., 'dteday') exists in X, drop it.\n",
    "for col in ['dteday']:\n",
    "    if col in X_train_xgb.columns:\n",
    "        X_train_xgb = X_train_xgb.drop(columns=[col])\n",
    "    if col in X_test_xgb.columns:\n",
    "        X_test_xgb = X_test_xgb.drop(columns=[col])\n",
    "\n",
    "print(\"Features used:\", FEATURES_XGB)\n",
    "print(X_train_xgb.head())"
   ]
  },
  {
   "cell_type": "markdown",
   "metadata": {},
   "source": [
    "### Take aways\n",
    "\n",
    "* The model gives information about bike rental trends over specified time rolls"
   ]
  },
  {
   "cell_type": "code",
   "execution_count": 16,
   "metadata": {},
   "outputs": [
    {
     "name": "stdout",
     "output_type": "stream",
     "text": [
      "[0]\ttrain-rmse:181.84841\teval-rmse:141.02345\n",
      "[100]\ttrain-rmse:93.19560\teval-rmse:69.66656\n"
     ]
    },
    {
     "name": "stderr",
     "output_type": "stream",
     "text": [
      "c:\\Users\\abjar\\AppData\\Local\\Programs\\Python\\Python310\\lib\\site-packages\\xgboost\\core.py:726: FutureWarning: Pass `evals` as keyword args.\n",
      "  warnings.warn(msg, FutureWarning)\n"
     ]
    },
    {
     "name": "stdout",
     "output_type": "stream",
     "text": [
      "[200]\ttrain-rmse:63.94268\teval-rmse:46.20858\n",
      "[300]\ttrain-rmse:54.43025\teval-rmse:37.94725\n",
      "[400]\ttrain-rmse:50.33304\teval-rmse:34.83355\n",
      "[500]\ttrain-rmse:47.50929\teval-rmse:32.49857\n",
      "[600]\ttrain-rmse:45.35715\teval-rmse:30.77339\n",
      "[700]\ttrain-rmse:43.63666\teval-rmse:29.08716\n",
      "[800]\ttrain-rmse:42.27299\teval-rmse:28.31922\n",
      "[900]\ttrain-rmse:41.14229\teval-rmse:27.59785\n",
      "[1000]\ttrain-rmse:40.17101\teval-rmse:27.14876\n",
      "[1100]\ttrain-rmse:39.11173\teval-rmse:26.69596\n",
      "[1200]\ttrain-rmse:38.28869\teval-rmse:26.41518\n",
      "[1300]\ttrain-rmse:37.41856\teval-rmse:26.22943\n",
      "[1400]\ttrain-rmse:36.68188\teval-rmse:26.08144\n",
      "[1416]\ttrain-rmse:36.53311\teval-rmse:26.11417\n",
      "Best iteration: 1367\n"
     ]
    }
   ],
   "source": [
    "dtrain = xgb.DMatrix(X_train_xgb, label=y_train_xgb)\n",
    "dtest = xgb.DMatrix(X_test_xgb, label=y_test_xgb)\n",
    "\n",
    "params = {\n",
    "    'objective': 'reg:squarederror',  # Regression objective\n",
    "    'eval_metric': 'rmse',             # Use RMSE for evaluation\n",
    "    'max_depth': 3,                    # Maximum depth of trees\n",
    "    'learning_rate': 0.01,             # Learning rate\n",
    "    'colsample_bytree': 0.8,           # Subsample of features\n",
    "    'subsample': 0.8,                  # Subsample ratio of observations\n",
    "    'seed': 42\n",
    "}\n",
    "\n",
    "watchlist = [(dtrain, 'train'), (dtest, 'eval')]\n",
    "num_round = 4000\n",
    "early_stopping_rounds = 50\n",
    "\n",
    "# Train the XGBoost model with early stopping\n",
    "model = xgb.train(params, dtrain, num_round, watchlist, early_stopping_rounds=early_stopping_rounds, verbose_eval=100)\n",
    "\n",
    "print(\"Best iteration:\", model.best_iteration)"
   ]
  },
  {
   "cell_type": "markdown",
   "metadata": {},
   "source": [
    "Trying out the best amount of iterations"
   ]
  },
  {
   "cell_type": "markdown",
   "metadata": {},
   "source": [
    "Lets try amd visualize the Actual vs Predicted bike rentals:"
   ]
  },
  {
   "cell_type": "code",
   "execution_count": 17,
   "metadata": {},
   "outputs": [
    {
     "name": "stdout",
     "output_type": "stream",
     "text": [
      "XGBoost - Test RMSE: 26.111354933157195\n",
      "XGBoost - Test MAE: 18.6739559173584\n"
     ]
    },
    {
     "data": {
      "image/png": "[encoded data removed]",
      "text/plain": [
       "<Figure size 1000x600 with 1 Axes>"
      ]
     },
     "metadata": {},
     "output_type": "display_data"
    }
   ],
   "source": [
    "import numpy as np\n",
    "from sklearn.metrics import mean_squared_error, mean_absolute_error\n",
    "\n",
    "# Predict on the test set\n",
    "y_pred_xgb = model.predict(dtest)\n",
    "\n",
    "# Calculate RMSE and MAE\n",
    "rmse_xgb = np.sqrt(mean_squared_error(y_test_xgb, y_pred_xgb))\n",
    "mae_xgb = mean_absolute_error(y_test_xgb, y_pred_xgb)\n",
    "\n",
    "print(\"XGBoost - Test RMSE:\", rmse_xgb)\n",
    "print(\"XGBoost - Test MAE:\", mae_xgb)\n",
    "\n",
    "# Plot actual vs. predicted counts for the last week\n",
    "plt.figure(figsize=(10, 6))\n",
    "plt.plot(test.index, y_test_xgb, label='Actual', color='blue')\n",
    "plt.plot(test.index, y_pred_xgb, label='Predicted', color='red', linestyle='dashed')\n",
    "plt.title('Actual vs. Predicted Bike Rentals (Last Week)')\n",
    "plt.xlabel('Datetime')\n",
    "plt.ylabel('Bike Rentals (cnt)')\n",
    "plt.legend()\n",
    "plt.xticks(rotation=45)\n",
    "plt.tight_layout()\n",
    "plt.show()"
   ]
  },
  {
   "cell_type": "code",
   "execution_count": 18,
   "metadata": {},
   "outputs": [
    {
     "name": "stdout",
     "output_type": "stream",
     "text": [
      "test r2:  0.8702120780944824\n"
     ]
    }
   ],
   "source": [
    "r2 = r2_score(y_test_xgb, y_pred_xgb)\n",
    "\n",
    "print(\"test r2: \", r2)"
   ]
  },
  {
   "cell_type": "markdown",
   "metadata": {},
   "source": [
    "looking at both the rmse, r2 and the graph above its safe to say that the predictive model is accurate at predicting bike rentals, it can predict around 87% of variance in bike sales, which is fairly high"
   ]
  }
 ],
 "metadata": {
  "colab": {
   "authorship_tag": "ABX9TyMb26EOAn167R98sMfWxmna",
   "provenance": []
  },
  "kernelspec": {
   "display_name": "Python 3",
   "name": "python3"
  },
  "language_info": {
   "codemirror_mode": {
    "name": "ipython",
    "version": 3
   },
   "file_extension": ".py",
   "mimetype": "text/x-python",
   "name": "python",
   "nbconvert_exporter": "python",
   "pygments_lexer": "ipython3",
   "version": "3.10.11"
  }
 },
 "nbformat": 4,
 "nbformat_minor": 0
}
